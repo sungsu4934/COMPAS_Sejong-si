{
 "cells": [
  {
   "cell_type": "markdown",
   "metadata": {},
   "source": [
    "# 세종시 주택시장의 이해 - 행복도시"
   ]
  },
  {
   "cell_type": "markdown",
   "metadata": {},
   "source": [
    "# 0. 필요한 라이브러리 및 데이터 불러오기"
   ]
  },
  {
   "cell_type": "code",
   "execution_count": null,
   "metadata": {},
   "outputs": [],
   "source": [
    "from geoband.API import *\n",
    "import pandas as pd\n",
    "import numpy as np\n",
    "import json\n",
    "import math\n",
    "import datetime\n",
    "from datetime import datetime\n",
    "from json import dumps\n",
    "import plotly\n",
    "import plotly.offline as pyo\n",
    "import plotly.graph_objects as go\n",
    "import folium\n",
    "import geopandas as gpd\n",
    "from folium.features import DivIcon\n",
    "from fiona.crs import from_epsg\n",
    "import statsmodels.api as sm\n",
    "import shapefile"
   ]
  },
  {
   "cell_type": "code",
   "execution_count": null,
   "metadata": {},
   "outputs": [],
   "source": [
    "#compas 데이터 불러오기\n",
    "GetCompasData('SBJ_2102_001', '1', '1.세종시_전유부.csv')\n",
    "GetCompasData('SBJ_2102_001', '2', '2.세종시_표제부.csv')\n",
    "GetCompasData('SBJ_2102_001', '3', '3.세종시_아파트(매매)_실거래가.csv')\n",
    "GetCompasData('SBJ_2102_001', '4', '4.세종시_연립다세대(매매)_실거래가.csv')\n",
    "GetCompasData('SBJ_2102_001', '5', '5.세종시_단독다가구(매매)_실거래가.csv')\n",
    "GetCompasData('SBJ_2102_001', '6', '6.세종시_오피스텔(매매)_실거래가.csv')\n",
    "GetCompasData('SBJ_2102_001', '7', '7.세종시_아파트(전월세)_실거래가.csv')\n",
    "GetCompasData('SBJ_2102_001', '8', '8.세종시_연립다세대(전월세)_실거래가.csv')\n",
    "GetCompasData('SBJ_2102_001', '9', '9.세종시_단독다가구(전월세)_실거래가.csv')\n",
    "GetCompasData('SBJ_2102_001', '10', '10.세종시_오피스텔(전월세)_실거래가.csv')\n",
    "GetCompasData('SBJ_2102_001', '11', '11.세종시_상업업무용(매매)_실거래가.csv')\n",
    "GetCompasData('SBJ_2102_001', '12', '12.세종시_토지(매매)_실거래가.csv')\n",
    "GetCompasData('SBJ_2102_001', '13', '13.세종시_분양권_실거래가.csv')\n",
    "GetCompasData('SBJ_2102_001', '14', '14.세종시_상권정보.csv')\n",
    "GetCompasData('SBJ_2102_001', '15', '15.세종시_상권정보_업종코드.csv')\n",
    "GetCompasData('SBJ_2102_001', '16', '16.세종시_사업체_매출정보.geojson')\n",
    "GetCompasData('SBJ_2102_001', '17', '17.세종시_사업체_매출정보.csv')\n",
    "GetCompasData('SBJ_2102_001', '18', '18.세종시_개별공시지가(2017~2020).csv')\n",
    "GetCompasData('SBJ_2102_001', '19', '19.세종시_연령별_거주인구정보_격자.geojson')\n",
    "GetCompasData('SBJ_2102_001', '20', '20.세종시_전입자수.csv')\n",
    "GetCompasData('SBJ_2102_001', '21', '21.세종시_전출자수.csv')\n",
    "GetCompasData('SBJ_2102_001', '22', '22.세종시_연령별_인구현황.csv')\n",
    "GetCompasData('SBJ_2102_001', '23', '23.세종시_도로명주소_건물.geojson')\n",
    "GetCompasData('SBJ_2102_001', '24', '24.세종시_건축물연면적_격자.geojson')\n",
    "GetCompasData('SBJ_2102_001', '25', '25.세종시_가구_월평균_소비지출액.csv')\n",
    "GetCompasData('SBJ_2102_001', '26', '26.세종시_거주기간.csv')\n",
    "GetCompasData('SBJ_2102_001', '27', '27.세종시_월평균_가구소득.csv')\n",
    "GetCompasData('SBJ_2102_001', '28', '28.세종시_지역별_세대원수별_세대수.csv')\n",
    "GetCompasData('SBJ_2102_001', '29', '29.세종시_거주의사(향후).csv')\n",
    "GetCompasData('SBJ_2102_001', '30', '30.세종시_법정경계(시군구).geojson')\n",
    "GetCompasData('SBJ_2102_001', '31', '31.세종시_법정경계(읍면동).geojson')\n",
    "GetCompasData('SBJ_2102_001', '32', '32.세종시_행정경계(읍면동).geojson')\n",
    "GetCompasData('SBJ_2102_001', '33', '33.세종시_지적도.geojson')\n",
    "GetCompasData('SBJ_2102_001', '34', '34.세종시_건물분포_이미지.zip')\n",
    "GetCompasData('SBJ_2102_001', '35', '35.코드정의서.xlsx')"
   ]
  },
  {
   "cell_type": "code",
   "execution_count": null,
   "metadata": {},
   "outputs": [],
   "source": [
    "df1 = pd.read_csv('1.세종시_전유부.csv', encoding='utf-8')\n",
    "df2 = pd.read_csv('2.세종시_표제부.csv', encoding='utf-8')\n",
    "df3 = pd.read_csv('3.세종시_아파트(매매)_실거래가.csv', encoding='utf-8')\n",
    "df4 = pd.read_csv('4.세종시_연립다세대(매매)_실거래가.csv', encoding='utf-8')\n",
    "df5 = pd.read_csv('5.세종시_단독다가구(매매)_실거래가.csv', encoding='utf-8')\n",
    "df6 = pd.read_csv('6.세종시_오피스텔(매매)_실거래가.csv', encoding='utf-8')\n",
    "df7 = pd.read_csv('7.세종시_아파트(전월세)_실거래가.csv', encoding='utf-8')\n",
    "df8 = pd.read_csv('8.세종시_연립다세대(전월세)_실거래가.csv', encoding='utf-8')\n",
    "df9 = pd.read_csv('9.세종시_단독다가구(전월세)_실거래가.csv', encoding='utf-8')\n",
    "df10 = pd.read_csv('10.세종시_오피스텔(전월세)_실거래가.csv', encoding='utf-8')\n",
    "df11 = pd.read_csv('11.세종시_상업업무용(매매)_실거래가.csv', encoding='utf-8')\n",
    "df12 = pd.read_csv('12.세종시_토지(매매)_실거래가.csv', encoding='utf-8')\n",
    "df13 = pd.read_csv('13.세종시_분양권_실거래가.csv', encoding='utf-8')\n",
    "df14 = pd.read_csv('14.세종시_상권정보.csv', encoding='utf-8')\n",
    "df15 = pd.read_csv('15.세종시_상권정보_업종코드.csv', encoding='utf-8')\n",
    "df16 = json.load(open('16.세종시_사업체_매출정보.geojson', encoding = 'utf-8'))\n",
    "df17 = pd.read_csv('17.세종시_사업체_매출정보.csv', encoding='utf-8')\n",
    "df18 = pd.read_csv('18.세종시_개별공시지가(2017~2020).csv', encoding='utf-8')\n",
    "df19 = json.load(open('19.세종시_연령별_거주인구정보_격자.geojson', encoding = 'utf-8'))\n",
    "df20 = pd.read_csv('20.세종시_전입자수.csv', encoding='utf-8')\n",
    "df21 = pd.read_csv('21.세종시_전출자수.csv', encoding='utf-8')\n",
    "df22 = pd.read_csv('22.세종시_연령별_인구현황.csv', encoding='utf-8')\n",
    "df23 = json.load(open('23.세종시_도로명주소_건물.geojson', encoding = 'utf-8'))\n",
    "df24 = json.load(open('24.세종시_건축물연면적_격자.geojson', encoding = 'utf-8'))\n",
    "df25 = pd.read_csv('25.세종시_가구_월평균_소비지출액.csv', encoding='utf-8')\n",
    "df26 = pd.read_csv('26.세종시_거주기간.csv', encoding='utf-8')\n",
    "df27 = pd.read_csv('27.세종시_월평균_가구소득.csv', encoding='utf-8')\n",
    "df28 = pd.read_csv('28.세종시_지역별_세대원수별_세대수.csv', encoding='utf-8')\n",
    "df29 = pd.read_csv('29.세종시_거주의사(향후).csv', encoding='utf-8')\n",
    "df30 = json.load(open('30.세종시_법정경계(시군구).geojson', encoding = 'utf-8'))\n",
    "df31 = json.load(open('31.세종시_법정경계(읍면동).geojson', encoding = 'utf-8'))\n",
    "df32 = json.load(open('32.세종시_행정경계(읍면동).geojson', encoding = 'utf-8'))\n",
    "df33 = json.load(open('33.세종시_지적도.geojson', encoding = 'utf-8'))"
   ]
  },
  {
   "cell_type": "markdown",
   "metadata": {},
   "source": [
    "# 1. 세종시 기초 현황"
   ]
  },
  {
   "cell_type": "markdown",
   "metadata": {},
   "source": [
    "## 1.1 인구, 가구, 주택보급율\n",
    "\n",
    "- df22 : 22.세종시_연령별_인구현황.csv\n",
    "    - (17년~20년)연도별 12월 기준으로 인구 수 도출\n",
    "    \n",
    "    \n",
    "- df_e_country : 주택보급률 원본_e-나라지표.csv (외부데이터)\n",
    "    - (17년~19년)연도별 가구수, 주택보급율 도출"
   ]
  },
  {
   "cell_type": "code",
   "execution_count": null,
   "metadata": {},
   "outputs": [],
   "source": [
    "# 세종시 연도별 주택보급률, 가구수 도출 (데이터 출처 : e_나라지표)\n",
    "df_e_country = pd.read_csv('주택보급률 원본_e-나라지표.csv')\n",
    "target_df = df_e_country.loc[25:27,['신 주택보급률 [단위 : 천호, 천가구, %]','Unnamed: 1','Unnamed: 4','Unnamed: 5','Unnamed: 6']]\n",
    "target_df.columns=['지역','종류','2017년', '2018년', '2019년']\n",
    "data1 = [float(target_df.loc[25,'2017년']), float(target_df.loc[25,'2018년']), float(target_df.loc[25,'2019년'])]\n",
    "data2 = [float(target_df.loc[27,'2017년']), float(target_df.loc[27,'2018년']), float(target_df.loc[27,'2019년'])]"
   ]
  },
  {
   "cell_type": "code",
   "execution_count": null,
   "metadata": {},
   "outputs": [],
   "source": [
    "# 세종시 연도별 12월 인구 수만 추출 (20년은 제외_e 나라지표 기준)\n",
    "df_all = df22[df22['읍면동']=='세종특별자치시']\n",
    "list_all = [col for col in df_all.columns if '총_거주자_수' in col]\n",
    "list_all_2017 = [col for col in df_all[list_all].columns if '2017' in col]\n",
    "list_all_2017_12 = [col for col in df_all[list_all_2017].columns if '12' in col]\n",
    "list_all_2018 = [col for col in df_all[list_all].columns if '2018' in col]\n",
    "list_all_2018_12 = [col for col in df_all[list_all_2018].columns if '12' in col]\n",
    "list_all_2019 = [col for col in df_all[list_all].columns if '2019' in col]\n",
    "list_all_2019_12 = [col for col in df_all[list_all_2019].columns if '12' in col]\n",
    "\n",
    "# 남자, 여자 sum\n",
    "# 천 명 단위로 바꿔주기 위해 1000으로 나누기 \n",
    "mean_year = [int(df_all[list_all_2017_12].sum(axis=1).values)/1000, int(df_all[list_all_2018_12].sum(axis=1).values)/1000, int(df_all[list_all_2019_12].sum(axis=1).values)/1000]"
   ]
  },
  {
   "cell_type": "code",
   "execution_count": null,
   "metadata": {
    "scrolled": false
   },
   "outputs": [],
   "source": [
    "# 세종시 연도별 기초 현황 시각화 코드\n",
    "\n",
    "fig = go.Figure(data=[\n",
    "    go.Scatter(name='주택보급율(우)',x=['2017년', '2018년', '2019년'],y=data2, yaxis='y2' ),\n",
    "    go.Bar(name='가구수(좌)', x=['2017년', '2018년', '2019년'],y=data1, yaxis='y1'),\n",
    "    go.Bar(name='인구수(좌)', x=['2017년', '2018년', '2019년'], y=mean_year, yaxis='y1'),\n",
    "    ])\n",
    "fig.update_layout(\n",
    "    barmode='group',\n",
    "    title={\n",
    "        'text': \"세종시 연도별 기초 현황\",\n",
    "        'y':0.9,\n",
    "        'x':0.5,\n",
    "        'xanchor': 'center',\n",
    "        'yanchor': 'top'\n",
    "      },\n",
    "    xaxis_title=\"연도\",\n",
    "    yaxis_title=\"인구 수 (명)\",yaxis_tickformat = ',',\n",
    "    legend_title=\"데이터명\",\n",
    "    yaxis1=dict(title= '가구 수 및 인구 수 (단위 : 천 가구, 천 명)', side='left', tickformat = ','),\n",
    "    yaxis2=dict(title= '주택보급율 (단위 : %)', side='right', tickformat = ',', overlaying='y',dtick=5,range=[90,115]),\n",
    "    legend=dict(traceorder='reversed', x=1.2, y=1))\n",
    "\n",
    "\n",
    "fig.show()"
   ]
  },
  {
   "cell_type": "markdown",
   "metadata": {},
   "source": [
    "## 1.2. 연령별 인구분포\n",
    "\n",
    "- df22 : 22.세종시_연령별_인구현황.csv\n",
    "    - 연도별 12월 기준"
   ]
  },
  {
   "cell_type": "code",
   "execution_count": null,
   "metadata": {},
   "outputs": [],
   "source": [
    "# 연령별 전처리\n",
    "df22_new = df22[df22['읍면동'] =='세종특별자치시'].T.reset_index().drop(0, axis=0)\n",
    "df22_new.columns= ['년월','인원']\n",
    "#영 유아\n",
    "df22_0 = df22_new[df22_new['년월'].apply(lambda x: '0~9세' in x)]\n",
    "df22_0_2017 = df22_0[df22_0['년월'].apply(lambda x: '201712' in x)]\n",
    "df22_0_2018 = df22_0[df22_0['년월'].apply(lambda x: '201812' in x)]\n",
    "df22_0_2019 = df22_0[df22_0['년월'].apply(lambda x: '201912' in x)]\n",
    "df22_0_2020 = df22_0[df22_0['년월'].apply(lambda x: '202012' in x)]\n",
    "age_0 = [df22_0_2017['인원'].sum(), df22_0_2018['인원'].sum(), df22_0_2019['인원'].sum(), df22_0_2020['인원'].sum()]\n",
    "#10대\n",
    "df22_0 = df22_new[df22_new['년월'].apply(lambda x: '10~19세' in x)]\n",
    "df22_0_2017 = df22_0[df22_0['년월'].apply(lambda x: '201712' in x)]\n",
    "df22_0_2018 = df22_0[df22_0['년월'].apply(lambda x: '201812' in x)]\n",
    "df22_0_2019 = df22_0[df22_0['년월'].apply(lambda x: '201912' in x)]\n",
    "df22_0_2020 = df22_0[df22_0['년월'].apply(lambda x: '202012' in x)]\n",
    "age_10 = [df22_0_2017['인원'].sum(), df22_0_2018['인원'].sum(), df22_0_2019['인원'].sum(), df22_0_2020['인원'].sum()]\n",
    "#20대\n",
    "df22_0 = df22_new[df22_new['년월'].apply(lambda x: '20~29세' in x)]\n",
    "df22_0_2017 = df22_0[df22_0['년월'].apply(lambda x: '201712' in x)]\n",
    "df22_0_2018 = df22_0[df22_0['년월'].apply(lambda x: '201812' in x)]\n",
    "df22_0_2019 = df22_0[df22_0['년월'].apply(lambda x: '201912' in x)]\n",
    "df22_0_2020 = df22_0[df22_0['년월'].apply(lambda x: '202012' in x)]\n",
    "age_20 = [df22_0_2017['인원'].sum(), df22_0_2018['인원'].sum(), df22_0_2019['인원'].sum(), df22_0_2020['인원'].sum()]\n",
    "#30대\n",
    "df22_0 = df22_new[df22_new['년월'].apply(lambda x: '30~39세' in x)]\n",
    "df22_0_2017 = df22_0[df22_0['년월'].apply(lambda x: '201712' in x)]\n",
    "df22_0_2018 = df22_0[df22_0['년월'].apply(lambda x: '201812' in x)]\n",
    "df22_0_2019 = df22_0[df22_0['년월'].apply(lambda x: '201912' in x)]\n",
    "df22_0_2020 = df22_0[df22_0['년월'].apply(lambda x: '202012' in x)]\n",
    "age_30 = [df22_0_2017['인원'].sum(), df22_0_2018['인원'].sum(), df22_0_2019['인원'].sum(), df22_0_2020['인원'].sum()]\n",
    "#40대\n",
    "df22_0 = df22_new[df22_new['년월'].apply(lambda x: '40~49세' in x)]\n",
    "df22_0_2017 = df22_0[df22_0['년월'].apply(lambda x: '201712' in x)]\n",
    "df22_0_2018 = df22_0[df22_0['년월'].apply(lambda x: '201812' in x)]\n",
    "df22_0_2019 = df22_0[df22_0['년월'].apply(lambda x: '201912' in x)]\n",
    "df22_0_2020 = df22_0[df22_0['년월'].apply(lambda x: '202012' in x)]\n",
    "age_40 = [df22_0_2017['인원'].sum(), df22_0_2018['인원'].sum(), df22_0_2019['인원'].sum(), df22_0_2020['인원'].sum()]\n",
    "#50대\n",
    "df22_0 = df22_new[df22_new['년월'].apply(lambda x: '50~59세' in x)]\n",
    "df22_0_2017 = df22_0[df22_0['년월'].apply(lambda x: '201712' in x)]\n",
    "df22_0_2018 = df22_0[df22_0['년월'].apply(lambda x: '201812' in x)]\n",
    "df22_0_2019 = df22_0[df22_0['년월'].apply(lambda x: '201912' in x)]\n",
    "df22_0_2020 = df22_0[df22_0['년월'].apply(lambda x: '202012' in x)]\n",
    "age_50 = [df22_0_2017['인원'].sum(), df22_0_2018['인원'].sum(), df22_0_2019['인원'].sum(), df22_0_2020['인원'].sum()]\n",
    "#60대\n",
    "df22_0 = df22_new[df22_new['년월'].apply(lambda x: '60~69세' in x)]\n",
    "df22_0_2017 = df22_0[df22_0['년월'].apply(lambda x: '201712' in x)]\n",
    "df22_0_2018 = df22_0[df22_0['년월'].apply(lambda x: '201812' in x)]\n",
    "df22_0_2019 = df22_0[df22_0['년월'].apply(lambda x: '201912' in x)]\n",
    "df22_0_2020 = df22_0[df22_0['년월'].apply(lambda x: '202012' in x)]\n",
    "age_60 = [df22_0_2017['인원'].sum(), df22_0_2018['인원'].sum(), df22_0_2019['인원'].sum(), df22_0_2020['인원'].sum()]\n",
    "#70대\n",
    "df22_0 = df22_new[df22_new['년월'].apply(lambda x: '70~79세' in x)]\n",
    "df22_0_2017 = df22_0[df22_0['년월'].apply(lambda x: '201712' in x)]\n",
    "df22_0_2018 = df22_0[df22_0['년월'].apply(lambda x: '201812' in x)]\n",
    "df22_0_2019 = df22_0[df22_0['년월'].apply(lambda x: '201912' in x)]\n",
    "df22_0_2020 = df22_0[df22_0['년월'].apply(lambda x: '202012' in x)]\n",
    "age_70 = [df22_0_2017['인원'].sum(), df22_0_2018['인원'].sum(), df22_0_2019['인원'].sum(), df22_0_2020['인원'].sum()]\n",
    "#80대\n",
    "df22_0 = df22_new[df22_new['년월'].apply(lambda x: '80~89세' in x)]\n",
    "df22_0_2017 = df22_0[df22_0['년월'].apply(lambda x: '201712' in x)]\n",
    "df22_0_2018 = df22_0[df22_0['년월'].apply(lambda x: '201812' in x)]\n",
    "df22_0_2019 = df22_0[df22_0['년월'].apply(lambda x: '201912' in x)]\n",
    "df22_0_2020 = df22_0[df22_0['년월'].apply(lambda x: '202012' in x)]\n",
    "age_80 = [df22_0_2017['인원'].sum(), df22_0_2018['인원'].sum(), df22_0_2019['인원'].sum(), df22_0_2020['인원'].sum()]\n",
    "#90대\n",
    "df22_0 = df22_new[df22_new['년월'].apply(lambda x: '90~99세' in x)]\n",
    "df22_0_2017 = df22_0[df22_0['년월'].apply(lambda x: '201712' in x)]\n",
    "df22_0_2018 = df22_0[df22_0['년월'].apply(lambda x: '201812' in x)]\n",
    "df22_0_2019 = df22_0[df22_0['년월'].apply(lambda x: '201912' in x)]\n",
    "df22_0_2020 = df22_0[df22_0['년월'].apply(lambda x: '202012' in x)]\n",
    "age_90 = [df22_0_2017['인원'].sum(), df22_0_2018['인원'].sum(), df22_0_2019['인원'].sum(), df22_0_2020['인원'].sum()]\n",
    "#100세 이상\n",
    "df22_0 = df22_new[df22_new['년월'].apply(lambda x: '100세_이상' in x)]\n",
    "df22_0_2017 = df22_0[df22_0['년월'].apply(lambda x: '201712' in x)]\n",
    "df22_0_2018 = df22_0[df22_0['년월'].apply(lambda x: '201812' in x)]\n",
    "df22_0_2019 = df22_0[df22_0['년월'].apply(lambda x: '201912' in x)]\n",
    "df22_0_2020 = df22_0[df22_0['년월'].apply(lambda x: '202012' in x)]\n",
    "age_100 = [df22_0_2017['인원'].sum(), df22_0_2018['인원'].sum(), df22_0_2019['인원'].sum(), df22_0_2020['인원'].sum()]"
   ]
  },
  {
   "cell_type": "code",
   "execution_count": null,
   "metadata": {
    "scrolled": false
   },
   "outputs": [],
   "source": [
    "\n",
    "age=['영, 유아', '10대', '20대', '30대','40대','50대','60대','70대','80대','90대','100세 이상']\n",
    "\n",
    "fig = go.Figure(data=[\n",
    "    go.Bar(name='2017년', x=age, y=[age_0[0],age_10[0],age_20[0],age_30[0],age_40[0],age_50[0],age_60[0],age_70[0],age_80[0],age_90[0],age_100[0]]),\n",
    "    go.Bar(name='2018년', x=age, y=[age_0[1],age_10[1],age_20[1],age_30[1],age_40[1],age_50[1],age_60[1],age_70[1],age_80[1],age_90[1],age_100[1]]),\n",
    "    go.Bar(name='2019년', x=age, y=[age_0[2],age_10[2],age_20[2],age_30[2],age_40[2],age_50[2],age_60[2],age_70[2],age_80[2],age_90[2],age_100[2]]),\n",
    "    go.Bar(name='2020년', x=age, y=[age_0[3],age_10[3],age_20[3],age_30[3],age_40[3],age_50[3],age_60[3],age_70[3],age_80[3],age_90[3],age_100[3]]),\n",
    "])\n",
    "# Change the bar mode\n",
    "fig.update_layout(\n",
    "      title={\n",
    "        'text': \"세종시 연도별 12월 연령 분포\",\n",
    "        'y':0.9,\n",
    "        'x':0.5,\n",
    "        'xanchor': 'center',\n",
    "        'yanchor': 'top'\n",
    "      },\n",
    "    xaxis_title=\"연령대\",\n",
    "    yaxis_title=\"인구 수 (명)\",\n",
    "yaxis_tickformat = ',')\n",
    "fig.show()"
   ]
  },
  {
   "cell_type": "markdown",
   "metadata": {},
   "source": [
    "## 1.3. 주택유형 현황"
   ]
  },
  {
   "cell_type": "markdown",
   "metadata": {},
   "source": [
    " - 인허가&준공실적.xlsx\n",
    "   - 세종시의 인허가 및 준공실적을 년도별로 파악\n",
    "   - 기존 주택건설인허가실적&주택준공실적.xlsx를 컴퓨터가 읽기 편한형태로 변환 (출처: 한국부동산원)"
   ]
  },
  {
   "cell_type": "markdown",
   "metadata": {},
   "source": [
    "- 인허가실적"
   ]
  },
  {
   "cell_type": "code",
   "execution_count": null,
   "metadata": {},
   "outputs": [],
   "source": [
    "# 데이터 불러온 후 열이름 변경작업\n",
    "df1 = pd.read_excel('인허가&준공실적.xlsx', sheet_name='인허가').transpose().reset_index()\n",
    "df1.columns = df1.iloc[0,:]\n",
    "df1 = df1.iloc[1:,:]\n",
    "df1.rename(columns={'지 역':'년월'}, inplace=True)\n",
    "df1['년도'] = list(map(lambda x: x[:4], df1.년월))\n",
    "\n",
    "# 필요한 열만 선별\n",
    "df1 = df1[['년월', '세종', '년도']]\n",
    "\n",
    "# groupby\n",
    "df1_group = df1.groupby('년도').agg({'세종':'sum'})\n",
    "df1_group.head()"
   ]
  },
  {
   "cell_type": "markdown",
   "metadata": {},
   "source": [
    "- 준공실적"
   ]
  },
  {
   "cell_type": "code",
   "execution_count": null,
   "metadata": {},
   "outputs": [],
   "source": [
    "# 데이터 불러온 후 열이름 변경작업\n",
    "df2 = pd.read_excel('인허가&준공실적.xlsx', sheet_name='준공실적').transpose().reset_index()\n",
    "df2.columns = df2.iloc[0,:]\n",
    "df2 = df2.iloc[1:,:]\n",
    "df2.rename(columns={'지 역':'년월'}, inplace=True)\n",
    "df2['년도'] = list(map(lambda x: x[:4], df2.년월))\n",
    "\n",
    "# 필요한 열만 선별\n",
    "df2 = df2[['년월', '세종', '년도']]\n",
    "\n",
    "# groupby\n",
    "df2_group = df2.groupby('년도').agg({'세종':'sum'})\n",
    "df2_group.head()"
   ]
  },
  {
   "cell_type": "markdown",
   "metadata": {},
   "source": [
    "- 시각화"
   ]
  },
  {
   "cell_type": "code",
   "execution_count": null,
   "metadata": {
    "scrolled": true
   },
   "outputs": [],
   "source": [
    "# 시각화\n",
    "fig = go.Figure()\n",
    "fig.add_trace(go.Bar(x = df1_group.index, y = df1_group.loc[:,'세종'], name= '인허가실적'))\n",
    "fig.add_trace(go.Bar(x = df2_group.index, y = df2_group.loc[:,'세종'], name= '준공실적'))\n",
    "    \n",
    "fig.update_layout(\n",
    "    title=\"세종시 준공 및 인허가실적 건수\",\n",
    "    xaxis_title=\"연도\",\n",
    "    yaxis_title=\"연도별 실적건수\",\n",
    "    legend_title=\"항목\"\n",
    "    )\n",
    "\n",
    "fig.update_layout(\n",
    "    title={\n",
    "        'text': \"세종시 준공 및 인허가실적 건수\",\n",
    "        'y':0.9,\n",
    "        'x':0.5,\n",
    "        'xanchor': 'center',\n",
    "        'yanchor': 'top'\n",
    "    })\n",
    "\n",
    "fig.update_yaxes(ticksuffix=\"건\",\n",
    "                tickformat='digit',\n",
    "                dtick=5000,\n",
    "                range=[0,20000])\n",
    "\n",
    "\n",
    "\n",
    "fig.show()"
   ]
  },
  {
   "cell_type": "markdown",
   "metadata": {},
   "source": [
    " - 주거실태조사: (17~19년) 세종시 주거실태 관련 데이터로 주택유형별 비율 산출\n",
    "   - df2017: mdis2017.csv\n",
    "   - df2018: mdis2018.csv\n",
    "   - df2019: mdis2019.csv"
   ]
  },
  {
   "cell_type": "code",
   "execution_count": null,
   "metadata": {},
   "outputs": [],
   "source": [
    "# 데이터 불러오기\n",
    "df2017 = pd.read_csv('mdis2017.csv', encoding='cp949')\n",
    "df2018 = pd.read_csv('mdis2018.csv', encoding='cp949')\n",
    "df2019 = pd.read_csv('mdis2019.csv', encoding='cp949')\n",
    "\n",
    "# 연도별 세종시 및 필요 열들만 선별\n",
    "df2017_1 = df2017[['C5', 'C10', 'C14', 'C23', 'C29', 'C30', 'C49', 'C50', 'C51', 'C52', 'C53', 'C54', 'C94', 'C96', 'C98', 'C153', 'C154', 'C224', 'C225', 'C226', 'C227', 'C228', 'C229', 'C230', 'C231', 'C232', 'C233', 'C313']]\n",
    "df2017_2 = df2017_1[df2017_1['C5'] == 29].reset_index(drop=True)\n",
    "\n",
    "df2018_1 = df2018[['C1', 'C7', 'C10', 'C19', 'C25', 'C26', 'C37', 'C38', 'C39', 'C40', 'C41', 'C42', 'C75', 'C77', 'C79', 'C135', 'C136', 'C217', 'C218', 'C219', 'C220', 'C221', 'C222', 'C223', 'C224', 'C225', 'C226', 'C308']]\n",
    "df2018_2 = df2018_1[df2018_1['C1'] == 29].reset_index(drop=True)\n",
    "\n",
    "df2019_1 = df2019[['C1', 'C7', 'C10', 'C19', 'C25', 'C26', 'C35', 'C36', 'C37', 'C38', 'C39', 'C40', 'C81', 'C83', 'C85', 'C143', 'C144', 'C202', 'C203', 'C204', 'C205','C206', 'C207', 'C208', 'C209', 'C210', 'C211', 'C291']]\n",
    "df2019_2 = df2019_1[df2019_1['C1'] == 29].reset_index(drop=True)\n",
    "\n",
    "df2017_2.shape, df2018_2.shape, df2019_2.shape "
   ]
  },
  {
   "cell_type": "code",
   "execution_count": null,
   "metadata": {
    "scrolled": true
   },
   "outputs": [],
   "source": [
    "# 2017년\n",
    "a1_2017 = df2017_2[df2017_2['C10'].isin([1,2,3])].shape[0] # 단독다가구 123\n",
    "a2_2017 = df2017_2[df2017_2['C10'].isin([4])].shape[0] # 아파트 4\n",
    "a3_2017 = df2017_2[df2017_2['C10'].isin([5,6])].shape[0] # 연립다세대 56\n",
    "asum_2017 = a1_2017 + a2_2017 + a3_2017\n",
    "\n",
    "a1_2017 = round(a1_2017 / asum_2017,3)\n",
    "a2_2017 = round(a2_2017 / asum_2017,3)\n",
    "a3_2017 = round(a3_2017 / asum_2017,3)\n",
    "\n",
    "# 2018년\n",
    "a1_2018 = df2018_2[df2018_2['C7'].isin([1,2,3])].shape[0] # 단독다가구 123\n",
    "a2_2018 = df2018_2[df2018_2['C7'].isin([4])].shape[0] # 아파트 4\n",
    "a3_2018 = df2018_2[df2018_2['C7'].isin([5,6])].shape[0] # 연립다세대 56\n",
    "asum_2018 = a1_2018 + a2_2018 + a3_2018\n",
    "\n",
    "a1_2018 = round(a1_2018 / asum_2018,3)\n",
    "a2_2018 = round(a2_2018 / asum_2018,3)\n",
    "a3_2018 = round(a3_2018 / asum_2018,3)\n",
    "\n",
    "# 2019년\n",
    "a1_2019 = df2019_2[df2019_2['C7'].isin([1,2,3])].shape[0] # 단독다가구 123\n",
    "a2_2019 = df2019_2[df2019_2['C7'].isin([4])].shape[0] # 아파트 4\n",
    "a3_2019 = df2019_2[df2019_2['C7'].isin([5,6])].shape[0] # 연립다세대 56\n",
    "asum_2019 = a1_2019 + a2_2019 + a3_2019\n",
    "\n",
    "a1_2019 = round(a1_2019 / asum_2019,3)\n",
    "a2_2019 = round(a2_2019 / asum_2019,3)\n",
    "a3_2019 = round(a3_2019 / asum_2019,3)\n",
    "\n",
    "# 주택유형 데이터프레임 형성 데이터프레임 형성\n",
    "df__1 = pd.DataFrame({'단독다가구 비율': [a1_2017, a1_2018, a1_2019],\n",
    "             '아파트 비율': [a2_2017, a2_2018, a2_2019],\n",
    "             '연립다세대 비율': [a3_2017, a3_2018, a3_2019]}, index=[2017, 2018, 2019])\n",
    "\n",
    "# 주택유형 시각화\n",
    "fig = go.Figure()\n",
    "for column in df__1.columns:\n",
    "    fig.add_trace(go.Bar(x = df__1.index, y = df__1.loc[:,column], name= column))\n",
    "    \n",
    "fig.update_layout(\n",
    "    title=\"주택유형 현황\",\n",
    "    xaxis_title=\"연도\",\n",
    "    yaxis_title=\"주택 유형별 비율\",\n",
    "    legend_title=\"주택유형\"\n",
    "    )\n",
    "\n",
    "fig.update_layout(\n",
    "    title={\n",
    "        'text': \"주택유형 현황\",\n",
    "        'y':0.9,\n",
    "        'x':0.5,\n",
    "        'xanchor': 'center',\n",
    "        'yanchor': 'top'\n",
    "    },\n",
    "        yaxis_tickformat = '%')\n",
    "\n",
    "fig.update_layout(yaxis_range=[0,1])\n",
    "\n",
    "\n",
    "fig.show()"
   ]
  },
  {
   "cell_type": "markdown",
   "metadata": {},
   "source": [
    "## 1.4.세종시 읍면동별 주택유형 분포"
   ]
  },
  {
   "cell_type": "markdown",
   "metadata": {},
   "source": [
    " - df2: 2.세종시_표제부.csv\n",
    "   - 세종시 내 단독 및 공동주택 비율 파악\n",
    "   \n",
    " - df31: 31.세종시_법정경계(읍면동).csv \n",
    "   - 세종시 단독 공동주택 비율 파악을 위한 좌표데이터 활용"
   ]
  },
  {
   "cell_type": "markdown",
   "metadata": {},
   "source": [
    "- df2: 세종시표제부 데이터 전처리\n",
    "  - 단독주택 및 공동주택으로 구분한 후, 각 법정동별 개수를 frequency를 파악한 후 시각화 실시"
   ]
  },
  {
   "cell_type": "code",
   "execution_count": null,
   "metadata": {},
   "outputs": [],
   "source": [
    "# 필요 column만 선별 및 이름변경\n",
    "df2 = pd.read_csv('2.세종시_표제부.csv', encoding='utf-8')\n",
    "df2_1 = df2.loc[df2['주용도코드명'].isin(['단독주택','공동주택']), ['대지위치','법정동코드','주용도코드명']].reset_index(drop=True)\n",
    "df2_1.rename(columns={'대지위치':'address',\n",
    "                     '법정동코드':'ad_code',\n",
    "                     '주용도코드명':'htype'}, inplace=True)\n",
    "\n",
    "# 법정동명 및 matchid 산출\n",
    "df2_1['dong'] = list(map(lambda x: x[0:12], df2_1['address']))\n",
    "df2_1['matchid'] = list(map(lambda x, y: x+'/'+y, df2_1['dong'], df2_1['htype']))\n",
    "df2_1.drop(['address'], axis=1, inplace=True)\n",
    "\n",
    "#matchid별 빈도 구하기 : 읍면동별 단독주택, 공동주택 수\n",
    "df2_1_freq = pd.DataFrame(df2_1['matchid'].value_counts()).reset_index()\n",
    "df2_1_freq.columns = ['matchid','freq']\n",
    "df2_1_freq['htype'] = list(map(lambda x: x[13:15], df2_1_freq['matchid']))\n",
    "df2_1_freq['법정동명'] = list(map(lambda x: x[9:12], df2_1_freq['matchid']))\n",
    "df2_1_freq.drop('matchid', axis=1, inplace=True)\n",
    "df2_1_freq = df2_1_freq[['법정동명', 'htype', 'freq']]\n",
    "df2_1_freq.loc[df2_1_freq['법정동명']=='조치원','법정동명'] = '조치원읍'\n",
    "\n",
    "# 단독, 공동주택 분리\n",
    "df2_2 = df2_1_freq[df2_1_freq['htype'] == '단독'].reset_index(drop=True) # 단독 필터링\n",
    "df2_3 = df2_1_freq[df2_1_freq['htype'] == '공동'].reset_index(drop=True) # 공동 필터링\n",
    "df2_3.head()"
   ]
  },
  {
   "cell_type": "markdown",
   "metadata": {},
   "source": [
    "- 시각화를 위한 중심좌표 산정"
   ]
  },
  {
   "cell_type": "code",
   "execution_count": null,
   "metadata": {},
   "outputs": [],
   "source": [
    "# 중심좌표 산정\n",
    "df31_1 = gpd.read_file('31.세종시_법정경계(읍면동).geojson')\n",
    "\n",
    "coordinate_list = []\n",
    "for idx in df31_1.index:\n",
    "    lon = df31_1.loc[idx ,'geometry'].centroid.x\n",
    "    lat = df31_1.loc[idx ,'geometry'].centroid.y\n",
    "    coordinate = [lat, lon]\n",
    "    coordinate_list.append(coordinate)\n",
    "    \n",
    "df31_1['centroid'] = coordinate_list\n",
    "df31_1.drop(['EMD_CD'], inplace=True, axis=1)\n",
    "df31_1 = df31_1.rename(columns={'EMD_KOR_NM':'법정동명'})\n",
    "df31_1.head()"
   ]
  },
  {
   "cell_type": "markdown",
   "metadata": {},
   "source": [
    "- 법정동별 단독가구 비율 시각화"
   ]
  },
  {
   "cell_type": "code",
   "execution_count": null,
   "metadata": {},
   "outputs": [],
   "source": [
    "# 행복도시 표시 함수\n",
    "def get_line():\n",
    "    df = gpd.read_file('32.세종시_행정경계(읍면동).geojson')\n",
    "    hangbok = ['고운동', '아름동', '도담동', '종촌동', '어진동', '다정동', '새롬동', '나성동', '한솔동', '대평동', '보람동', '소담동', '반곡동']\n",
    "    hangbok_df= df[df['ADM_DR_NM'].apply(lambda x: x in hangbok)]\n",
    "    style2 = {'lineColor': '#00FFFFFF'}\n",
    "    folium.GeoJson( \n",
    "        hangbok_df,  \n",
    "        name='세종',\n",
    "        style_function=lambda x:style2,\n",
    "    ).add_to(m) #행정동 경계를 지도내에 add"
   ]
  },
  {
   "cell_type": "code",
   "execution_count": null,
   "metadata": {},
   "outputs": [],
   "source": [
    "# 단독주택 법정동명만 가져오기\n",
    "df31_2 = pd.merge(df2_2, df31_1, on='법정동명').rename(columns={'법정동명':'EMD_KOR_NM'})\n",
    "\n",
    "# 공동주택 시각화\n",
    "m = folium.Map(\n",
    "    location=[36.50834910509325, 127.32079780226175],\n",
    "    zoom_start=11.5,\n",
    "    tiles=\"Stamen Toner\"\n",
    ")\n",
    "\n",
    "choropleth = folium.Choropleth(\n",
    "    geo_data=df31,\n",
    "    data = df31_2,\n",
    "    fill_color='Reds',\n",
    "    nan_fill_color ='#f0f0f0',\n",
    "    fill_opacity=1,\n",
    "    line_opacity = 1,\n",
    "    columns=('EMD_KOR_NM', 'freq'),\n",
    "    key_on='feature.properties.EMD_KOR_NM',\n",
    "    legend_name='20년 8월 실거래가',\n",
    "    name='실거래가 정보',\n",
    "    highlight=True\n",
    ").add_to(m)\n",
    "\n",
    "# 행복도시 강조\n",
    "get_line()\n",
    "\n",
    "# 읍면동 text 추가\n",
    "region_names = list(df31_2['EMD_KOR_NM'])\n",
    "coordinate_list = list(df31_2['centroid'])\n",
    "for region_name, coordinate in zip(region_names, coordinate_list):\n",
    "    folium.map.Marker(\n",
    "        coordinate,\n",
    "        icon=DivIcon(\n",
    "            icon_size=(45,10),\n",
    "            icon_anchor=(15,10),\n",
    "            html='<div style=\"font-size: 1pt; color: black;\">%s</div>' % region_name,\n",
    "            )\n",
    "        ).add_to(m)\n",
    "\n",
    "\n",
    "# 지도 배경 변경\n",
    "folium.TileLayer('cartodbdark_matter').add_to(m)\n",
    "\n",
    "# html로 저장\n",
    "m.save('세종시_단독주택_비율.html')\n",
    "m"
   ]
  },
  {
   "cell_type": "markdown",
   "metadata": {},
   "source": [
    "- 법정동별 단독가구 비율 시각화"
   ]
  },
  {
   "cell_type": "code",
   "execution_count": null,
   "metadata": {},
   "outputs": [],
   "source": [
    "# 공동주택 법정동명만 가져오기\n",
    "df31_3 = pd.merge(df2_3, df31_1, on='법정동명').rename(columns={'법정동명':'EMD_KOR_NM'})\n",
    "\n",
    "# 공동주택 시각화\n",
    "m = folium.Map(\n",
    "    location=[36.50834910509325, 127.32079780226175],\n",
    "    zoom_start=11.5,\n",
    "    tiles=\"Stamen Toner\"\n",
    ")\n",
    "\n",
    "choropleth = folium.Choropleth(\n",
    "    geo_data=df31,\n",
    "    data = df31_3,\n",
    "    fill_color='Reds',\n",
    "    nan_fill_color ='#f0f0f0',\n",
    "    fill_opacity=1,\n",
    "    line_opacity = 1,\n",
    "    columns=('EMD_KOR_NM', 'freq'),\n",
    "    key_on='feature.properties.EMD_KOR_NM',\n",
    "    legend_name='20년 8월 실거래가',\n",
    "    name='실거래가 정보',\n",
    "    highlight=True,\n",
    "    \n",
    ").add_to(m)\n",
    "\n",
    "get_line()\n",
    "\n",
    "# 읍면동 text 추가\n",
    "region_names = list(df31_3['EMD_KOR_NM'])\n",
    "coordinate_list = list(df31_3['centroid'])\n",
    "for region_name, coordinate in zip(region_names, coordinate_list):\n",
    "    folium.map.Marker(\n",
    "        coordinate,\n",
    "        icon=DivIcon(\n",
    "            icon_size=(45,10),\n",
    "            icon_anchor=(15,10),\n",
    "            html='<div style=\"font-size: 1pt; color: black;\">%s</div>' % region_name,\n",
    "            )\n",
    "        ).add_to(m)\n",
    "\n",
    "\n",
    "# 지도 배경 변경\n",
    "folium.TileLayer('cartodbdark_matter').add_to(m)\n",
    "\n",
    "# html로 저장\n",
    "m.save('세종시_공동주택_비율.html')\n",
    "m"
   ]
  },
  {
   "cell_type": "markdown",
   "metadata": {},
   "source": [
    "## 1.5. 세종시 자가율 현황"
   ]
  },
  {
   "cell_type": "markdown",
   "metadata": {},
   "source": [
    " - 주거실태조사: (17~19년) 세종시 주거실태 관련 데이터 자가율현황 시각화\n",
    "   - df2017: mdis2017.csv\n",
    "   - df2018: mdis2018.csv\n",
    "   - df2019: mdis2019.csv"
   ]
  },
  {
   "cell_type": "markdown",
   "metadata": {},
   "source": [
    "- 년도별 자가율에 대한 데이터프레임 형성"
   ]
  },
  {
   "cell_type": "code",
   "execution_count": null,
   "metadata": {},
   "outputs": [],
   "source": [
    "# 2017년\n",
    "b1_2017 = df2017_2['C14'].value_counts()[1] # 자가\n",
    "b2_2017 = df2017_2['C14'].value_counts()[2] + df2017_2['C14'].value_counts()[3] + df2017_2['C14'].value_counts()[4] + df2017_2['C14'].value_counts()[5] # 차가\n",
    "bsum_2017 = b1_2017 + b2_2017\n",
    "\n",
    "b1_2017 = round(b1_2017 / bsum_2017,3)\n",
    "b2_2017 = round(b2_2017 / bsum_2017,3)\n",
    "\n",
    "# 2018년\n",
    "b1_2018 = df2018_2['C10'].value_counts()[1] # 자가\n",
    "b2_2018 = df2018_2['C10'].value_counts()[2] +  df2018_2['C10'].value_counts()[3] + df2018_2['C10'].value_counts()[4] + df2018_2['C10'].value_counts()[5] + df2018_2['C10'].value_counts()[6]# 차가\n",
    "bsum_2018 = b1_2018 + b2_2018\n",
    "\n",
    "b1_2018 = round(b1_2018 / bsum_2018,3)\n",
    "b2_2018 = round(b2_2018 / bsum_2018,3)\n",
    "\n",
    "# 2019년\n",
    "b1_2019 = df2019_2['C10'].value_counts()[1] # 자가\n",
    "b2_2019 = df2019_2['C10'].value_counts()[2] + df2019_2['C10'].value_counts()[3] + df2019_2['C10'].value_counts()[4] + df2019_2['C10'].value_counts()[5]# 차가\n",
    "bsum_2019 = b1_2019 + b2_2019\n",
    "\n",
    "b1_2019 = round(b1_2019 / bsum_2019,3)\n",
    "b2_2019 = round(b2_2019 / bsum_2019,3)\n",
    "\n",
    "# 데이터프레임 생성\n",
    "df__4 = pd.DataFrame({'자가율': [b1_2017, b1_2018, b1_2019],\n",
    "             '차가율': [b2_2017, b2_2018, b2_2019]}, index=[2017, 2018, 2019])\n",
    "df__4"
   ]
  },
  {
   "cell_type": "markdown",
   "metadata": {},
   "source": [
    "- 년도별 차가에 대한 세부지표 구분"
   ]
  },
  {
   "cell_type": "code",
   "execution_count": null,
   "metadata": {},
   "outputs": [],
   "source": [
    "# 2017년\n",
    "e1_2017 = df2017_2['C14'].value_counts()[2] # 전세\n",
    "e2_2017 = df2017_2['C14'].value_counts()[3] # 보증금 있는 월세\n",
    "e3_2017 = df2017_2['C14'].value_counts()[4] # 보증금 없는 월세\n",
    "esum_2017 = e1_2017 + e2_2017 + e3_2017\n",
    "\n",
    "e1_2017 = round(e1_2017 / esum_2017,3)\n",
    "e2_2017 = round(e2_2017 / esum_2017,3)\n",
    "e3_2017 = round(e3_2017 / esum_2017,3)\n",
    "\n",
    "# 2018년\n",
    "e1_2018 = df2018_2['C10'].value_counts()[2] # 전세\n",
    "e2_2018 = df2018_2['C10'].value_counts()[3] # 보증금 있는 월세\n",
    "e3_2018 = df2018_2['C10'].value_counts()[4] # 보증금 없는 월세\n",
    "esum_2018 = e1_2018 + e2_2018 + e3_2018\n",
    "\n",
    "e1_2018 = round(e1_2018 / esum_2018,3)\n",
    "e2_2018 = round(e2_2018 / esum_2018,3)\n",
    "e3_2018 = round(e3_2018 / esum_2018,3)\n",
    "\n",
    "# 2019년\n",
    "e1_2019 = df2019_2['C10'].value_counts()[2] # 전세\n",
    "e2_2019 = df2019_2['C10'].value_counts()[3] # 보증금 있는 월세\n",
    "e3_2019 = df2019_2['C10'].value_counts()[4] # 보증금 없는 월세\n",
    "esum_2019 = e1_2019 + e2_2019 + e3_2019\n",
    "\n",
    "e1_2019 = round(e1_2019 / esum_2019,3)\n",
    "e2_2019 = round(e2_2019 / esum_2019,3)\n",
    "e3_2019 = round(e3_2019 / esum_2019,3)\n",
    "\n",
    "e1_2019, e2_2019, e3_2019\n",
    "\n",
    "# 데이터프레임 생성\n",
    "df__4_1 = pd.DataFrame({'전세': [e1_2017, e1_2018, e1_2019],\n",
    "             '보증금 있는 월세': [e2_2017, e2_2018, e2_2019],\n",
    "             '보증금 없는 월세': [e3_2017, e3_2018, e3_2019]}, index=[2017, 2018, 2019])\n",
    "df__4_1"
   ]
  },
  {
   "cell_type": "markdown",
   "metadata": {},
   "source": [
    "- 시각화"
   ]
  },
  {
   "cell_type": "code",
   "execution_count": null,
   "metadata": {
    "scrolled": true
   },
   "outputs": [],
   "source": [
    "fig = go.Figure()\n",
    "\n",
    "fig.add_trace(go.Scatter(x = ['2017', '2018', '2019'], y = df__4.loc[:,'자가율'], name = '자가', line_color=\"black\"))\n",
    "\n",
    "for column in df__4_1.columns:\n",
    "    fig.add_trace(go.Bar(x = df__4_1.index, y = df__4_1.loc[:,column], name= column))\n",
    "\n",
    "\n",
    "    \n",
    "fig.update_layout(\n",
    "    title=\"세종시 자가율 현황\",\n",
    "    xaxis_title=\"연도\",\n",
    "    yaxis_title=\"형태별 비율\",\n",
    "    legend_title=\"점유형태\"\n",
    "    )\n",
    "\n",
    "fig.update_layout(\n",
    "    title={\n",
    "        'text': \"세종시 자가율 현황\",\n",
    "        'y':0.9,\n",
    "        'x':0.5,\n",
    "        'xanchor': 'center',\n",
    "        'yanchor': 'top'\n",
    "    },\n",
    "        yaxis_tickformat = '%')\n",
    "\n",
    "fig.update_layout(yaxis_range=[0,1])\n",
    "\n",
    "\n",
    "\n",
    "\n",
    "fig.show()"
   ]
  },
  {
   "cell_type": "markdown",
   "metadata": {},
   "source": [
    "## 1.6. 주택유형별 자가율 현황\n"
   ]
  },
  {
   "cell_type": "markdown",
   "metadata": {},
   "source": [
    " - 주거실태조사: (17~19년) 세종시 주거실태 관련 데이터로 전체인구 및 자가인에 대한 이사이유 시각화\n",
    "   - df2017: mdis2017.csv\n",
    "   - df2018: mdis2018.csv\n",
    "   - df2019: mdis2019.csv"
   ]
  },
  {
   "cell_type": "code",
   "execution_count": null,
   "metadata": {},
   "outputs": [],
   "source": [
    "# 데이터 불러오기\n",
    "df2017 = pd.read_csv('mdis2017.csv', encoding='cp949')\n",
    "df2018 = pd.read_csv('mdis2018.csv', encoding='cp949')\n",
    "df2019 = pd.read_csv('mdis2019.csv', encoding='cp949')\n",
    "\n",
    "# 연도별 세종시 및 필요 열들만 선별\n",
    "df2017_1 = df2017[['C5', 'C10', 'C14', 'C23', 'C29', 'C30', 'C49', 'C50', 'C51', 'C52', 'C53', 'C54', 'C94', 'C96', 'C98', 'C153', 'C154', 'C224', 'C225', 'C226', 'C227', 'C228', 'C229', 'C230', 'C231', 'C232', 'C233', 'C313']]\n",
    "df2017_2 = df2017_1[df2017_1['C5'] == 29].reset_index(drop=True)\n",
    "\n",
    "df2018_1 = df2018[['C1', 'C7', 'C10', 'C19', 'C25', 'C26', 'C37', 'C38', 'C39', 'C40', 'C41', 'C42', 'C75', 'C77', 'C79', 'C135', 'C136', 'C217', 'C218', 'C219', 'C220', 'C221', 'C222', 'C223', 'C224', 'C225', 'C226', 'C308']]\n",
    "df2018_2 = df2018_1[df2018_1['C1'] == 29].reset_index(drop=True)\n",
    "\n",
    "df2019_1 = df2019[['C1', 'C7', 'C10', 'C19', 'C25', 'C26', 'C35', 'C36', 'C37', 'C38', 'C39', 'C40', 'C81', 'C83', 'C85', 'C143', 'C144', 'C202', 'C203', 'C204', 'C205','C206', 'C207', 'C208', 'C209', 'C210', 'C211', 'C291']]\n",
    "df2019_2 = df2019_1[df2019_1['C1'] == 29].reset_index(drop=True)\n",
    "\n",
    "df2017_2.shape, df2018_2.shape, df2019_2.shape "
   ]
  },
  {
   "cell_type": "markdown",
   "metadata": {},
   "source": [
    "- 단독다가구"
   ]
  },
  {
   "cell_type": "code",
   "execution_count": null,
   "metadata": {},
   "outputs": [],
   "source": [
    "# 2017년\n",
    "apt0_2017 = df2017_2.loc[df2017_2['C10'].isin([1,2,3]), 'C14'] # 단독다가구 123\n",
    "k1_2017 = apt0_2017.value_counts()[1] # 자가\n",
    "k2_2017 = apt0_2017.value_counts()[2] # 전세\n",
    "k3_2017 = apt0_2017.value_counts()[3] # 보증금이 있는 월세\n",
    "k4_2017 = apt0_2017.value_counts()[4] # 보증금이 없는 월세\n",
    "ksum_2017 = k1_2017 + k2_2017 + k3_2017 + k4_2017\n",
    "\n",
    "k1_2017 = round(k1_2017 / ksum_2017,3)\n",
    "k2_2017 = round(k2_2017 / ksum_2017,3)\n",
    "k3_2017 = round(k3_2017 / ksum_2017,3)\n",
    "k4_2017 = round(k4_2017 / ksum_2017,3)\n",
    "\n",
    "# 2018년\n",
    "apt0_2018 = df2018_2.loc[df2018_2['C7'].isin([1,2,3]), 'C10'] # 단독다가구 123\n",
    "k1_2018 = apt0_2018.value_counts()[1] # 자가\n",
    "k2_2018 = apt0_2018.value_counts()[2] # 전세\n",
    "k3_2018 = apt0_2018.value_counts()[3] # 보증금이 있는 월세\n",
    "k4_2018 = apt0_2018.value_counts()[4] # 보증금이 없는 월세\n",
    "\n",
    "ksum_2018 = k1_2018 + k2_2018 + k3_2018 + k4_2018\n",
    "\n",
    "k1_2018 = round(k1_2018 / ksum_2018,3)\n",
    "k2_2018 = round(k2_2018 / ksum_2018,3)\n",
    "k3_2018 = round(k3_2018 / ksum_2018,3)\n",
    "k4_2018 = round(k4_2018 / ksum_2018,3)\n",
    "\n",
    "# 2019년\n",
    "apt0_2019 = df2019_2.loc[df2019_2['C7'].isin([1,2,3]), 'C10'] # 단독다가구 123\n",
    "k1_2019 = apt0_2019.value_counts()[1] # 자가\n",
    "k2_2019 = apt0_2019.value_counts()[2] # 전세\n",
    "k3_2019 = apt0_2019.value_counts()[3] # 보증금이 있는 월세\n",
    "k4_2019 = apt0_2019.value_counts()[4] # 보증금이 없는 월세\n",
    "ksum_2019 = k1_2019 + k2_2019 + k3_2019 + k4_2019\n",
    "\n",
    "k1_2019 = round(k1_2019 / ksum_2019,3)\n",
    "k2_2019 = round(k2_2019 / ksum_2019,3)\n",
    "k3_2019 = round(k3_2019 / ksum_2019,3)\n",
    "k4_2019 = round(k4_2019 / ksum_2019,3)\n",
    "\n",
    "# 데이터프레임화 (단독다가구)\n",
    "df__9 = pd.DataFrame({'자가': [k1_2017, k1_2018, k1_2019],\n",
    "             '전세': [k2_2017, k2_2018, k2_2019],\n",
    "             '보증금 있는 월세': [k3_2017, k3_2018, k3_2019],\n",
    "             '보증금 없는 월세': [k4_2017, k4_2018, k4_2019]}, index=[2017, 2018, 2019])\n",
    "df__9"
   ]
  },
  {
   "cell_type": "code",
   "execution_count": null,
   "metadata": {},
   "outputs": [],
   "source": [
    "# 시각화\n",
    "fig = go.Figure()\n",
    "for column in df__9.columns:\n",
    "    fig.add_trace(go.Bar(x = df__9.index, y = df__9.loc[:,column], name= column))\n",
    "    \n",
    "fig.update_layout(\n",
    "    title=\"단독다가구 자가율 현황\",\n",
    "    xaxis_title=\"연도\",\n",
    "    yaxis_title=\"유형별 비율\",\n",
    "    legend_title=\"점유형태\"\n",
    "    )\n",
    "\n",
    "fig.update_layout(\n",
    "    title={\n",
    "        'text': \"단독다가구 자가율 현황\",\n",
    "        'y':0.9,\n",
    "        'x':0.5,\n",
    "        'xanchor': 'center',\n",
    "        'yanchor': 'top'\n",
    "    },\n",
    "        yaxis_tickformat = '%')\n",
    "\n",
    "fig.update_layout(yaxis_range=[0,1])\n",
    "\n",
    "\n",
    "\n",
    "\n",
    "\n",
    "fig.show()"
   ]
  },
  {
   "cell_type": "markdown",
   "metadata": {},
   "source": [
    "- 아파트"
   ]
  },
  {
   "cell_type": "code",
   "execution_count": null,
   "metadata": {},
   "outputs": [],
   "source": [
    "# 2017년\n",
    "apt1_2017 = df2017_2.loc[df2017_2['C10'].isin([4]), 'C14'] # 아파트 4\n",
    "f1_2017 = apt1_2017.value_counts()[1] # 자가\n",
    "f2_2017 = apt1_2017.value_counts()[2] # 전세\n",
    "f3_2017 = apt1_2017.value_counts()[3] # 보증금이 있는 월세\n",
    "f4_2017 = 0 # 보증금이 없는 월세\n",
    "fsum_2017 = f1_2017 + f2_2017 + f3_2017 + f4_2017\n",
    "\n",
    "f1_2017 = round(f1_2017 / fsum_2017,3)\n",
    "f2_2017 = round(f2_2017 / fsum_2017,3)\n",
    "f3_2017 = round(f3_2017 / fsum_2017,3)\n",
    "f4_2017 = round(f4_2017 / fsum_2017,3)\n",
    "\n",
    "# 2016년\n",
    "apt1_2018 = df2018_2.loc[df2018_2['C7'].isin([4]), 'C10'] # 아파트 4\n",
    "f1_2018 = apt1_2018.value_counts()[1] # 자가\n",
    "f2_2018 = apt1_2018.value_counts()[2] # 전세\n",
    "f3_2018 = apt1_2018.value_counts()[3] # 보증금이 있는 월세\n",
    "f4_2018 = apt1_2018.value_counts()[4] # 보증금이 없는 월세\n",
    "fsum_2018 = f1_2018 + f2_2018 + f3_2018 + f4_2018\n",
    "\n",
    "f1_2018 = round(f1_2018 / fsum_2018,3)\n",
    "f2_2018 = round(f2_2018 / fsum_2018,3)\n",
    "f3_2018 = round(f3_2018 / fsum_2018,3)\n",
    "f4_2018 = round(f4_2018 / fsum_2018,3)\n",
    "\n",
    "# 2019년\n",
    "apt1_2019 = df2019_2.loc[df2019_2['C7'].isin([4]), 'C10'] # 아파트 4\n",
    "f1_2019 = apt1_2019.value_counts()[1] # 자가\n",
    "f2_2019 = apt1_2019.value_counts()[2] # 전세\n",
    "f3_2019 = apt1_2019.value_counts()[3] # 보증금이 있는 월세\n",
    "f4_2019 = 0 # 보증금이 없는 월세\n",
    "fsum_2019 = f1_2019 + f2_2019 + f3_2019 + f4_2019\n",
    "\n",
    "f1_2019 = round(f1_2019 / fsum_2019,3)\n",
    "f2_2019 = round(f2_2019 / fsum_2019,3)\n",
    "f3_2019 = round(f3_2019 / fsum_2019,3)\n",
    "f4_2019 = round(f4_2019 / fsum_2019,3)\n",
    "\n",
    "# 데이터프레임화 (아파트)\n",
    "df__10 = pd.DataFrame({'자가': [f1_2017, f1_2018, f1_2019],\n",
    "             '전세': [f2_2017, f2_2018, f2_2019],\n",
    "             '보증금 있는 월세': [f3_2017, f3_2018, f3_2019],\n",
    "             '보증금 없는 월세': [f4_2017, f4_2018, f4_2019]}, index=[2017, 2018, 2019])\n",
    "df__10"
   ]
  },
  {
   "cell_type": "code",
   "execution_count": null,
   "metadata": {},
   "outputs": [],
   "source": [
    "# 시각화\n",
    "fig = go.Figure()\n",
    "for column in df__10.columns:\n",
    "    fig.add_trace(go.Bar(x = df__10.index, y = df__10.loc[:,column], name= column))\n",
    "    \n",
    "fig.update_layout(\n",
    "    title=\"아파트 자가율 현황\",\n",
    "    xaxis_title=\"연도\",\n",
    "    yaxis_title=\"유형별 비율\",\n",
    "    legend_title=\"점유형태\"\n",
    "    )\n",
    "\n",
    "fig.update_layout(\n",
    "    title={\n",
    "        'text': \"아파트 자가율 현황\",\n",
    "        'y':0.9,\n",
    "        'x':0.5,\n",
    "        'xanchor': 'center',\n",
    "        'yanchor': 'top'\n",
    "    },\n",
    "        yaxis_tickformat = '%')\n",
    "\n",
    "fig.update_layout(yaxis_range=[0,1])\n",
    "\n",
    "\n",
    "\n",
    "\n",
    "\n",
    "fig.show()"
   ]
  },
  {
   "cell_type": "markdown",
   "metadata": {},
   "source": [
    "- 연립다세대"
   ]
  },
  {
   "cell_type": "code",
   "execution_count": null,
   "metadata": {},
   "outputs": [],
   "source": [
    "# 2017년\n",
    "apt2_2017 = df2017_2.loc[df2017_2['C10'].isin([5,6]), 'C14'] # 연립다세대 56\n",
    "v1_2017 = apt2_2017.value_counts()[1] # 자가\n",
    "v2_2017 = apt2_2017.value_counts()[2] # 전세\n",
    "v3_2017 = apt2_2017.value_counts()[3] # 보증금이 있는 월세\n",
    "v4_2017 = apt2_2017.value_counts()[4] # 보증금이 없는 월세\n",
    "vsum_2017 = v1_2017 + v2_2017 + v3_2017 + v4_2017\n",
    "\n",
    "v1_2017 = round(v1_2017 / vsum_2017,3)\n",
    "v2_2017 = round(v2_2017 / vsum_2017,3)\n",
    "v3_2017 = round(v3_2017 / vsum_2017,3)\n",
    "v4_2017 = round(v4_2017 / vsum_2017,3)\n",
    "\n",
    "# 2018년\n",
    "apt2_2018 = df2018_2.loc[df2018_2['C7'].isin([5,6]), 'C10'] # 연립다세대 56\n",
    "v1_2018 = apt2_2018.value_counts()[1] # 자가\n",
    "v2_2018 = apt2_2018.value_counts()[2] # 전세\n",
    "v3_2018 = apt2_2018.value_counts()[3] # 보증금이 있는 월세\n",
    "v4_2018 = 0 # 보증금이 없는 월세\n",
    "vsum_2018 = v1_2018 + v2_2018 + v3_2018 + v4_2018\n",
    "\n",
    "v1_2018 = round(v1_2018 / vsum_2018,3)\n",
    "v2_2018 = round(v2_2018 / vsum_2018,3)\n",
    "v3_2018 = round(v3_2018 / vsum_2018,3)\n",
    "v4_2018 = round(v4_2018 / vsum_2018,3)\n",
    "\n",
    "# 2019년\n",
    "apt2_2019 = df2019_2.loc[df2019_2['C7'].isin([5,6]), 'C10'] # 연립다세대 56\n",
    "v1_2019 = apt2_2019.value_counts()[1] # 자가\n",
    "v2_2019 = apt2_2019.value_counts()[2] # 전세\n",
    "v3_2019 = apt2_2019.value_counts()[3] # 보증금이 있는 월세\n",
    "v4_2019 = apt2_2019.value_counts()[4] # 보증금이 없는 월세\n",
    "vsum_2019 = v1_2019 + v2_2019 + v3_2019 + v4_2019\n",
    "\n",
    "v1_2019 = round(v1_2019 / vsum_2019,3)\n",
    "v2_2019 = round(v2_2019 / vsum_2019,3)\n",
    "v3_2019 = round(v3_2019 / vsum_2019,3)\n",
    "v4_2019 = round(v4_2019 / vsum_2019,3)\n",
    "\n",
    "# 데이터프레임화 (연립다세대)\n",
    "df__11 = pd.DataFrame({'자가': [v1_2017, v1_2018, v1_2019],\n",
    "             '전세': [v2_2017, v2_2018, v2_2019],\n",
    "             '보증금 있는 월세': [v3_2017, v3_2018, v3_2019],\n",
    "             '보증금 없는 월세': [v4_2017, v4_2018, v4_2019]}, index=[2017, 2018, 2019])\n",
    "\n",
    "df__11"
   ]
  },
  {
   "cell_type": "code",
   "execution_count": null,
   "metadata": {
    "scrolled": true
   },
   "outputs": [],
   "source": [
    "# 연립다세대의 자가유형 구분\n",
    "fig = go.Figure()\n",
    "for column in df__11.columns:\n",
    "    fig.add_trace(go.Bar(x = df__11.index, y = df__11.loc[:,column], name= column))\n",
    "    \n",
    "fig.update_layout(\n",
    "    title=\"연립다세대 자가율 현황\",\n",
    "    xaxis_title=\"연도\",\n",
    "    yaxis_title=\"유형별 비율\",\n",
    "    legend_title=\"점유형태\"\n",
    "    )\n",
    "\n",
    "fig.update_layout(\n",
    "    title={\n",
    "        'text': \"연립다세대 자가율 현황\",\n",
    "        'y':0.9,\n",
    "        'x':0.5,\n",
    "        'xanchor': 'center',\n",
    "        'yanchor': 'top'\n",
    "    },\n",
    "        yaxis_tickformat = '%')\n",
    "\n",
    "fig.update_layout(yaxis_range=[0,1])\n",
    "\n",
    "\n",
    "\n",
    "\n",
    "\n",
    "fig.show()"
   ]
  },
  {
   "cell_type": "markdown",
   "metadata": {},
   "source": [
    "## 1.7 세종시 보유율 현황"
   ]
  },
  {
   "cell_type": "markdown",
   "metadata": {},
   "source": [
    " - 주거실태조사: (17~19년) 세종시 주거실태 관련 데이터로 주택유형별 비율 산출\n",
    "   - df2017: mdis2017.csv\n",
    "   - df2018: mdis2018.csv\n",
    "   - df2019: mdis2019.csv"
   ]
  },
  {
   "cell_type": "code",
   "execution_count": null,
   "metadata": {},
   "outputs": [],
   "source": [
    "# 데이터 불러오기\n",
    "df2017 = pd.read_csv('mdis2017.csv', encoding='cp949')\n",
    "df2018 = pd.read_csv('mdis2018.csv', encoding='cp949')\n",
    "df2019 = pd.read_csv('mdis2019.csv', encoding='cp949')\n",
    "\n",
    "# 연도별 세종시 및 필요 열들만 선별\n",
    "df2017_1 = df2017[['C5', 'C10', 'C14', 'C23', 'C29', 'C30', 'C49', 'C50', 'C51', 'C52', 'C53', 'C54', 'C94', 'C96', 'C98', 'C153', 'C154', 'C224', 'C225', 'C226', 'C227', 'C228', 'C229', 'C230', 'C231', 'C232', 'C233', 'C313']]\n",
    "df2017_2 = df2017_1[df2017_1['C5'] == 29].reset_index(drop=True)\n",
    "\n",
    "df2018_1 = df2018[['C1', 'C7', 'C10', 'C19', 'C25', 'C26', 'C37', 'C38', 'C39', 'C40', 'C41', 'C42', 'C75', 'C77', 'C79', 'C135', 'C136', 'C217', 'C218', 'C219', 'C220', 'C221', 'C222', 'C223', 'C224', 'C225', 'C226', 'C308']]\n",
    "df2018_2 = df2018_1[df2018_1['C1'] == 29].reset_index(drop=True)\n",
    "\n",
    "df2019_1 = df2019[['C1', 'C7', 'C10', 'C19', 'C25', 'C26', 'C35', 'C36', 'C37', 'C38', 'C39', 'C40', 'C81', 'C83', 'C85', 'C143', 'C144', 'C202', 'C203', 'C204', 'C205','C206', 'C207', 'C208', 'C209', 'C210', 'C211', 'C291']]\n",
    "df2019_2 = df2019_1[df2019_1['C1'] == 29].reset_index(drop=True)\n",
    "\n",
    "df2017_2.shape, df2018_2.shape, df2019_2.shape "
   ]
  },
  {
   "cell_type": "markdown",
   "metadata": {},
   "source": [
    "- 주택유형별 및 년도별 보유율 데이터프레임 형성"
   ]
  },
  {
   "cell_type": "code",
   "execution_count": null,
   "metadata": {},
   "outputs": [],
   "source": [
    "# 2017년\n",
    "g1_2017 = df2017_2[(df2017_2['C14'] == 1) & (df2017_2['C23'] == 1)].shape[0] # 자가 & 현재주택외보유0: 다주택\n",
    "g2_2017 = df2017_2[(df2017_2['C14'] == 1) & (df2017_2['C23'] == 2)].shape[0] # 자가 & 현재주택외보유X: 1주택 가구\n",
    "g3_2017 = df2017_2[(df2017_2['C14'].isin([2,3,4,5,6])) & (df2017_2['C23'] == 1)].shape[0] # 차가 & 현재주택외보유0: 분리가구\n",
    "g4_2017 = df2017_2[(df2017_2['C14'].isin([2,3,4,5,6])) & (df2017_2['C23'] == 2)].shape[0] # 차가 & 현재주택외보유X: 무주택자\n",
    "gsum_2017 = g1_2017 + g2_2017 + g3_2017 + g4_2017 \n",
    "\n",
    "g1_2017 = round(g1_2017 / gsum_2017,3)\n",
    "g2_2017 = round(g2_2017 / gsum_2017,3)\n",
    "g3_2017 = round(g3_2017 / gsum_2017,3)\n",
    "g4_2017 = round(g4_2017 / gsum_2017,3) \n",
    "\n",
    "# 2018년\n",
    "g1_2018 = df2018_2[(df2018_2['C10'] == 1) & (df2018_2['C19'] == 1)].shape[0] # 자가 & 현재주택외보유0\n",
    "g2_2018 = df2018_2[(df2018_2['C10'] == 1) & (df2018_2['C19'] == 2)].shape[0] # 자가 & 현재주택외보유X\n",
    "g3_2018 = df2018_2[(df2018_2['C10'].isin([2,3,4,5,6])) & (df2018_2['C19'] == 1)].shape[0] # 차가 & 현재주택외보유0\n",
    "g4_2018 = df2018_2[(df2018_2['C10'].isin([2,3,4,5,6])) & (df2018_2['C19'] == 2)].shape[0] # 차가 & 현재주택외보유X\n",
    "\n",
    "gsum_2018 = g1_2018 + g2_2018 + g3_2018 + g4_2018 \n",
    "\n",
    "g1_2018 = round(g1_2018 / gsum_2018,3)\n",
    "g2_2018 = round(g2_2018 / gsum_2018,3)\n",
    "g3_2018 = round(g3_2018 / gsum_2018,3)\n",
    "g4_2018 = round(g4_2018 / gsum_2018,3) \n",
    "\n",
    "# 2019년\n",
    "g1_2019 = df2019_2[(df2019_2['C10'] == 1) & (df2019_2['C19'] == 1)].shape[0] # 자가 & 현재주택외보유0\n",
    "g2_2019 = df2019_2[(df2019_2['C10'] == 1) & (df2019_2['C19'] == 2)].shape[0] # 자가 & 현재주택외보유X\n",
    "g3_2019 = df2019_2[(df2019_2['C10'].isin([2,3,4,5,6])) & (df2019_2['C19'] == 1)].shape[0] # 차가 & 현재주택외보유0\n",
    "g4_2019 = df2019_2[(df2019_2['C10'].isin([2,3,4,5,6])) & (df2019_2['C19'] == 2)].shape[0] # 차가 & 현재주택외보유X\n",
    "gsum_2019 = g1_2019 + g2_2019 + g3_2019 + g4_2019 \n",
    "\n",
    "g1_2019 = round(g1_2019 / gsum_2019,3)\n",
    "g2_2019 = round(g2_2019 / gsum_2019,3)\n",
    "g3_2019 = round(g3_2019 / gsum_2019,3)\n",
    "g4_2019 = round(g4_2019 / gsum_2019,3)\n",
    "\n",
    "# 데이터프레임 생성\n",
    "df__3 = pd.DataFrame({'자가&현재주택외보유O': [g1_2017, g1_2018, g1_2019],\n",
    "             '자가&현재주택외보유X': [g2_2017, g2_2018, g2_2019],\n",
    "             '차가&현재주택외보유O': [g3_2017, g3_2018, g3_2019],\n",
    "             '차가&현재주택외보유X': [g4_2017, g4_2018, g4_2019]}, index=[2017, 2018, 2019])\n",
    "df__3"
   ]
  },
  {
   "cell_type": "markdown",
   "metadata": {},
   "source": [
    "- 년도별 자가율에 대한 데이터프레임 형성"
   ]
  },
  {
   "cell_type": "code",
   "execution_count": null,
   "metadata": {},
   "outputs": [],
   "source": [
    "# 2017년\n",
    "b1_2017 = df2017_2['C14'].value_counts()[1] # 자가\n",
    "b2_2017 = df2017_2['C14'].value_counts()[2] + df2017_2['C14'].value_counts()[3] + df2017_2['C14'].value_counts()[4] + df2017_2['C14'].value_counts()[5] # 차가\n",
    "bsum_2017 = b1_2017 + b2_2017\n",
    "\n",
    "b1_2017 = round(b1_2017 / bsum_2017,3)\n",
    "b2_2017 = round(b2_2017 / bsum_2017,3)\n",
    "\n",
    "# 2018년\n",
    "b1_2018 = df2018_2['C10'].value_counts()[1] # 자가\n",
    "b2_2018 = df2018_2['C10'].value_counts()[2] +  df2018_2['C10'].value_counts()[3] + df2018_2['C10'].value_counts()[4] + df2018_2['C10'].value_counts()[5] + df2018_2['C10'].value_counts()[6]# 차가\n",
    "bsum_2018 = b1_2018 + b2_2018\n",
    "\n",
    "b1_2018 = round(b1_2018 / bsum_2018,3)\n",
    "b2_2018 = round(b2_2018 / bsum_2018,3)\n",
    "\n",
    "# 2019년\n",
    "b1_2019 = df2019_2['C10'].value_counts()[1] # 자가\n",
    "b2_2019 = df2019_2['C10'].value_counts()[2] + df2019_2['C10'].value_counts()[3] + df2019_2['C10'].value_counts()[4] + df2019_2['C10'].value_counts()[5]# 차가\n",
    "bsum_2019 = b1_2019 + b2_2019\n",
    "\n",
    "b1_2019 = round(b1_2019 / bsum_2019,3)\n",
    "b2_2019 = round(b2_2019 / bsum_2019,3)\n",
    "\n",
    "# 데이터프레임 생성\n",
    "df__4 = pd.DataFrame({'자가율': [b1_2017, b1_2018, b1_2019],\n",
    "             '차가율': [b2_2017, b2_2018, b2_2019]}, index=[2017, 2018, 2019])\n",
    "df__4"
   ]
  },
  {
   "cell_type": "markdown",
   "metadata": {},
   "source": [
    "- 년도별 보유 또는 무보유 비율에 대한 데이터프레임 형성"
   ]
  },
  {
   "cell_type": "code",
   "execution_count": null,
   "metadata": {},
   "outputs": [],
   "source": [
    "# 2017년\n",
    "m1_2017 = round(g1_2017 + g2_2017 + g3_2017, 3)\n",
    "m2_2017 = round(g4_2017, 3)\n",
    "                   \n",
    "# 2018년\n",
    "m1_2018 = round(g1_2018 + g2_2018 + g3_2018, 3)\n",
    "m2_2018 = round(g4_2018, 3)\n",
    "                   \n",
    "# 2019년\n",
    "m1_2019 = round(g1_2019 + g2_2019 + g3_2019,3)\n",
    "m2_2019 = round(g4_2019,3)\n",
    "                   \n",
    "# 데이터프레임 생성\n",
    "df__5 = pd.DataFrame({'보유율': [m1_2017, m1_2018, m1_2019],\n",
    "             '무보유율': [m2_2017, m2_2018, m2_2019]}, index=[2017, 2018, 2019])\n",
    "df__5"
   ]
  },
  {
   "cell_type": "markdown",
   "metadata": {},
   "source": [
    "- 세종시 보유율 시각화"
   ]
  },
  {
   "cell_type": "code",
   "execution_count": null,
   "metadata": {
    "scrolled": true
   },
   "outputs": [],
   "source": [
    "fig = go.Figure()\n",
    "\n",
    "names = ['다주택가구', '1주택(자가)가구', '분리가구', '무주택가구']\n",
    "for column, name in zip(df__3.columns, names):\n",
    "    fig.add_trace(go.Bar(x = ['2017', '2018', '2019'], y = df__3.loc[:,column], name= name))\n",
    "\n",
    "fig.add_trace(go.Scatter(x = ['2017', '2018', '2019'], y = df__4.loc[:,'자가율'], name= '자가율', line_color = 'red'))\n",
    "fig.add_trace(go.Scatter(x = ['2017', '2018', '2019'], y = df__5.loc[:,'보유율'], name= '보유율', line_color = 'blue'))\n",
    "    \n",
    "fig.update_layout(\n",
    "    title=\"세종시 보유율 현황\",\n",
    "    xaxis_title=\"연도\",\n",
    "    yaxis_title=\"유형별 비율\",\n",
    "    legend_title=\"유형\"\n",
    "    )\n",
    "\n",
    "fig.update_layout(\n",
    "    title={\n",
    "        'text': \"세종시 보유율 현황\",\n",
    "        'y':0.9,\n",
    "        'x':0.5,\n",
    "        'xanchor': 'center',\n",
    "        'yanchor': 'top'\n",
    "    },\n",
    "        yaxis_tickformat = '%')\n",
    "\n",
    "fig.update_layout(yaxis_range=[0,1])\n",
    "\n",
    "\n",
    "\n",
    "fig.show()"
   ]
  },
  {
   "cell_type": "markdown",
   "metadata": {},
   "source": [
    "## 1.8 현재주택으로의 이사이유"
   ]
  },
  {
   "cell_type": "markdown",
   "metadata": {},
   "source": [
    "- 현재주택으로의 이사이유 (전체, 자가 구분)\n",
    " - 주거실태조사: (17~19년) 세종시 주거실태 관련 데이터로 전체인구 및 자가인에 대한 이사이유 시각화\n",
    "   - df2017: mdis2017.csv\n",
    "   - df2018: mdis2018.csv\n",
    "   - df2019: mdis2019.csv"
   ]
  },
  {
   "cell_type": "code",
   "execution_count": null,
   "metadata": {},
   "outputs": [],
   "source": [
    "# 데이터 불러오기\n",
    "df2017 = pd.read_csv('mdis2017.csv', encoding='cp949')\n",
    "df2018 = pd.read_csv('mdis2018.csv', encoding='cp949')\n",
    "df2019 = pd.read_csv('mdis2019.csv', encoding='cp949')\n",
    "\n",
    "# 연도별 세종시 및 필요 열들만 선별\n",
    "df2017_1 = df2017[['C5', 'C10', 'C14', 'C23', 'C29', 'C30', 'C49', 'C50', 'C51', 'C52', 'C53', 'C54', 'C94', 'C96', 'C98', 'C153', 'C154', 'C224', 'C225', 'C226', 'C227', 'C228', 'C229', 'C230', 'C231', 'C232', 'C233', 'C313']]\n",
    "df2017_2 = df2017_1[df2017_1['C5'] == 29].reset_index(drop=True)\n",
    "\n",
    "df2018_1 = df2018[['C1', 'C7', 'C10', 'C19', 'C25', 'C26', 'C37', 'C38', 'C39', 'C40', 'C41', 'C42', 'C75', 'C77', 'C79', 'C135', 'C136', 'C217', 'C218', 'C219', 'C220', 'C221', 'C222', 'C223', 'C224', 'C225', 'C226', 'C308']]\n",
    "df2018_2 = df2018_1[df2018_1['C1'] == 29].reset_index(drop=True)\n",
    "\n",
    "df2019_1 = df2019[['C1', 'C7', 'C10', 'C19', 'C25', 'C26', 'C35', 'C36', 'C37', 'C38', 'C39', 'C40', 'C81', 'C83', 'C85', 'C143', 'C144', 'C202', 'C203', 'C204', 'C205','C206', 'C207', 'C208', 'C209', 'C210', 'C211', 'C291']]\n",
    "df2019_2 = df2019_1[df2019_1['C1'] == 29].reset_index(drop=True)\n",
    "\n",
    "df2017_2.shape, df2018_2.shape, df2019_2.shape "
   ]
  },
  {
   "cell_type": "markdown",
   "metadata": {},
   "source": [
    "- 전체인구에 대한 이사이유 분석"
   ]
  },
  {
   "cell_type": "code",
   "execution_count": null,
   "metadata": {},
   "outputs": [],
   "source": [
    "# 2017년\n",
    "df2017_a = df2017_2.loc[:,['C153', 'C154']]\n",
    "df2017_a.dropna(inplace=True)\n",
    "df2017_b = pd.DataFrame(df2017_a['C153'].value_counts()).reset_index().sort_values(by='index').set_index('index')\n",
    "df2017_c = pd.DataFrame(df2017_a['C154'].value_counts()).reset_index().sort_values(by='index').set_index('index')\n",
    "df2017_d = pd.concat([df2017_b, df2017_c], axis=1)\n",
    "df2017_d.fillna(0, inplace=True)\n",
    "df2017_d['2017value'] = df2017_d['C153'] + df2017_d['C154']\n",
    "df2017_d.drop(['C153', 'C154'], axis=1, inplace=True)\n",
    "df2017_d = round(df2017_d / df2017_d.sum()[0],3)\n",
    "df2017_d = df2017_d.loc[[2,8,10],:]\n",
    "df2017_d"
   ]
  },
  {
   "cell_type": "code",
   "execution_count": null,
   "metadata": {},
   "outputs": [],
   "source": [
    "# 2018년\n",
    "df2018_a = df2018_2.loc[:,['C135', 'C136']]\n",
    "df2018_a.dropna(inplace=True)\n",
    "df2018_b = pd.DataFrame(df2018_a['C135'].value_counts()).reset_index().sort_values(by='index').set_index('index')\n",
    "df2018_c = pd.DataFrame(df2018_a['C136'].value_counts()).reset_index().sort_values(by='index').set_index('index')\n",
    "df2018_d = pd.concat([df2018_b, df2018_c], axis=1)\n",
    "df2018_d.fillna(0, inplace=True)\n",
    "df2018_d['2018value'] = df2018_d['C135'] + df2018_d['C136']\n",
    "df2018_d.drop(['C135', 'C136'], axis=1, inplace=True)\n",
    "df2018_d = round(df2018_d / df2018_d.sum()[0],3)\n",
    "df2018_d = df2018_d.loc[[2,8,10],:]\n",
    "df2018_d"
   ]
  },
  {
   "cell_type": "code",
   "execution_count": null,
   "metadata": {
    "scrolled": true
   },
   "outputs": [],
   "source": [
    "# 2019년\n",
    "df2019_a = df2019_2.loc[:,['C143', 'C144']]\n",
    "df2019_a.dropna(inplace=True)\n",
    "df2019_b = pd.DataFrame(df2019_a['C143'].value_counts()).reset_index().sort_values(by='index').set_index('index')\n",
    "df2019_c = pd.DataFrame(df2019_a['C144'].value_counts()).reset_index().sort_values(by='index').set_index('index')\n",
    "df2019_d = pd.concat([df2019_b, df2019_c], axis=1)\n",
    "df2019_d.fillna(0, inplace=True)\n",
    "df2019_d['2019value'] = df2019_d['C143'] + df2019_d['C144']\n",
    "df2019_d.drop(['C143', 'C144'], axis=1, inplace=True)\n",
    "df2019_d = round(df2019_d / df2019_d.sum()[0],3)\n",
    "df2019_d = df2019_d.loc[[2,8,10],:]\n",
    "df2019_d"
   ]
  },
  {
   "cell_type": "code",
   "execution_count": null,
   "metadata": {},
   "outputs": [],
   "source": [
    "# 데이터프레임화 \n",
    "df__6 = pd.concat([df2017_d, df2018_d, df2019_d], axis=1).transpose()\n",
    "df__6.index = [2017, 2018, 2019]"
   ]
  },
  {
   "cell_type": "code",
   "execution_count": null,
   "metadata": {},
   "outputs": [],
   "source": [
    "# 집을 보유한 인구에 대한 세종시로 이사온 이유의 비율\n",
    "reasons = ['자가주택 마련 및 분양받은 경우',\n",
    "          '가구원 증감',\n",
    "          '직주근접 및 직장변동']\n",
    "\n",
    "fig = go.Figure()\n",
    "for column, reason in zip(df__6.columns, reasons):\n",
    "    fig.add_trace(go.Bar(x = df__6.index, y = df__6.loc[:,column], name=reason))\n",
    "    \n",
    "fig.update_layout(\n",
    "    title=\"세종시 전체 인구의 세종시로 이사온 이유에 따른 비율\",\n",
    "    xaxis_title=\"연도\",\n",
    "    yaxis_title=\"비율\",\n",
    "    legend_title=\"이유\"\n",
    "    )\n",
    "\n",
    "fig.update_layout(\n",
    "    title={\n",
    "        'text': \"세종시 전체 인구의 세종시로 이사온 이유에 따른 비율\",\n",
    "        'y':0.95,\n",
    "        'x':0.5,\n",
    "        'xanchor': 'center',\n",
    "        'yanchor': 'top'\n",
    "    },\n",
    "    yaxis_tickformat = '%')\n",
    "\n",
    "fig.update_layout(yaxis_range=[0,1])\n",
    "\n",
    "\n",
    "\n",
    "\n",
    "\n",
    "fig.show()"
   ]
  },
  {
   "cell_type": "markdown",
   "metadata": {},
   "source": [
    "- 자가인에 대한 이사이유 분석"
   ]
  },
  {
   "cell_type": "code",
   "execution_count": null,
   "metadata": {},
   "outputs": [],
   "source": [
    "# 2017년\n",
    "df2017_a1 = df2017_2.loc[(df2017_2['C14'] == 1),['C153', 'C154']]\n",
    "df2017_a1.dropna(inplace=True)\n",
    "df2017_b1 = pd.DataFrame(df2017_a1['C153'].value_counts()).reset_index().sort_values(by='index').set_index('index')\n",
    "df2017_c1 = pd.DataFrame(df2017_a1['C154'].value_counts()).reset_index().sort_values(by='index').set_index('index')\n",
    "df2017_d1 = pd.concat([df2017_b1, df2017_c1], axis=1)\n",
    "df2017_d1.fillna(0, inplace=True)\n",
    "df2017_d1['2017value'] = df2017_d1['C153'] + df2017_d1['C154']\n",
    "df2017_d1.drop(['C153', 'C154'], axis=1, inplace=True)\n",
    "df2017_d1 = round(df2017_d1 / df2017_d1.sum()[0],3)\n",
    "df2017_d1 = df2017_d1.loc[[2,8,10],:]\n",
    "df2017_d1"
   ]
  },
  {
   "cell_type": "code",
   "execution_count": null,
   "metadata": {},
   "outputs": [],
   "source": [
    "# 2018년\n",
    "df2018_a1 = df2018_2.loc[df2018_2['C10'] == 1, ['C135', 'C136']]\n",
    "df2018_a1.dropna(inplace=True)\n",
    "df2018_b1 = pd.DataFrame(df2018_a1['C135'].value_counts()).reset_index().sort_values(by='index').set_index('index')\n",
    "df2018_c1 = pd.DataFrame(df2018_a1['C136'].value_counts()).reset_index().sort_values(by='index').set_index('index')\n",
    "df2018_d1 = pd.concat([df2018_b1, df2018_c1], axis=1)\n",
    "df2018_d1.fillna(0, inplace=True)\n",
    "df2018_d1['2018value'] = df2018_d1['C135'] + df2018_d1['C136']\n",
    "df2018_d1.drop(['C135', 'C136'], axis=1, inplace=True)\n",
    "df2018_d1 = round(df2018_d1 / df2018_d1.sum()[0],3)\n",
    "df2018_d1 = df2018_d1.loc[[2,8,10],:]\n",
    "df2018_d1"
   ]
  },
  {
   "cell_type": "code",
   "execution_count": null,
   "metadata": {
    "scrolled": true
   },
   "outputs": [],
   "source": [
    "# 2019년\n",
    "df2019_a1 = df2019_2.loc[df2019_2['C10'] == 1, ['C143', 'C144']]\n",
    "df2019_a1.dropna(inplace=True)\n",
    "df2019_b1 = pd.DataFrame(df2019_a1['C143'].value_counts()).reset_index().sort_values(by='index').set_index('index')\n",
    "df2019_c1 = pd.DataFrame(df2019_a1['C144'].value_counts()).reset_index().sort_values(by='index').set_index('index')\n",
    "df2019_d1 = pd.concat([df2019_b1, df2019_c1], axis=1)\n",
    "df2019_d1.fillna(0, inplace=True)\n",
    "df2019_d1['2019value'] = df2019_d1['C143'] + df2019_d1['C144']\n",
    "df2019_d1.drop(['C143', 'C144'], axis=1, inplace=True)\n",
    "df2019_d1 = round(df2019_d1 / df2019_d1.sum()[0],3)\n",
    "df2019_d1 = df2019_d1.loc[[2,8,10],:]\n",
    "df2019_d1"
   ]
  },
  {
   "cell_type": "code",
   "execution_count": null,
   "metadata": {},
   "outputs": [],
   "source": [
    "# 자가\n",
    "df__7 = pd.concat([df2017_d1, df2018_d1, df2019_d1], axis=1).transpose()\n",
    "df__7.index = [2017, 2018, 2019]"
   ]
  },
  {
   "cell_type": "code",
   "execution_count": null,
   "metadata": {
    "scrolled": true
   },
   "outputs": [],
   "source": [
    "# 집을 보유한 인구에 대한 세종시로 이사온 이유의 비율\n",
    "reasons = ['자가주택 마련 및 분양받은 경우',\n",
    "          '가구원 증감',\n",
    "          '직주근접 및 직장변동']\n",
    "\n",
    "fig = go.Figure()\n",
    "for column, reason in zip(df__7.columns, reasons):\n",
    "    fig.add_trace(go.Bar(x = df__7.index, y = df__7.loc[:,column], name=reason))\n",
    "    \n",
    "fig.update_layout(\n",
    "    title=\"집을 보유한 인구의 세종시로 이사온 이유에 따른 비율\",\n",
    "    xaxis_title=\"연도\",\n",
    "    yaxis_title=\"비율\",\n",
    "    legend_title=\"이유\"\n",
    "    )\n",
    "\n",
    "fig.update_layout(\n",
    "    title={\n",
    "        'text': \"집을 보유한 인구의 세종시로 이사온 이유에 따른 비율\",\n",
    "        'y':0.95,\n",
    "        'x':0.5,\n",
    "        'xanchor': 'center',\n",
    "        'yanchor': 'top'\n",
    "    },\n",
    "    yaxis_tickformat = '%')\n",
    "\n",
    "fig.update_layout(yaxis_range=[0,1])\n",
    "\n",
    "\n",
    "\n",
    "\n",
    "\n",
    "fig.show()"
   ]
  },
  {
   "cell_type": "markdown",
   "metadata": {},
   "source": [
    "- 현재주택으로의 이사이유 (무주택자, 유주택자 구분)\n",
    " - 주거실태조사: (17~19년) 세종시 주거실태 관련 데이터로 거주주택여부에 따른 이사이유 시각화\n",
    "   - df2017: mdis2017.csv\n",
    "   - df2018: mdis2018.csv\n",
    "   - df2019: mdis2019.csv"
   ]
  },
  {
   "cell_type": "markdown",
   "metadata": {},
   "source": [
    "- 유주택자: 다주택가구 + 1주택가구 + 분리가구"
   ]
  },
  {
   "cell_type": "code",
   "execution_count": null,
   "metadata": {},
   "outputs": [],
   "source": [
    "# 데이터 불러오기\n",
    "df2017 = pd.read_csv('mdis2017.csv', encoding='cp949')\n",
    "df2018 = pd.read_csv('mdis2018.csv', encoding='cp949')\n",
    "df2019 = pd.read_csv('mdis2019.csv', encoding='cp949')\n",
    "\n",
    "# 연도별 세종시 및 필요 열들만 선별\n",
    "df2017_1 = df2017[['C5', 'C10', 'C14', 'C23', 'C29', 'C30', 'C49', 'C50', 'C51', 'C52', 'C53', 'C54', 'C94', 'C96', 'C98', 'C153', 'C154', 'C224', 'C225', 'C226', 'C227', 'C228', 'C229', 'C230', 'C231', 'C232', 'C233', 'C313']]\n",
    "df2017_2 = df2017_1[df2017_1['C5'] == 29].reset_index(drop=True)\n",
    "\n",
    "df2018_1 = df2018[['C1', 'C7', 'C10', 'C19', 'C25', 'C26', 'C37', 'C38', 'C39', 'C40', 'C41', 'C42', 'C75', 'C77', 'C79', 'C135', 'C136', 'C217', 'C218', 'C219', 'C220', 'C221', 'C222', 'C223', 'C224', 'C225', 'C226', 'C308']]\n",
    "df2018_2 = df2018_1[df2018_1['C1'] == 29].reset_index(drop=True)\n",
    "\n",
    "df2019_1 = df2019[['C1', 'C7', 'C10', 'C19', 'C25', 'C26', 'C35', 'C36', 'C37', 'C38', 'C39', 'C40', 'C81', 'C83', 'C85', 'C143', 'C144', 'C202', 'C203', 'C204', 'C205','C206', 'C207', 'C208', 'C209', 'C210', 'C211', 'C291']]\n",
    "df2019_2 = df2019_1[df2019_1['C1'] == 29].reset_index(drop=True)\n",
    "\n",
    "df2017_2.shape, df2018_2.shape, df2019_2.shape "
   ]
  },
  {
   "cell_type": "code",
   "execution_count": null,
   "metadata": {},
   "outputs": [],
   "source": [
    "# 2017년\n",
    "df2017_a1 = df2017_2.loc[(df2017_2['C14'] == 1) | ((df2017_2['C14'].isin([2,3,4,5,6])) & (df2017_2['C23'] == 1)),['C153', 'C154']]\n",
    "df2017_a1.dropna(inplace=True)\n",
    "df2017_b1 = pd.DataFrame(df2017_a1['C153'].value_counts()).reset_index().sort_values(by='index').set_index('index')\n",
    "df2017_c1 = pd.DataFrame(df2017_a1['C154'].value_counts()).reset_index().sort_values(by='index').set_index('index')\n",
    "df2017_d1 = pd.concat([df2017_b1, df2017_c1], axis=1)\n",
    "df2017_d1.fillna(0, inplace=True)\n",
    "df2017_d1['2017value'] = df2017_d1['C153'] + df2017_d1['C154']\n",
    "df2017_d1.drop(['C153', 'C154'], axis=1, inplace=True)\n",
    "df2017_d1 = round(df2017_d1 / df2017_d1.sum()[0],3)\n",
    "df2017_d1 = df2017_d1.loc[[2,8,10],:]\n",
    "df2017_d1"
   ]
  },
  {
   "cell_type": "code",
   "execution_count": null,
   "metadata": {},
   "outputs": [],
   "source": [
    "# 2018년\n",
    "df2018_a1 = df2018_2.loc[(df2018_2['C10'] == 1) | ((df2017_2['C14'].isin([2,3,4,5,6])) & (df2017_2['C23'] == 1)),['C135', 'C136']]\n",
    "df2018_a1.dropna(inplace=True)\n",
    "df2018_b1 = pd.DataFrame(df2018_a1['C135'].value_counts()).reset_index().sort_values(by='index').set_index('index')\n",
    "df2018_c1 = pd.DataFrame(df2018_a1['C136'].value_counts()).reset_index().sort_values(by='index').set_index('index')\n",
    "df2018_d1 = pd.concat([df2018_b1, df2018_c1], axis=1)\n",
    "df2018_d1.fillna(0, inplace=True)\n",
    "df2018_d1['2018value'] = df2018_d1['C135'] + df2018_d1['C136']\n",
    "df2018_d1.drop(['C135', 'C136'], axis=1, inplace=True)\n",
    "df2018_d1 = round(df2018_d1 / df2018_d1.sum()[0],3)\n",
    "df2018_d1 = df2018_d1.loc[[2,8,10],:]\n",
    "df2018_d1"
   ]
  },
  {
   "cell_type": "code",
   "execution_count": null,
   "metadata": {},
   "outputs": [],
   "source": [
    "# 2019년\n",
    "df2019_a1 = df2019_2.loc[(df2019_2['C10'] == 1) | ((df2017_2['C14'].isin([2,3,4,5,6])) & (df2017_2['C23'] == 1)), ['C143', 'C144']]\n",
    "df2019_a1.dropna(inplace=True)\n",
    "df2019_b1 = pd.DataFrame(df2019_a1['C143'].value_counts()).reset_index().sort_values(by='index').set_index('index')\n",
    "df2019_c1 = pd.DataFrame(df2019_a1['C144'].value_counts()).reset_index().sort_values(by='index').set_index('index')\n",
    "df2019_d1 = pd.concat([df2019_b1, df2019_c1], axis=1)\n",
    "df2019_d1.fillna(0, inplace=True)\n",
    "df2019_d1['2019value'] = df2019_d1['C143'] + df2019_d1['C144']\n",
    "df2019_d1.drop(['C143', 'C144'], axis=1, inplace=True)\n",
    "df2019_d1 = round(df2019_d1 / df2019_d1.sum()[0],3)\n",
    "df2019_d1 = df2019_d1.loc[[2,8,10],:]\n",
    "df2019_d1"
   ]
  },
  {
   "cell_type": "code",
   "execution_count": null,
   "metadata": {},
   "outputs": [],
   "source": [
    "# 데이터프레임 생성\n",
    "df__7 = pd.concat([df2017_d1, df2018_d1, df2019_d1], axis=1).transpose()\n",
    "df__7.index = [2017, 2018, 2019]\n",
    "df__7"
   ]
  },
  {
   "cell_type": "code",
   "execution_count": null,
   "metadata": {},
   "outputs": [],
   "source": [
    "# 집을 보유한 인구에 대한 세종시로 이사온 이유의 비율\n",
    "reasons = ['자가주택 마련 및 분양받은 경우',\n",
    "          '가구원 증감',\n",
    "          '직주근접 및 직장변동']\n",
    "\n",
    "fig = go.Figure()\n",
    "for column, reason in zip(df__7.columns, reasons):\n",
    "    fig.add_trace(go.Bar(x = df__7.index, y = df__7.loc[:,column], name=reason))\n",
    "    \n",
    "fig.update_layout(\n",
    "    title=\"유주택자의 세종시로 이사온 이유에 따른 비율\",\n",
    "    xaxis_title=\"연도\",\n",
    "    yaxis_title=\"비율\",\n",
    "    legend_title=\"이유\"\n",
    "    )\n",
    "\n",
    "fig.update_layout(\n",
    "    title={\n",
    "        'text': \"유주택자의의 세종시로 이사온 이유에 따른 비율\",\n",
    "        'y':0.95,\n",
    "        'x':0.5,\n",
    "        'xanchor': 'center',\n",
    "        'yanchor': 'top'\n",
    "    },\n",
    "    yaxis_tickformat = '%')\n",
    "\n",
    "fig.update_layout(yaxis_range=[0,1])\n",
    "\n",
    "\n",
    "\n",
    "\n",
    "\n",
    "fig.show()"
   ]
  },
  {
   "cell_type": "markdown",
   "metadata": {},
   "source": [
    "- 무주택자: 무주택가구"
   ]
  },
  {
   "cell_type": "code",
   "execution_count": null,
   "metadata": {},
   "outputs": [],
   "source": [
    "# 2017년\n",
    "df2017_a2 = df2017_2.loc[(df2017_2['C14'].isin([2,3,4,5,6])) & (df2017_2['C23'] == 2), ['C153', 'C154']]\n",
    "df2017_a2.dropna(inplace=True)\n",
    "df2017_b2 = pd.DataFrame(df2017_a2['C153'].value_counts()).reset_index().sort_values(by='index').set_index('index')\n",
    "df2017_c2 = pd.DataFrame(df2017_a2['C154'].value_counts()).reset_index().sort_values(by='index').set_index('index')\n",
    "df2017_d2 = pd.concat([df2017_b2, df2017_c2], axis=1)\n",
    "df2017_d2.fillna(0, inplace=True)\n",
    "df2017_d2['2017value'] = df2017_d2['C153'] + df2017_d2['C154']\n",
    "df2017_d2.drop(['C153', 'C154'], axis=1, inplace=True)\n",
    "df2017_d2 = round(df2017_d2 / df2017_d2.sum()[0],3)\n",
    "df2017_d2 = df2017_d2.loc[[8,10],:]\n",
    "df2017_d2 = pd.concat([pd.DataFrame({'2017value':[0]}, index=[2]), df2017_d2]) # 자가주택 마련 이유는 비율이 없으므로, 임의로 0값을 추가\n",
    "df2017_d2"
   ]
  },
  {
   "cell_type": "code",
   "execution_count": null,
   "metadata": {},
   "outputs": [],
   "source": [
    "# 2018년\n",
    "df2018_a2 = df2018_2.loc[(df2018_2['C10'].isin([2,3,4,5,6])) & (df2018_2['C19'] == 2), ['C135', 'C136']]\n",
    "df2018_a2.dropna(inplace=True)\n",
    "df2018_b2 = pd.DataFrame(df2018_a2['C135'].value_counts()).reset_index().sort_values(by='index').set_index('index')\n",
    "df2018_c2 = pd.DataFrame(df2018_a2['C136'].value_counts()).reset_index().sort_values(by='index').set_index('index')\n",
    "df2018_d2 = pd.concat([df2018_b2, df2018_c2], axis=1)\n",
    "df2018_d2.fillna(0, inplace=True)\n",
    "df2018_d2['2018value'] = df2018_d2['C135'] + df2018_d2['C136']\n",
    "df2018_d2.drop(['C135', 'C136'], axis=1, inplace=True)\n",
    "df2018_d2 = round(df2018_d2 / df2018_d2.sum()[0],3)\n",
    "df2018_d2 = df2018_d2.loc[[8,10],:]\n",
    "df2018_d2 = pd.concat([pd.DataFrame({'2018value':[0]}, index=[2]), df2018_d2]) # 자가주택 마련 이유는 비율이 없으므로, 임의로 0값을 추가\n",
    "df2018_d2"
   ]
  },
  {
   "cell_type": "code",
   "execution_count": null,
   "metadata": {},
   "outputs": [],
   "source": [
    "# 2019년\n",
    "df2019_a2 = df2019_2.loc[(df2019_2['C10'].isin([2,3,4,5,6])) & (df2019_2['C19'] == 2), ['C143', 'C144']]\n",
    "df2019_a2.dropna(inplace=True)\n",
    "df2019_b2 = pd.DataFrame(df2019_a2['C143'].value_counts()).reset_index().sort_values(by='index').set_index('index')\n",
    "df2019_c2 = pd.DataFrame(df2019_a2['C144'].value_counts()).reset_index().sort_values(by='index').set_index('index')\n",
    "df2019_d2 = pd.concat([df2019_b2, df2019_c2], axis=1)\n",
    "df2019_d2.fillna(0, inplace=True)\n",
    "df2019_d2['2019value'] = df2019_d2['C143'] + df2019_d2['C144']\n",
    "df2019_d2.drop(['C143', 'C144'], axis=1, inplace=True)\n",
    "df2019_d2 = round(df2019_d2 / df2019_d2.sum()[0],3)\n",
    "df2019_d2 = df2019_d2.loc[[8,10],:]\n",
    "df2019_d2 = pd.concat([pd.DataFrame({'2019value':[0]}, index=[2]), df2019_d2]) # 자가주택 마련 이유는 비율이 없으므로, 임의로 0값을 추가\n",
    "df2019_d2"
   ]
  },
  {
   "cell_type": "code",
   "execution_count": null,
   "metadata": {},
   "outputs": [],
   "source": [
    "# 데이터프레임화\n",
    "df__8 = pd.concat([df2017_d2, df2018_d2, df2019_d2], axis=1).transpose()\n",
    "df__8.index = [2017, 2018, 2019]\n",
    "df__8"
   ]
  },
  {
   "cell_type": "code",
   "execution_count": null,
   "metadata": {
    "scrolled": true
   },
   "outputs": [],
   "source": [
    "# 시각화\n",
    "reasons = ['자가주택 마련 및 분양받은 경우',\n",
    "          '가구원 증감',\n",
    "          '직주근접 및 직장변동']\n",
    "\n",
    "fig = go.Figure()\n",
    "for column, reason in zip(df__8.columns, reasons):\n",
    "    fig.add_trace(go.Bar(x = df__8.index, y = df__8.loc[:,column], name=reason))\n",
    "    \n",
    "fig.update_layout(\n",
    "    title=\"무주택자의 세종시로 이사온 이유에 따른 비율\",\n",
    "    xaxis_title=\"연도\",\n",
    "    yaxis_title=\"비율\",\n",
    "    legend_title=\"이유\"\n",
    "    )\n",
    "\n",
    "fig.update_layout(\n",
    "    title={\n",
    "        'text': \"무주택자의 세종시로 이사온 이유에 따른 비율\",\n",
    "        'y':0.95,\n",
    "        'x':0.5,\n",
    "        'xanchor': 'center',\n",
    "        'yanchor': 'top'\n",
    "    },\n",
    "    yaxis_tickformat = '%')\n",
    "\n",
    "fig.update_layout(yaxis_range=[0,1])\n",
    "\n",
    "\n",
    "\n",
    "\n",
    "\n",
    "fig.show()"
   ]
  },
  {
   "cell_type": "markdown",
   "metadata": {},
   "source": [
    "## 1.9 분양권 가격동향 및 거래량\n",
    "\n",
    "- df13"
   ]
  },
  {
   "cell_type": "code",
   "execution_count": null,
   "metadata": {},
   "outputs": [],
   "source": [
    "# 면적 당 금액 변수 생성변수 생성\n",
    "df13['거래금액(만원)'] = df13['거래금액(만원)'].apply(lambda x: int(x.replace(\",\",\"\")))\n",
    "df13['면적당 금액(만원/m2)'] = df13['거래금액(만원)']  /df13['전용면적(㎡)']\n",
    "\n",
    "# 행정동 groupby\n",
    "count_df13 = df13.groupby('계약년월',as_index=False).agg({'단지명':'count'})\n",
    "mean_df13 = df13.groupby('계약년월',as_index=False).agg({'면적당 금액(만원/m2)':'mean'})\n",
    "\n",
    "# 시각화 위해 dtype 변경 (int -> str)\n",
    "count_df13['계약년월'] =count_df13['계약년월'].astype('str')\n",
    "count_df13['계약년월'] =count_df13['계약년월'].apply(lambda x: x[2:][:2]+'.'+x[2:][2:])\n",
    "mean_df13['계약년월'] =mean_df13['계약년월'].astype('str')\n",
    "mean_df13['계약년월'] =mean_df13['계약년월'].apply(lambda x: x[2:][:2]+'.'+x[2:][2:])"
   ]
  },
  {
   "cell_type": "code",
   "execution_count": null,
   "metadata": {},
   "outputs": [],
   "source": [
    "fig = go.Figure()\n",
    "\n",
    "fig.add_trace(\n",
    "    go.Bar(x=count_df13['계약년월'],y=count_df13['단지명'], name= '거래량(좌)', yaxis='y1'))\n",
    "fig.add_trace(\n",
    "    go.Scatter(x=mean_df13['계약년월'], y=mean_df13['면적당 금액(만원/m2)'], name= '평균 단위가격(우)', yaxis='y2'))\n",
    "fig.update_layout(\n",
    "    title={\n",
    "        'text': \"세종시 분양권 평균 단위가격 동향 및 거래량\",\n",
    "        'y':0.9,\n",
    "        'x':0.5,\n",
    "        'xanchor': 'center',\n",
    "        'yanchor': 'top'\n",
    "    },\n",
    "    yaxis1=dict(side='left', dtick=200,range=[0,900]),    \n",
    "    yaxis2=dict(side='right', tickformat = 'digit', overlaying='y', dtick=200, range=[0,900]),\n",
    "    legend=dict(traceorder='reversed', x=1.05, y=1))\n",
    "\n",
    "fig.update_xaxes(tickangle = 315,\n",
    "                dtick=2)\n",
    "\n",
    "fig.show()"
   ]
  },
  {
   "cell_type": "markdown",
   "metadata": {},
   "source": [
    "## 1.10 세종시 전입, 전출 현황(인구 가구 단위)"
   ]
  },
  {
   "cell_type": "markdown",
   "metadata": {},
   "source": [
    " - 국내인구이동통계: (17~19년) 세종시 가구수 전출입 현황 도출\n",
    "   - df2017: 국내인구이동통계_2017.csv\n",
    "   - df2018: 국내인구이동통계_2018.csv\n",
    "   - df2019: 국내인구이동통계_2019.csv\n",
    "   \n",
    " - COMPAS: (17~19년) 세종시 인구수 전출입 현황 도출\n",
    "   - df20: 20.세종시_전입자수.csv\n",
    "   - df21: 21.세종시_전출자수.csv"
   ]
  },
  {
   "cell_type": "markdown",
   "metadata": {},
   "source": [
    "- COMPAS 데이터 전처리: 인구관점 전입, 전출자수 파악 (전출, 전입자수를 sum연산으로 연도별 도출)"
   ]
  },
  {
   "cell_type": "code",
   "execution_count": null,
   "metadata": {},
   "outputs": [],
   "source": [
    "# 연도별 병합\n",
    "df_2017 = df20[df20['년월'].apply(lambda x:  x<201801)]\n",
    "df_2018 = df20[df20['년월'].apply(lambda x:  201712<x<201901)]\n",
    "df_2019 = df20[df20['년월'].apply(lambda x:  201812<x<202001)]\n",
    "df_out_2017 = df21[df21['년월'].apply(lambda x:  x<201801)]\n",
    "df_out_2018 = df21[df21['년월'].apply(lambda x:  201712<x<201901)]\n",
    "df_out_2019 = df21[df21['년월'].apply(lambda x:  201812<x<202001)]\n",
    "\n",
    "# 시각화를 위한 list형태로 변환\n",
    "compas_in = [df_2017['전입자수'].sum() / 1000, df_2018['전입자수'].sum() / 1000, df_2019['전입자수'].sum() / 1000]\n",
    "compas_out = [df_out_2017['전출자수'].sum() / 1000, df_out_2018['전출자수'].sum() / 1000, df_out_2019['전출자수'].sum() / 1000]\n",
    "print(compas_in)\n",
    "print(compas_out)"
   ]
  },
  {
   "cell_type": "markdown",
   "metadata": {},
   "source": [
    "- 국내인구이동통계 데이터 전처리: org_code 와 des_code로 전출, 전입코드를 만든 후 세종시코드(36110)에 대하여 연도별 전입, 전출 가구수 산출"
   ]
  },
  {
   "cell_type": "code",
   "execution_count": null,
   "metadata": {},
   "outputs": [],
   "source": [
    "# 데이터 불러오기\n",
    "df2017 = pd.read_csv('국내인구이동통계_2017.csv', encoding='cp949')\n",
    "df2018 = pd.read_csv('국내인구이동통계_2018.csv', encoding='cp949')\n",
    "df2019 = pd.read_csv('국내인구이동통계_2019.csv', encoding='cp949')\n",
    "\n",
    "# 데이터 전처리를 위한 함수 구현\n",
    "def make_flowdf(dataframe):\n",
    "    df = dataframe[['전입행정_시도','전입행정_시군구','전입년','전출행정_시도','전출행정_시군구']]\n",
    "    df[['전입행정_시도','전입행정_시군구','전출행정_시도','전출행정_시군구']] = df[['전입행정_시도','전입행정_시군구','전출행정_시도','전출행정_시군구']].astype('str')\n",
    "\n",
    "    df['des_code'] = df['전입행정_시도'] + df['전입행정_시군구']\n",
    "    df['org_code'] = df['전출행정_시도'] + df['전출행정_시군구']\n",
    "    df['od_code'] = df['org_code'] + df['des_code']\n",
    "\n",
    "    flow_df = pd.DataFrame(df['od_code'].value_counts()).reset_index(drop=False).rename(columns={'index':'od_code', 'od_code':'Freq'})\n",
    "    flow_df['org_code'] = list(map(lambda x: x[:5], flow_df['od_code']))\n",
    "    flow_df['des_code'] = list(map(lambda x: x[5:], flow_df['od_code']))\n",
    "    return flow_df\n",
    "\n",
    "flow_17 = make_flowdf(df2017)\n",
    "flow_18 = make_flowdf(df2018)\n",
    "flow_19 = make_flowdf(df2019)\n",
    "\n",
    "# 연도별 + 지역별 전입/전출량 설정 및 matchid로 구분 code 삽입\n",
    "flow0 = pd.merge(flow_17, flow_18[['od_code', 'Freq']], on='od_code').rename(columns={'Freq_x':'flow17', 'Freq_y':'flow18'})\n",
    "flow0 = pd.merge(flow0, flow_19[['od_code', 'Freq']], on='od_code').rename(columns={'Freq':'flow19'})\n",
    "flow0 = flow0[['od_code', 'org_code', 'des_code', 'flow17', 'flow18', 'flow19']] # 열순서 정립\n",
    "\n",
    "# 전국 단위 전입/전출량 산출\n",
    "org_outflow = flow0.groupby('org_code').agg({'flow17':'sum',\n",
    "                                           'flow18':'sum',\n",
    "                                           'flow19':'sum'}).reset_index().rename(columns={'flow17':'total_outflow17',\n",
    "                                                                                         'flow18':'total_outflow18',\n",
    "                                                                                         'flow19':'total_outflow19'})\n",
    "\n",
    "des_inflow = flow0.groupby('des_code').agg({'flow17':'sum',\n",
    "                                           'flow18':'sum',\n",
    "                                           'flow19':'sum'}).reset_index().rename(columns={'flow17':'total_inflow17',\n",
    "                                                                                         'flow18':'total_inflow18',\n",
    "                                                                                         'flow19':'total_inflow19'})\n",
    "\n",
    "# 세종시의 전입/전출량만 산출\n",
    "data_out = (org_outflow.loc[org_outflow['org_code'] == '36110', ['total_outflow17', 'total_outflow18', 'total_outflow19']].values[0]/1000).tolist()\n",
    "data_in = (des_inflow.loc[des_inflow['des_code'] == '36110', ['total_inflow17', 'total_inflow18', 'total_inflow19']].values[0]/1000).tolist()\n",
    "print(data_out)\n",
    "print(data_in)"
   ]
  },
  {
   "cell_type": "markdown",
   "metadata": {},
   "source": [
    "- 시각화 (전입)"
   ]
  },
  {
   "cell_type": "code",
   "execution_count": null,
   "metadata": {},
   "outputs": [],
   "source": [
    "region=['2017년','2018년','2019년']\n",
    "\n",
    "\n",
    "fig = go.Figure(data=[\n",
    "    go.Bar(name='전입 인구수(좌)', x=region, y=compas_in, yaxis='y1', offsetgroup=1),\n",
    "    go.Bar(name='전입 가구수(우)', x=region, y=data_in, yaxis='y2', offsetgroup=2)])\n",
    "\n",
    "# Change the bar mode\n",
    "fig.update_layout(barmode='group',  \n",
    "                title='17년~19년 세종시 전입추이',\n",
    "                xaxis_title=\"연도\",\n",
    "                legend_title=\"데이터명\",\n",
    "                yaxis1=dict(title= '인구수 (천 명)', side='left', tickformat = ',', range=[0,600]),\n",
    "                yaxis2=dict(title= '가구수 (천 가구)', side='right', tickformat = ',', overlaying='y', range=[0,60]),\n",
    "                legend=dict(traceorder='reversed', x=1.2, y=1))\n",
    "\n",
    "fig.show()"
   ]
  },
  {
   "cell_type": "markdown",
   "metadata": {},
   "source": [
    "- 시각화 (전출)"
   ]
  },
  {
   "cell_type": "code",
   "execution_count": null,
   "metadata": {},
   "outputs": [],
   "source": [
    "region=['2017년','2018년','2019년']\n",
    "\n",
    "\n",
    "fig = go.Figure(data=[\n",
    "    go.Bar(name='전출 인구수(좌)', x=region, y=compas_out, yaxis='y1', offsetgroup=1),\n",
    "    go.Bar(name='전출 가구수(우)', x=region, y=data_out, yaxis='y2', offsetgroup=2)])\n",
    "\n",
    "# Change the bar mode\n",
    "fig.update_layout(barmode='group',  \n",
    "                title='17년~19년 세종시 전출추이',\n",
    "                xaxis_title=\"연도\",\n",
    "                legend_title=\"데이터명\",\n",
    "                yaxis1=dict(title= '인구수 (천 명)', side='left', tickformat = ',', range=[0,600]),\n",
    "                yaxis2=dict(title= '가구수 (천 가구)', side='right', tickformat = ',', overlaying='y', range=[0,60]),\n",
    "                legend=dict(traceorder='reversed', x=1.2, y=1))\n",
    "\n",
    "fig.show()"
   ]
  },
  {
   "cell_type": "markdown",
   "metadata": {},
   "source": [
    "## 1.11 세종시 읍면동별 전입, 전출 현황(인구 단위)\n",
    "\n",
    "- df20 : 20.세종시_전입자수.csv\n",
    "- df21 : 21.세종시_전출자수.csv\n",
    "- df32 : 32.세종시_행정경계(읍면동).geojson \n",
    "    - geojson에서 제공하는 읍면동으로 통일 위함"
   ]
  },
  {
   "cell_type": "markdown",
   "metadata": {},
   "source": [
    "### 1.10.1 전입자"
   ]
  },
  {
   "cell_type": "markdown",
   "metadata": {},
   "source": [
    "- 연도별 전입자수를 모두 합한 변수 생성"
   ]
  },
  {
   "cell_type": "code",
   "execution_count": null,
   "metadata": {},
   "outputs": [],
   "source": [
    "# 연도별 분리\n",
    "df_2017 = df20[df20['년월'].apply(lambda x:  x<201801)]\n",
    "df_2018 = df20[df20['년월'].apply(lambda x:  201712<x<201901)]\n",
    "df_2019 = df20[df20['년월'].apply(lambda x:  201812<x<202001)]\n",
    "df_2020 = df20[df20['년월'].apply(lambda x:  201912<x)]\n",
    "# 연도별 전입자 수 \n",
    "count_2017 = df_2017.groupby('세종전입행정동',as_index=False).agg({'전입자수':'sum'})\n",
    "count_2018 = df_2018.groupby('세종전입행정동',as_index=False).agg({'전입자수':'sum'})\n",
    "count_2019 = df_2019.groupby('세종전입행정동',as_index=False).agg({'전입자수':'sum'})\n",
    "count_2020 = df_2020.groupby('세종전입행정동',as_index=False).agg({'전입자수':'sum'})"
   ]
  },
  {
   "cell_type": "markdown",
   "metadata": {},
   "source": [
    "- 읍면동 전입자 수 존재하지 않는 경우에 대해 0 값 부여"
   ]
  },
  {
   "cell_type": "code",
   "execution_count": null,
   "metadata": {},
   "outputs": [],
   "source": [
    "# df32 에서 제공하는 읍면동으로 통일\n",
    "dong_list=[]\n",
    "for idx, sigun_dict in enumerate(df32['features']):\n",
    "    name = sigun_dict['properties']['ADM_DR_NM']\n",
    "    dong_list.append(name)\n",
    "\n",
    "diff1 = set(dong_list) - set(count_2017['세종전입행정동'])\n",
    "print(\"17년 거래 0인 지역\" ,diff1)\n",
    "diff2 = set(dong_list) - set(count_2018['세종전입행정동'])\n",
    "print(\"18년 거래 0인 지역\" ,diff2)\n",
    "diff3 = set(dong_list) - set(count_2019['세종전입행정동'])\n",
    "print(\"19년 거래 0인 지역\" ,diff3)\n",
    "diff4 = set(dong_list) - set(count_2020['세종전입행정동'])\n",
    "print(\"20년 거래 0인 지역\" ,diff4)\n",
    "\n",
    "for i in diff1:\n",
    "    count_2017 = count_2017.append({'세종전입행정동' :f'{i}', '전입자수':0}, ignore_index=True)\n",
    "for i in diff2:\n",
    "    count_2018 = count_2018.append({'세종전입행정동' :f'{i}', '전입자수':0}, ignore_index=True)\n",
    "for i in diff3:\n",
    "    count_2019 = count_2019.append({'세종전입행정동' :f'{i}', '전입자수':0}, ignore_index=True)\n",
    "for i in diff4:\n",
    "    count_2020 = count_2020.append({'세종전입행정동' :f'{i}', '전입자수':0}, ignore_index=True)    \n",
    "    \n",
    "# 읍면동 가나다 순으로 정렬# 읍면동 가나다 순으로 정렬\n",
    "count_2017.sort_values(['세종전입행정동'], inplace=True)\n",
    "count_2018.sort_values(['세종전입행정동'], inplace=True)\n",
    "count_2019.sort_values(['세종전입행정동'], inplace=True)\n",
    "count_2020.sort_values(['세종전입행정동'], inplace=True)\n",
    "count_2017.reset_index(drop=True, inplace=True)\n",
    "count_2018.reset_index(drop=True, inplace=True)\n",
    "count_2019.reset_index(drop=True, inplace=True)\n",
    "count_2020.reset_index(drop=True, inplace=True)"
   ]
  },
  {
   "cell_type": "markdown",
   "metadata": {},
   "source": [
    "- 그래프 시각화"
   ]
  },
  {
   "cell_type": "code",
   "execution_count": null,
   "metadata": {},
   "outputs": [],
   "source": [
    "import plotly.graph_objects as go\n",
    "region=list(count_2017['세종전입행정동'])\n",
    "fig = go.Figure(data=[\n",
    "    go.Bar(name='2017년', x=region, y=[count_2017['전입자수'][0],count_2017['전입자수'][1], count_2017['전입자수'][2], count_2017['전입자수'][3],count_2017['전입자수'][4],count_2017['전입자수'][5], count_2017['전입자수'][6], count_2017['전입자수'][7],count_2017['전입자수'][8],count_2017['전입자수'][9], count_2017['전입자수'][10], count_2017['전입자수'][11],count_2017['전입자수'][12],count_2017['전입자수'][13], count_2017['전입자수'][14], count_2017['전입자수'][15],count_2017['전입자수'][16],count_2017['전입자수'][17], count_2017['전입자수'][18]]),\n",
    "    go.Bar(name='2018년', x=region, y=[count_2018['전입자수'][0],count_2018['전입자수'][1], count_2018['전입자수'][2], count_2018['전입자수'][3],count_2018['전입자수'][4],count_2018['전입자수'][5], count_2018['전입자수'][6], count_2018['전입자수'][7],count_2018['전입자수'][8],count_2018['전입자수'][9], count_2018['전입자수'][10], count_2018['전입자수'][11],count_2018['전입자수'][12],count_2018['전입자수'][13], count_2018['전입자수'][14], count_2018['전입자수'][15],count_2018['전입자수'][16],count_2018['전입자수'][17], count_2018['전입자수'][18]]),\n",
    "    go.Bar(name='2019년', x=region, y=[count_2019['전입자수'][0],count_2019['전입자수'][1], count_2019['전입자수'][2], count_2019['전입자수'][3],count_2019['전입자수'][4],count_2019['전입자수'][5], count_2019['전입자수'][6], count_2019['전입자수'][7],count_2019['전입자수'][8],count_2019['전입자수'][9], count_2019['전입자수'][10], count_2019['전입자수'][11],count_2019['전입자수'][12],count_2019['전입자수'][13], count_2019['전입자수'][14], count_2019['전입자수'][15],count_2019['전입자수'][16],count_2019['전입자수'][17], count_2019['전입자수'][18]]),\n",
    "    go.Bar(name='2020년', x=region, y=[count_2020['전입자수'][0],count_2020['전입자수'][1], count_2020['전입자수'][2], count_2020['전입자수'][3],count_2020['전입자수'][4],count_2020['전입자수'][5], count_2020['전입자수'][6], count_2020['전입자수'][7],count_2020['전입자수'][8],count_2020['전입자수'][9], count_2020['전입자수'][10], count_2020['전입자수'][11],count_2020['전입자수'][12],count_2020['전입자수'][13], count_2020['전입자수'][14], count_2020['전입자수'][15],count_2020['전입자수'][16],count_2020['전입자수'][17], count_2020['전입자수'][18]]),\n",
    "])\n",
    "# Change the bar mode\n",
    "fig.update_layout(barmode='group',  \n",
    "                  title={\n",
    "                            'text': \"17년~20년 읍면동별 전입자수 추이\",\n",
    "                            'y':0.9,\n",
    "                            'x':0.5,\n",
    "                            'xanchor': 'center',\n",
    "                            'yanchor': 'top'\n",
    "                        }, \n",
    "                 xaxis_title=\"읍면동\",\n",
    "                 yaxis_title=\"총 전입수 (명)\",yaxis_tickformat = ',',\n",
    "                 yaxis1=dict(side='left', dtick=20000,range=[0,130000]))\n",
    "\n",
    "fig.show()"
   ]
  },
  {
   "cell_type": "markdown",
   "metadata": {},
   "source": [
    "### 1.10.2 전출자"
   ]
  },
  {
   "cell_type": "markdown",
   "metadata": {},
   "source": [
    "- 연도별 전출자수를 모두 합한 변수 생성"
   ]
  },
  {
   "cell_type": "code",
   "execution_count": null,
   "metadata": {},
   "outputs": [],
   "source": [
    "# 연도별 분리\n",
    "df_2017 = df21[df21['년월'].apply(lambda x:  x<201801)]\n",
    "df_2018 = df21[df21['년월'].apply(lambda x:  201712<x<201901)]\n",
    "df_2019 = df21[df21['년월'].apply(lambda x:  201812<x<202001)]\n",
    "df_2020 = df21[df21['년월'].apply(lambda x:  201912<x)]\n",
    "# 연도별 전입자 수 \n",
    "count_2017 = df_2017.groupby('세종전출행정동',as_index=False).agg({'전출자수':'sum'})\n",
    "count_2018 = df_2018.groupby('세종전출행정동',as_index=False).agg({'전출자수':'sum'})\n",
    "count_2019 = df_2019.groupby('세종전출행정동',as_index=False).agg({'전출자수':'sum'})\n",
    "count_2020 = df_2020.groupby('세종전출행정동',as_index=False).agg({'전출자수':'sum'})"
   ]
  },
  {
   "cell_type": "markdown",
   "metadata": {},
   "source": [
    "- 읍면동 전입자 수 존재하지 않는 경우에 대해 0 값 부여"
   ]
  },
  {
   "cell_type": "code",
   "execution_count": null,
   "metadata": {},
   "outputs": [],
   "source": [
    "diff1 = set(dong_list) - set(count_2017['세종전출행정동'])\n",
    "print(\"17년 거래 0인 지역\" ,diff1)\n",
    "diff2 = set(dong_list) - set(count_2018['세종전출행정동'])\n",
    "print(\"18년 거래 0인 지역\" ,diff2)\n",
    "diff3 = set(dong_list) - set(count_2019['세종전출행정동'])\n",
    "print(\"19년 거래 0인 지역\" ,diff3)\n",
    "diff4 = set(dong_list) - set(count_2020['세종전출행정동'])\n",
    "print(\"20년 거래 0인 지역\" ,diff4)\n",
    "\n",
    "for i in diff1:\n",
    "    count_2017 = count_2017.append({'세종전출행정동' :f'{i}', '전출자수':0}, ignore_index=True)\n",
    "for i in diff2:\n",
    "    count_2018 = count_2018.append({'세종전출행정동' :f'{i}', '전출자수':0}, ignore_index=True)\n",
    "for i in diff3:\n",
    "    count_2019 = count_2019.append({'세종전출행정동' :f'{i}', '전출자수':0}, ignore_index=True)\n",
    "for i in diff4:\n",
    "    count_2020 = count_2020.append({'세종전출행정동' :f'{i}', '전출자수':0}, ignore_index=True)\n",
    "# 읍면동 가나다 순으로 정렬# 읍면동 가나다 순으로 정렬\n",
    "count_2017.sort_values(['세종전출행정동'], inplace=True)\n",
    "count_2018.sort_values(['세종전출행정동'], inplace=True)\n",
    "count_2019.sort_values(['세종전출행정동'], inplace=True)\n",
    "count_2020.sort_values(['세종전출행정동'], inplace=True)\n",
    "count_2017.reset_index(drop=True, inplace=True)\n",
    "count_2018.reset_index(drop=True, inplace=True)\n",
    "count_2019.reset_index(drop=True, inplace=True)\n",
    "count_2020.reset_index(drop=True, inplace=True)"
   ]
  },
  {
   "cell_type": "markdown",
   "metadata": {},
   "source": [
    "- 그래프 시각화"
   ]
  },
  {
   "cell_type": "code",
   "execution_count": null,
   "metadata": {},
   "outputs": [],
   "source": [
    "import plotly.graph_objects as go\n",
    "region=list(count_2017['세종전출행정동'])\n",
    "fig = go.Figure(data=[\n",
    "    go.Bar(name='2017년', x=region, y=[count_2017['전출자수'][0],count_2017['전출자수'][1], count_2017['전출자수'][2], count_2017['전출자수'][3],count_2017['전출자수'][4],count_2017['전출자수'][5], count_2017['전출자수'][6], count_2017['전출자수'][7],count_2017['전출자수'][8],count_2017['전출자수'][9], count_2017['전출자수'][10], count_2017['전출자수'][11],count_2017['전출자수'][12],count_2017['전출자수'][13], count_2017['전출자수'][14], count_2017['전출자수'][15],count_2017['전출자수'][16],count_2017['전출자수'][17], count_2017['전출자수'][18]]),\n",
    "    go.Bar(name='2018년', x=region, y=[count_2018['전출자수'][0],count_2018['전출자수'][1], count_2018['전출자수'][2], count_2018['전출자수'][3],count_2018['전출자수'][4],count_2018['전출자수'][5], count_2018['전출자수'][6], count_2018['전출자수'][7],count_2018['전출자수'][8],count_2018['전출자수'][9], count_2018['전출자수'][10], count_2018['전출자수'][11],count_2018['전출자수'][12],count_2018['전출자수'][13], count_2018['전출자수'][14], count_2018['전출자수'][15],count_2018['전출자수'][16],count_2018['전출자수'][17], count_2018['전출자수'][18]]),\n",
    "    go.Bar(name='2019년', x=region, y=[count_2019['전출자수'][0],count_2019['전출자수'][1], count_2019['전출자수'][2], count_2019['전출자수'][3],count_2019['전출자수'][4],count_2019['전출자수'][5], count_2019['전출자수'][6], count_2019['전출자수'][7],count_2019['전출자수'][8],count_2019['전출자수'][9], count_2019['전출자수'][10], count_2019['전출자수'][11],count_2019['전출자수'][12],count_2019['전출자수'][13], count_2019['전출자수'][14], count_2019['전출자수'][15],count_2019['전출자수'][16],count_2019['전출자수'][17], count_2019['전출자수'][18]]),\n",
    "    go.Bar(name='2020년', x=region, y=[count_2020['전출자수'][0],count_2020['전출자수'][1], count_2020['전출자수'][2], count_2020['전출자수'][3],count_2020['전출자수'][4],count_2020['전출자수'][5], count_2020['전출자수'][6], count_2020['전출자수'][7],count_2020['전출자수'][8],count_2020['전출자수'][9], count_2020['전출자수'][10], count_2020['전출자수'][11],count_2020['전출자수'][12],count_2020['전출자수'][13], count_2020['전출자수'][14], count_2020['전출자수'][15],count_2020['전출자수'][16],count_2020['전출자수'][17], count_2020['전출자수'][18]]),\n",
    "])\n",
    "\n",
    "fig.update_layout(barmode='group',  \n",
    "                  title={  'text': \"17년~20년 읍면동별 전출자수 추이\",\n",
    "                            'y':0.9,\n",
    "                            'x':0.5,\n",
    "                            'xanchor': 'center',\n",
    "                            'yanchor': 'top'\n",
    "                        }, \n",
    "                 xaxis_title=\"읍면동\",\n",
    "                 yaxis_title=\"총 전입수 (명)\",yaxis_tickformat = ',',\n",
    "                 yaxis1=dict(side='left', dtick=20000,range=[0,130000]))\n",
    "\n",
    "fig.show()"
   ]
  },
  {
   "cell_type": "markdown",
   "metadata": {},
   "source": [
    "## 1.12 세종시 수요권 현황(가구 단위)"
   ]
  },
  {
   "cell_type": "markdown",
   "metadata": {},
   "source": [
    " - 국내인구이동통계: (17~19년) 세종시 가구수 전출입 수치 도출\n",
    "   - df2017: 국내인구이동통계_2017.csv\n",
    "   - df2018: 국내인구이동통계_2018.csv\n",
    "   - df2019: 국내인구이동통계_2019.csv\n",
    " \n",
    " - 전국 시군구별 신규,재고주택 호수.csv: 시군구별 재고, 신규주택 호수 불러오기위해 활용\n",
    "   - nhouse: 전국 시군구별 신규,재고주택 호수.csv\n",
    "   \n",
    " - TL_SCCO_SIG.shp: 전국 시도 좌표데이터로 수요권을 시각화하기 위함\n",
    "   - sf: TL_SCCO_SIG.shp를 geopandas로 읽은 데이터"
   ]
  },
  {
   "cell_type": "markdown",
   "metadata": {},
   "source": [
    "- 수요권 시각화"
   ]
  },
  {
   "cell_type": "code",
   "execution_count": null,
   "metadata": {},
   "outputs": [],
   "source": [
    "# 1. 전입/전출지별 이동량 산정\n",
    "df2017 = pd.read_csv('국내인구이동통계_2017.csv', encoding='cp949')\n",
    "df2018 = pd.read_csv('국내인구이동통계_2018.csv', encoding='cp949')\n",
    "df2019 = pd.read_csv('국내인구이동통계_2019.csv', encoding='cp949')\n",
    "\n",
    "# 간단한 데이터 전처리코드 시각화\n",
    "def make_flowdf(dataframe):\n",
    "    df = dataframe[['전입행정_시도','전입행정_시군구','전입년','전출행정_시도','전출행정_시군구']]\n",
    "    df[['전입행정_시도','전입행정_시군구','전출행정_시도','전출행정_시군구']] = df[['전입행정_시도','전입행정_시군구','전출행정_시도','전출행정_시군구']].astype('str')\n",
    "\n",
    "    df['des_code'] = df['전입행정_시도'] + df['전입행정_시군구']\n",
    "    df['org_code'] = df['전출행정_시도'] + df['전출행정_시군구']\n",
    "    df['od_code'] = df['org_code'] + df['des_code']\n",
    "\n",
    "    flow_df = pd.DataFrame(df['od_code'].value_counts()).reset_index(drop=False).rename(columns={'index':'od_code', 'od_code':'Freq'})\n",
    "    flow_df['org_code'] = list(map(lambda x: x[:5], flow_df['od_code']))\n",
    "    flow_df['des_code'] = list(map(lambda x: x[5:], flow_df['od_code']))\n",
    "\n",
    "    return flow_df\n",
    "\n",
    "flow_17 = make_flowdf(df2017)\n",
    "flow_18 = make_flowdf(df2018)\n",
    "flow_19 = make_flowdf(df2019)\n",
    "\n",
    "flow0 = pd.merge(flow_17, flow_18[['od_code', 'Freq']], on='od_code').rename(columns={'Freq_x':'flow17', 'Freq_y':'flow18'})\n",
    "flow0 = pd.merge(flow0, flow_19[['od_code', 'Freq']], on='od_code').rename(columns={'Freq':'flow19'})\n",
    "flow0 = flow0[['od_code', 'org_code', 'des_code', 'flow17', 'flow18', 'flow19']] # 열순서 정립\n",
    "flow0.head()"
   ]
  },
  {
   "cell_type": "code",
   "execution_count": null,
   "metadata": {},
   "outputs": [],
   "source": [
    "# 2. 세종시 수요권 파악\n",
    "# 전출\n",
    "org_outflow = flow0.groupby('org_code').agg({'flow17':'sum',\n",
    "                                           'flow18':'sum',\n",
    "                                           'flow19':'sum'}).reset_index().rename(columns={'flow17':'total_outflow17',\n",
    "                                                                                         'flow18':'total_outflow18',\n",
    "                                                                                         'flow19':'total_outflow19'})\n",
    "# 전입\n",
    "des_inflow = flow0.groupby('des_code').agg({'flow17':'sum',\n",
    "                                           'flow18':'sum',\n",
    "                                           'flow19':'sum'}).reset_index().rename(columns={'flow17':'total_inflow17',\n",
    "                                                                                         'flow18':'total_inflow18',\n",
    "                                                                                         'flow19':'total_inflow19'})\n",
    "\n",
    "flow1 = pd.merge(flow0, org_outflow, on='org_code')\n",
    "flow1 = pd.merge(flow1, des_inflow, on='des_code')\n",
    "\n",
    "\n",
    "# 비율화\n",
    "flow1['prob_out17'] = flow1['flow17'] / flow1['total_outflow17']\n",
    "flow1['prob_out18'] = flow1['flow18'] / flow1['total_outflow18']\n",
    "flow1['prob_out19'] = flow1['flow19'] / flow1['total_outflow19']\n",
    "\n",
    "flow1['prob_in17'] = flow1['flow17'] / flow1['total_inflow17']\n",
    "flow1['prob_in18'] = flow1['flow18'] / flow1['total_inflow18']\n",
    "flow1['prob_in19'] = flow1['flow19'] / flow1['total_inflow19']\n",
    "\n",
    "flow1.head()"
   ]
  },
  {
   "cell_type": "code",
   "execution_count": null,
   "metadata": {},
   "outputs": [],
   "source": [
    "# 3. 시군구별 재고, 신규주택 호수 불러오기\n",
    "nhouse = pd.read_csv('전국 시군구별 신규,재고주택 호수.csv', encoding='cp949')\n",
    "nhouse.rename(columns={'법정동명코드':'des_code',\n",
    "                      '재고주택_2017':'des_stock17',\n",
    "                      '재고주택_2018':'des_stock18',\n",
    "                      '재고주택_2019':'des_stock19',\n",
    "                      '신규주택_2017':'des_new17',\n",
    "                      '신규주택_2018':'des_new18',\n",
    "                      '신규주택_2019':'des_new19'}, inplace=True)\n",
    "\n",
    "flow1[['od_code', 'org_code', 'des_code']] = flow1[['od_code', 'org_code', 'des_code']].astype('int64')\n",
    "flow2 = pd.merge(flow1, nhouse, on='des_code')\n",
    "flow2.head()\n"
   ]
  },
  {
   "cell_type": "code",
   "execution_count": null,
   "metadata": {},
   "outputs": [],
   "source": [
    "# 4. 재고주택, 신규주택 회전율 산정(수용가능주택 산정용) : 연도별로 산정\n",
    "select_sejong = flow2.loc[flow2['des_code'] == 36110, ['des_code','total_outflow17','total_outflow18','total_outflow19','des_stock17','des_stock18','des_stock19','des_new17','des_new18','des_new19']]\n",
    "\n",
    "# OLS의 계수를 얻는 함수구현\n",
    "def get_ols_coef(x_columns, y_column, rename_columns):\n",
    "    X = select_sejong[x_columns] # \n",
    "    y = select_sejong[y_column] # \n",
    "\n",
    "    model = sm.OLS(y, X)\n",
    "    results = model.fit()\n",
    "    df = pd.DataFrame(results.params, columns=[rename_columns])\n",
    "    return df\n",
    "\n",
    "# 년도별로 실행\n",
    "result_select17 = get_ols_coef(['des_stock17', 'des_new17'], 'total_outflow17', 'rotate17_stock').reset_index(drop=True) # 2017년 재고 회전율 : 0.2138\n",
    "result_select18 = get_ols_coef(['des_stock18', 'des_new18'], 'total_outflow18', 'rotate18_stock').reset_index(drop=True) # 2018년 재고 회전율 : 0.1948\n",
    "result_select19 = get_ols_coef(['des_stock19', 'des_new19'], 'total_outflow19', 'rotate19_stock').reset_index(drop=True) # 2019년 재고 회전율 : 0.1757\n",
    "\n",
    "result_select = pd.concat([result_select17, result_select18], axis=1)\n",
    "result_select = pd.concat([result_select, result_select19], axis=1).iloc[[0],:]\n",
    "\n",
    "# 세종시만 필터링\n",
    "result_select['des_code'] = 36110\n",
    "result_select['rotate17_new'] = 1 - result_select['rotate17_stock']\n",
    "result_select['rotate18_new'] = 1 - result_select['rotate18_stock']\n",
    "result_select['rotate19_new'] = 1 - result_select['rotate19_stock']\n",
    "result_select.head()"
   ]
  },
  {
   "cell_type": "code",
   "execution_count": null,
   "metadata": {},
   "outputs": [],
   "source": [
    "# 5. 세종시 수용가능주택 1호 선택확률 산정(3개년 평균)\n",
    "flow3 = pd.merge(flow2, result_select, on ='des_code')\n",
    "\n",
    "flow3['des_select17'] = flow3['rotate17_stock'] * flow3['des_stock17'] + flow3['rotate17_new'] * flow3['des_new17']\n",
    "flow3['des_select18'] = flow3['rotate18_stock'] * flow3['des_stock18'] + flow3['rotate18_new'] * flow3['des_new18']  \n",
    "flow3['des_select19'] = flow3['rotate19_stock'] * flow3['des_stock19'] + flow3['rotate19_new'] * flow3['des_new19']  \n",
    "\n",
    "flow3['prob_new17'] = flow3['prob_out17'] / flow3['des_select17']\n",
    "flow3['prob_new18'] = flow3['prob_out18'] / flow3['des_select18']\n",
    "flow3['prob_new19'] = flow3['prob_out19'] / flow3['des_select19']\n",
    "\n",
    "flow3['prob_new'] = (flow3['prob_new17'] + flow3['prob_new18'] + flow3['prob_new19']) / 3\n",
    "flow3['prob_out'] = (flow3['prob_out17'] + flow3['prob_out18'] + flow3['prob_out19']) / 3\n",
    "flow3['prob_in'] = (flow3['prob_in17'] + flow3['prob_in18'] + flow3['prob_in19']) / 3\n",
    "\n",
    "flow3.head()"
   ]
  },
  {
   "cell_type": "code",
   "execution_count": null,
   "metadata": {},
   "outputs": [],
   "source": [
    "# 6. 세종시 수용가능주택 1호 선택확률 기준 세종시 수요권 파악\n",
    "org_name = nhouse[['시도','시군구','des_code']].rename(columns={'des_code':'org_code'})\n",
    "org_name = org_name.fillna('')\n",
    "org_name['org_name'] = org_name['시도'] + ' ' + org_name['시군구'] \n",
    "org_name = org_name[['org_code', 'org_name']]\n",
    "\n",
    "demand_sejong = flow3[['des_code','org_code','prob_new','prob_in']]\n",
    "demand_sejong = pd.merge(demand_sejong, org_name, on = 'org_code')\n",
    "demand_sejong = demand_sejong[[\"org_code\",\"org_name\",\"des_code\",\"prob_new\",\"prob_in\"]] # 열순서 재지정\n",
    "demand_sejong = demand_sejong.sort_values(by='prob_new', ascending=False).reset_index(drop=True)\n",
    "\n",
    "demand_sejong['prob_in_cumsum'] = list(np.cumsum(demand_sejong['prob_in']))\n",
    "demand_sejong['demand_region'] = 0\n",
    "demand_sejong.loc[demand_sejong['prob_in_cumsum'] <= 0.65,'demand_region'] = 1\n",
    "\n",
    "demand_code = list(demand_sejong.loc[demand_sejong['demand_region'] == 1, 'org_code'])\n",
    "demand_code"
   ]
  },
  {
   "cell_type": "code",
   "execution_count": null,
   "metadata": {},
   "outputs": [],
   "source": [
    "# 7. 수요권 시각화\n",
    "#좌표계 변환\n",
    "sf=gpd.read_file('TL_SCCO_SIG.shp',encoding='cp949')\n",
    "sf=sf.to_crs(epsg='4326')\n",
    "sf.to_file('korea.shp',encoding='cp949')\n",
    "\n",
    "#변환 후 불러오기\n",
    "reader = shapefile.Reader('korea.shp',encoding='cp949')\n",
    "\n",
    "#shape file 을 json 파일로 변환하기 위한 코드\n",
    "fields = reader.fields[1:]\n",
    "field_names = [field[0] for field in fields]\n",
    "buffer = []\n",
    "\n",
    "for sr in reader.shapeRecords():\n",
    "    atr = dict(zip(field_names, sr.record))\n",
    "    geom = sr.shape.__geo_interface__\n",
    "    name=sr.record[2]\n",
    "    buffer.append(dict(type=\"Feature\", \\\n",
    "     properties=atr,id=name,geometry=geom)) \n",
    "\n",
    "#json파일로 저장\n",
    "geojson = open(\"korea.json\", \"w\")\n",
    "geojson.write(dumps({\"type\": \"FeatureCollection\",\\\n",
    "\"features\": buffer}, indent=2) + \"\\n\")\n",
    "geojson.close()\n",
    "\n",
    "# 불러오기\n",
    "korea = json.load(open('korea.json', encoding = 'cp949'))"
   ]
  },
  {
   "cell_type": "code",
   "execution_count": null,
   "metadata": {},
   "outputs": [],
   "source": [
    "# 각 지역에 대한 정보 추출\n",
    "index_list = []\n",
    "region_list = []\n",
    "\n",
    "for i in range(len(korea['features'])):\n",
    "    if int(korea['features'][i]['properties']['SIG_CD']) in (demand_code):\n",
    "        index_list.append(i)\n",
    "        \n",
    "\n",
    "for index in index_list:\n",
    "    region_name = korea['features'][index]['properties']['SIG_KOR_NM']\n",
    "    region_list.append(region_name)\n",
    "    \n",
    "# 각 지역별 text의 위치를 잡기위한 좌표 구현 \n",
    "k = gpd.read_file('korea.json')\n",
    "k = k.loc[index_list,:]\n",
    "\n",
    "coordinate_list = []\n",
    "for idx in k.index:\n",
    "    lon = k.loc[idx ,'geometry'].centroid.x\n",
    "    lat = k.loc[idx ,'geometry'].centroid.y\n",
    "    coordinate = [lat, lon]\n",
    "    coordinate_list.append(coordinate)\n",
    "        \n",
    "demand_index_df = pd.DataFrame({'region_index':index_list,'region_name':region_list, 'coordinate':coordinate_list})\n",
    "demand_index_df.loc[0, 'region_name'] = '대전광역시 동구'\n",
    "demand_index_df.loc[1, 'region_name'] = '대전광역시 중구'\n",
    "demand_index_df.loc[2, 'region_name'] = '대전광역시 서구'\n",
    "demand_index_df.loc[3, 'region_name'] = '대전광역시 유성구'\n",
    "demand_index_df.loc[4, 'region_name'] = '대전광역시 대덕구'\n",
    "demand_index_df.loc[5, 'region_name'] = '세종특별　자치시' # 시각화 그림을 용이하기 위해 space 추가\n",
    "demand_index_df.loc[6, 'region_name'] = '충청남도 공주시'\n",
    "demand_index_df.loc[7, 'region_name'] = '충청남도 계룡시'\n",
    "demand_index_df.loc[8, 'region_name'] = '충청남도 청양군'\n",
    "demand_index_df.loc[9, 'region_name'] = '청주시　　흥덕구' # 시각화 그림을 용이하기 위해 space 추가\n",
    "\n",
    "sejong_index = int(demand_index_df.loc[demand_index_df['region_name'] == '세종특별　자치시','region_index'])\n",
    "sejong_index"
   ]
  },
  {
   "cell_type": "code",
   "execution_count": null,
   "metadata": {
    "scrolled": true
   },
   "outputs": [],
   "source": [
    "# 읍면동별 시각화\n",
    "m = folium.Map(\n",
    "    location=[36.50834910509325, 127.32079780226175],\n",
    "    zoom_start=10,\n",
    "    tiles=\"Stamen Toner\"\n",
    ")\n",
    "\n",
    "\n",
    "# 세종시 표시\n",
    "for index in index_list:\n",
    "    if index == sejong_index: # 165번째 index가 세종시\n",
    "        folium.GeoJson(\n",
    "            korea['features'][index],\n",
    "            name='sejong',\n",
    "            style_function=lambda feature: {\n",
    "            'color': 'blue'}\n",
    "        ).add_to(m)\n",
    "    else:\n",
    "        folium.GeoJson(\n",
    "            korea['features'][index],\n",
    "            name='sejong',\n",
    "            style_function=lambda feature: {\n",
    "            'color': 'lightblue'}\n",
    "        ).add_to(m)\n",
    "        \n",
    "\n",
    "region_names = list(demand_index_df['region_name'])\n",
    "for region_name, coordinate in zip(region_names, coordinate_list):\n",
    "    folium.map.Marker(\n",
    "        coordinate,\n",
    "        icon=DivIcon(\n",
    "            icon_size=(50,12),\n",
    "            icon_anchor=(20,20),\n",
    "            html='<div style=\"font-size: 1pt; color: white;\">%s</div>' % region_name,\n",
    "            )\n",
    "        ).add_to(m)\n",
    "    \n",
    "    \n",
    "folium.TileLayer('cartodbdark_matter').add_to(m)\n",
    "    \n",
    "m.save('세종시_수요권.html')\n",
    "m"
   ]
  },
  {
   "cell_type": "markdown",
   "metadata": {},
   "source": [
    "# 2. 세종시 매매시장 현황"
   ]
  },
  {
   "cell_type": "markdown",
   "metadata": {},
   "source": [
    "## 2.1 세종시 매매가격지수동향\n",
    " - 아파트: 3.세종시_아파트(매매)_실거래가.csv을 활용하여 세종시 아파트 매매가에 대한 지수 생성 (반복매매모형)\n",
    "   - df3: 3.세종시_아파트(매매)_실거래가.csv\n",
    "   \n",
    " - 단독다가구: 5.세종시_단독다가구(매매)_실거래가.csv을 활용하여 세종시 단독다가구 매매가에 대한 지수 생성 (반복매매모형)\n",
    "   - df5: 5.세종시_단독다가구(매매)_실거래가.csv"
   ]
  },
  {
   "cell_type": "markdown",
   "metadata": {},
   "source": [
    "- 아파트에 대한 매매지수 생성"
   ]
  },
  {
   "cell_type": "code",
   "execution_count": null,
   "metadata": {},
   "outputs": [],
   "source": [
    "# 아파트 데이터 불러오기\n",
    "apt0 = df3.copy()\n",
    "\n",
    "# 불필요 변수제거 및 열이름 변경\n",
    "apt1 = apt0.drop(['계약일','단지명','건축년도'], axis=1)\n",
    "apt1 = apt1[apt1['해제사유발생일'].isnull()].reset_index(drop=True)\n",
    "apt1.rename(columns = {'계약년월':'sale_date',\n",
    "                     '시군구':'address',\n",
    "                     '본번':'bon',\n",
    "                     '부번':'bu',\n",
    "                     '전용면적(㎡)':'m_userarea',\n",
    "                     '거래금액(만원)':'price',\n",
    "                     '층':'floor'}, inplace=True)\n",
    "\n",
    "# 필요변수 생성: 단위 면적당 가격 // 동읍면 생성\n",
    "# 단위 면적당 가격\n",
    "for i in range(apt1.shape[0]):\n",
    "    apt1.loc[i,'price'] = int(apt1.loc[i,'price'].replace(',',''))\n",
    "apt1['unit_price'] = apt1['price'] / apt1['m_userarea']\n",
    "\n",
    "# 동읍면 생성\n",
    "apt1['dongeupmyeon'] = np.nan\n",
    "for i in range(apt1.shape[0]):\n",
    "    apt1.loc[i, 'dongeupmyeon'] = apt1.iloc[i,1][8:]\n",
    "    \n",
    "# 본번, 부번 정리\n",
    "apt1['bon'] = apt1['bon'].astype('object')\n",
    "apt1['bon'] = '000' + apt1['bon']\n",
    "\n",
    "for i in range(apt1.shape[0]):\n",
    "    apt1.loc[i, 'bon'] = apt1.loc[i, 'bon'][-4:]\n",
    "    apt1.loc[i, 'bu'] = ('000'+str(apt1.loc[i, 'bu']))[-4:]\n",
    "\n",
    "# 층그룹 형성\n",
    "apt1['g_floor'] = ' '\n",
    "for i in range(apt1.shape[0]):\n",
    "    if apt1.loc[i, 'floor'] <= 5:\n",
    "        apt1.loc[i, 'g_floor'] = '저층'\n",
    "    elif apt1.loc[i, 'floor'] <= 20:\n",
    "        apt1.loc[i, 'g_floor'] = '중층'\n",
    "    else:\n",
    "        apt1.loc[i, 'g_floor'] = '고층'\n",
    "\n",
    "# 동일주택가정을 위한 matchid 코드 생성\n",
    "apt1['floor'] = apt1['floor'].astype('object')\n",
    "for i in range(apt1.shape[0]):\n",
    "    apt1.loc[i, 'matchid'] = str(apt1.loc[i, 'dongeupmyeon']) + '/' + str(apt1.loc[i, 'bon']) + '/' + str(apt1.loc[i, 'bu']) + '/' + str(apt1.loc[i, 'g_floor']) + '/' + str(apt1.loc[i, 'm_userarea'])\n",
    "\n",
    "apt1.head()"
   ]
  },
  {
   "cell_type": "code",
   "execution_count": null,
   "metadata": {},
   "outputs": [],
   "source": [
    "# 거래시점에 1부터 순서대로 숫자부여 (sale_date 및 해당 경과 월수를 기입하는 데이터프레임 형성)\n",
    "nmonth = pd.DataFrame(apt1['sale_date'].unique(), columns=['sale_date']).reset_index()\n",
    "nmonth = nmonth.rename(columns={'index':'nmonth'})\n",
    "nmonth['nmonth'] += 1\n",
    "nmonth.head()"
   ]
  },
  {
   "cell_type": "code",
   "execution_count": null,
   "metadata": {},
   "outputs": [],
   "source": [
    "# sale_date를 기준으로 apt1과 nmonth1을 병합\n",
    "apt2 = pd.merge(apt1, nmonth, on='sale_date')\n",
    "apt2 = apt2.drop(['address','dongeupmyeon'], axis=1)\n",
    "apt2.rename(columns={'bon':'bon1', 'bu':'bu1'}, inplace=True)\n",
    "\n",
    "# 1회 주택 거래사례 제거\n",
    "sales_freq = pd.DataFrame(apt2['matchid'].value_counts()).reset_index().rename(columns = {'index':'matchid',  'matchid':'freq'})\n",
    "table_freq = pd.DataFrame(sales_freq['freq'].value_counts()) # 1회 거래된 빈도: 276\n",
    "apt3 = pd.merge(apt2, sales_freq, on='matchid')\n",
    "apt3 = apt3[apt3['freq'] > 1]\n",
    "\n",
    "# apt3를 정렬: 기준은 matchid오름차순 + nmonth오름차순\n",
    "apt3 = apt3.sort_values(['matchid', 'nmonth'], ascending=True).reset_index(drop=True)\n",
    "apt3.head()"
   ]
  },
  {
   "cell_type": "code",
   "execution_count": null,
   "metadata": {},
   "outputs": [],
   "source": [
    "# 반복거래쌍 구성\n",
    "apt4 = apt3.copy()\n",
    "for i in range(apt4.shape[0]):\n",
    "    apt4.loc[i,'log_unit_price'] = math.log(apt4.loc[i,'unit_price']) \n",
    "\n",
    "apt4['sale_date'] = apt4['sale_date'].astype('object')\n",
    "apt4['lag_matchid'] = apt4['matchid'].shift(1)\n",
    "apt4['lag_sale_date'] = apt4['sale_date'].shift(1)\n",
    "apt4['lag_nmonth'] = apt4['nmonth'].shift(1) \n",
    "apt4['lag_log_unit_price'] = apt4['log_unit_price'].shift(1) \n",
    "\n",
    "# matchid 불일치행 및 시점 동일 행 제거\n",
    "index_list = []\n",
    "for i in range(apt4.shape[0]):\n",
    "    if (apt4.loc[i,'matchid'] == apt4.loc[i,'lag_matchid']):\n",
    "        index_list.append(i)\n",
    "        \n",
    "apt4 = apt4.loc[index_list,:]\n",
    "apt4.reset_index(drop=True, inplace=True)\n",
    "\n",
    "# 거래쌍 간 가격차이 계산\n",
    "apt4['lnp_growth'] = apt4['log_unit_price'] - apt4['lag_log_unit_price']\n",
    "\n",
    "# 변수정리\n",
    "index_aptown = apt4[['matchid', 'sale_date', 'lag_sale_date', 'lnp_growth']]\n",
    "index_aptown.rename(columns={'lag_sale_date':'pre_sale_date'}, inplace=True)\n",
    "index_aptown.head()"
   ]
  },
  {
   "cell_type": "code",
   "execution_count": null,
   "metadata": {},
   "outputs": [],
   "source": [
    "# 시점더미 생성\n",
    "d_time2 = pd.get_dummies(index_aptown['sale_date'], drop_first=True) # 2번째 거래가 일어났으면 1, 안일어났으면 0\n",
    "d_time1 = pd.get_dummies(index_aptown['pre_sale_date'], drop_first=True) # 첫번째 거래가 일어났으면 1, 안일어났으면 0\n",
    "d_time2.to_csv('d_time2.csv', index=False)\n",
    "d_time1.to_csv('d_time1.csv', index=False)\n",
    "d_time2 = pd.read_csv('d_time2.csv')\n",
    "d_time1 = pd.read_csv('d_time1.csv')\n",
    "d_time = d_time2 - d_time1 #2번째 거래 = 1 1번째 거래 = -1 else = 0\n",
    "d_time.head()\n",
    "\n",
    "# OLS를 위한 데이터 틀 형성\n",
    "index_aptown_rs = pd.concat([index_aptown, d_time], axis=1)\n",
    "index_aptown_rs = index_aptown_rs.drop(['matchid', 'sale_date', 'pre_sale_date'], axis=1)\n",
    "index_aptown_rs.head()"
   ]
  },
  {
   "cell_type": "code",
   "execution_count": null,
   "metadata": {},
   "outputs": [],
   "source": [
    "# OLS 반복매매지수 산정\n",
    "import statsmodels.api as sm\n",
    "X = index_aptown_rs.drop('lnp_growth', axis=1)\n",
    "y = index_aptown_rs['lnp_growth']\n",
    "sejong_apt_model = sm.OLS(y, X)\n",
    "results = sejong_apt_model.fit()\n",
    "\n",
    "# OLS coefficient산정 후 nmonth와 결합\n",
    "result_sejong_aptown = pd.DataFrame(results.params, columns=['coefficients']).reset_index()\n",
    "nmonth = pd.DataFrame([i for i in range(2,49)], columns=['nmonth'])\n",
    "result_sejong_aptown = pd.concat([result_sejong_aptown, nmonth], axis=1).rename(columns={'index':'sale_date'})\n",
    "result_sejong_aptown\n",
    "\n",
    "# 지수생성\n",
    "for i in range(result_sejong_aptown.shape[0]):\n",
    "    result_sejong_aptown.loc[i,'apt_index'] = math.exp(result_sejong_aptown.loc[i,'coefficients']) * 100\n",
    "\n",
    "result_sejong_aptown['pre_index'] = result_sejong_aptown['apt_index'].shift(1)\n",
    "result_sejong_aptown.iloc[0,4] = 100\n",
    "result_sejong_aptown['rate_aptindex'] = ((result_sejong_aptown['apt_index'] / result_sejong_aptown['pre_index']) - 1) * 100\n",
    "\n",
    "sejong_own_apt = result_sejong_aptown[['sale_date', 'apt_index','rate_aptindex']]\n",
    "index_first = pd.DataFrame({'sale_date':[201701],\n",
    "             'apt_index':[100],\n",
    "             'rate_aptindex':[np.nan]})\n",
    "\n",
    "sejong_own_apt = pd.concat([index_first, sejong_own_apt]).reset_index(drop=True)\n",
    "sejong_own_apt['sale_date'] = list(map(lambda x: str(x[2:4])+'.'+str(x[-2:]), sejong_own_apt['sale_date'].astype('str')))\n",
    "sejong_own_apt.head()"
   ]
  },
  {
   "cell_type": "markdown",
   "metadata": {},
   "source": [
    "- 단독다가구에 대한 매매지수 산정"
   ]
  },
  {
   "cell_type": "code",
   "execution_count": null,
   "metadata": {},
   "outputs": [],
   "source": [
    "# 단독다가구 데이터 불러오기\n",
    "dd0_own = df5.copy()\n",
    "\n",
    "# 불필요 변수제거 및 열이름 변경\n",
    "dd1_own = dd0_own.drop(['계약일'], axis=1)\n",
    "dd1_own = dd1_own[dd1_own['해제사유발생일'].isnull()].reset_index(drop=True)\n",
    "dd1_own.rename(columns = {'계약년월':'sale_date',\n",
    "                     '시군구':'address',\n",
    "                     '대지면적(㎡)':'m_landarea',\n",
    "                     '거래금액(만원)':'price',\n",
    "                     '건축년도':'const_year'}, inplace=True)\n",
    "\n",
    "# 필요변수 생성: 단위 면적당 가격 // 동읍면 생성\n",
    "# 단위 면적당 가격\n",
    "for i in range(dd1_own.shape[0]):\n",
    "    dd1_own.loc[i,'price'] = int(dd1_own.loc[i,'price'].replace(',',''))\n",
    "dd1_own['unit_price'] = dd1_own['price'] / dd1_own['m_landarea']\n",
    "\n",
    "# 동읍면 생성\n",
    "dd1_own['dongeupmyeon'] = np.nan\n",
    "for i in range(dd1_own.shape[0]):\n",
    "    dd1_own.loc[i, 'dongeupmyeon'] = dd1_own.iloc[i,1][8:]\n",
    "\n",
    "# 동일주택가정을 위한 matchid 코드 생성\n",
    "for i in range(dd1_own.shape[0]):\n",
    "    dd1_own.loc[i, 'matchid'] = str(dd1_own.loc[i, 'dongeupmyeon'])\n",
    "dd1_own.head()"
   ]
  },
  {
   "cell_type": "code",
   "execution_count": null,
   "metadata": {},
   "outputs": [],
   "source": [
    "# 거래시점에 1부터 순서대로 숫자부여\n",
    "nmonth = pd.DataFrame(dd1_own['sale_date'].unique(), columns=['sale_date']).reset_index()\n",
    "nmonth = nmonth.rename(columns={'index':'nmonth'})\n",
    "nmonth['nmonth'] += 1\n",
    "nmonth.head()"
   ]
  },
  {
   "cell_type": "code",
   "execution_count": null,
   "metadata": {},
   "outputs": [],
   "source": [
    "# sale_date를 기준으로 nmonth1과 병합\n",
    "dd2_own = pd.merge(dd1_own, nmonth, on='sale_date')\n",
    "dd2_own = dd2_own.drop(['address','dongeupmyeon'], axis=1)\n",
    "\n",
    "# 1회 주택 거래사례 제거\n",
    "# matchid별 거래빈도 데이터프레임 형성\n",
    "sales_freq = pd.DataFrame(dd2_own['matchid'].value_counts()).reset_index().rename(columns = {'index':'matchid',  'matchid':'freq'})\n",
    "table_freq = pd.DataFrame(sales_freq['freq'].value_counts()) # 1회 거래된 빈도: 276\n",
    "\n",
    "# dd2_own sales_freq를 merge후 거래횟수가 1회은 matchid를 제거\n",
    "dd3_own = pd.merge(dd2_own, sales_freq, on='matchid')\n",
    "dd3_own = dd3_own[dd3_own['freq'] > 1]\n",
    "\n",
    "# dd3_own 정렬: 기준은 matchid오름차순 + nmonth오름차순\n",
    "dd3_own = dd3_own.sort_values(['matchid', 'nmonth'], ascending=True).reset_index(drop=True)\n",
    "dd3_own.head()"
   ]
  },
  {
   "cell_type": "code",
   "execution_count": null,
   "metadata": {},
   "outputs": [],
   "source": [
    "# 반복거래쌍 구성\n",
    "dd4_own = dd3_own.copy()\n",
    "for i in range(dd4_own.shape[0]):\n",
    "    dd4_own.loc[i,'log_unit_price'] = math.log(dd4_own.loc[i,'unit_price']) \n",
    "\n",
    "dd4_own['sale_date'] = dd4_own['sale_date'].astype('object')\n",
    "dd4_own['lag_matchid'] = dd4_own['matchid'].shift(1)\n",
    "dd4_own['lag_sale_date'] = dd4_own['sale_date'].shift(1)\n",
    "dd4_own['lag_nmonth'] = dd4_own['nmonth'].shift(1) \n",
    "dd4_own['lag_log_unit_price'] = dd4_own['log_unit_price'].shift(1) \n",
    "dd4_own.head(6)\n",
    "\n",
    "# matchid 불일치행 및 시점 동일 행 제거\n",
    "index_list = []\n",
    "for i in range(dd4_own.shape[0]):\n",
    "    if (dd4_own.loc[i,'matchid'] == dd4_own.loc[i,'lag_matchid']):\n",
    "        index_list.append(i)\n",
    "        \n",
    "dd4_own = dd4_own.loc[index_list,:]\n",
    "dd4_own.reset_index(drop=True, inplace=True)\n",
    "\n",
    "# 거래쌍 간 가격차이 계산\n",
    "dd4_own['lnp_growth'] = dd4_own['log_unit_price'] - dd4_own['lag_log_unit_price']\n",
    "\n",
    "# 변수정리\n",
    "index_ddown = dd4_own[['matchid', 'sale_date', 'lag_sale_date', 'lnp_growth']]\n",
    "index_ddown.rename(columns={'lag_sale_date':'pre_sale_date'}, inplace=True)\n",
    "index_ddown.head()"
   ]
  },
  {
   "cell_type": "code",
   "execution_count": null,
   "metadata": {},
   "outputs": [],
   "source": [
    "# 시점더미 생성\n",
    "d_time2 = pd.get_dummies(index_ddown['sale_date'], drop_first=True) # 2번째 거래가 일어났으면 1, 안일어났으면 0\n",
    "d_time1 = pd.get_dummies(index_ddown['pre_sale_date'], drop_first=True) # 첫번째 거래가 일어났으면 1, 안일어났으면 0\n",
    "d_time2.to_csv('d_time2.csv', index=False)\n",
    "d_time1.to_csv('d_time1.csv', index=False)\n",
    "\n",
    "d_time2 = pd.read_csv('d_time2.csv')\n",
    "d_time1 = pd.read_csv('d_time1.csv')\n",
    "\n",
    "d_time = d_time2 - d_time1 #2번째 거래 = 1 1번째 거래 = -1 else = 0\n",
    "d_time.head()\n",
    "\n",
    "# 변수정리\n",
    "index_ddown_rs = pd.concat([index_ddown, d_time], axis=1)\n",
    "index_ddown_rs = index_ddown_rs.drop(['matchid', 'sale_date', 'pre_sale_date'], axis=1)\n",
    "index_ddown_rs.head()"
   ]
  },
  {
   "cell_type": "code",
   "execution_count": null,
   "metadata": {
    "scrolled": true
   },
   "outputs": [],
   "source": [
    "# OLS 반복매매지수 산정\n",
    "import statsmodels.api as sm\n",
    "X = index_ddown_rs.drop('lnp_growth', axis=1)\n",
    "y = index_ddown_rs['lnp_growth']\n",
    "sejong_ddown_model = sm.OLS(y, X)\n",
    "results = sejong_ddown_model.fit()\n",
    "\n",
    "# coefficeint와 nmonth를 결합 \n",
    "result_sejong_ddown = pd.DataFrame(results.params, columns=['coefficients']).reset_index()\n",
    "nmonth = pd.DataFrame([i for i in range(2,49)], columns=['nmonth'])\n",
    "result_sejong_ddown = pd.concat([result_sejong_ddown, nmonth], axis=1).rename(columns={'index':'sale_date'})\n",
    "\n",
    "# 지수생성\n",
    "for i in range(result_sejong_ddown.shape[0]):\n",
    "    result_sejong_ddown.loc[i,'dd_index'] = math.exp(result_sejong_ddown.loc[i,'coefficients']) * 100\n",
    "result_sejong_ddown['pre_index'] = result_sejong_ddown['dd_index'].shift(1)\n",
    "result_sejong_ddown.iloc[0,4] = 100\n",
    "result_sejong_ddown['rate_ddindex'] = ((result_sejong_ddown['dd_index'] / result_sejong_ddown['pre_index']) - 1) * 100\n",
    "\n",
    "sejong_own_dd = result_sejong_ddown[['sale_date', 'dd_index','rate_ddindex']]\n",
    "index_first = pd.DataFrame({'sale_date':[201701],\n",
    "             'dd_index':[100],\n",
    "             'rate_ddindex':[np.nan]})\n",
    "\n",
    "sejong_own_dd = pd.concat([index_first, sejong_own_dd]).reset_index(drop=True)\n",
    "sejong_own_dd['sale_date'] = list(map(lambda x: str(x[2:4])+'.'+str(x[-2:]), sejong_own_dd['sale_date'].astype('str')))\n",
    "sejong_own_dd.head()"
   ]
  },
  {
   "cell_type": "markdown",
   "metadata": {},
   "source": [
    "- 준공실적과 함께 시각화하기위하여 준공실적을 간단하게 전처리"
   ]
  },
  {
   "cell_type": "code",
   "execution_count": null,
   "metadata": {},
   "outputs": [],
   "source": [
    "# 준공실적의 sheet만 불러온 후 필요한 열만 선별 및 세종시만 필터링\n",
    "junggong = pd.read_excel('인허가&준공실적.xlsx', sheet_name='준공실적').transpose().reset_index()\n",
    "junggong.columns = junggong.iloc[0,:]\n",
    "junggong = junggong.iloc[1:,:]\n",
    "junggong.rename(columns={'지 역':'년월'}, inplace=True)\n",
    "junggong = junggong[['년월', '세종']]\n",
    "\n",
    "# 준공실적의 년월의 형태를 시각화하기 좋게 변경\n",
    "junggong['년월'] = list(map(lambda x: x.replace('년 ','.').replace('월','')[2:], junggong['년월']))\n",
    "junggong.head()"
   ]
  },
  {
   "cell_type": "markdown",
   "metadata": {},
   "source": [
    "- 시각화"
   ]
  },
  {
   "cell_type": "code",
   "execution_count": null,
   "metadata": {},
   "outputs": [],
   "source": [
    "# 시각화\n",
    "fig = go.Figure(data=[\n",
    "   go.Bar(x = junggong.년월, y = junggong.loc[:,'세종'], name= '준공실적(우)', marker_color='black', opacity=0.1, yaxis='y1'),\n",
    "   go.Scatter(x = sejong_own_apt.sale_date, y = sejong_own_apt.loc[:,'apt_index'], name= '아파트(좌)', yaxis='y2', line_color='green'),\n",
    "   go.Scatter(x = sejong_own_dd.sale_date, y = sejong_own_dd.loc[:,'dd_index'], name= '단독다가구(좌)', yaxis='y2', line_color='orange')])\n",
    "    \n",
    "fig.update_layout(\n",
    "    title=\"세종시 매매가격지수\",\n",
    "    xaxis_title=\"\",\n",
    "    yaxis_title=\"\",\n",
    "    legend_title=''\n",
    "    )\n",
    "\n",
    "fig.update_layout(\n",
    "    title={\n",
    "        'text': \"세종시 매매가격지수\",\n",
    "        'y':0.9,\n",
    "        'x':0.5,\n",
    "        'xanchor': 'center',\n",
    "        'yanchor': 'top'\n",
    "    },\n",
    "    yaxis1=dict(side='right', \n",
    "                ticksuffix=\"건\",\n",
    "                tickformat=',',\n",
    "                dtick=2000,\n",
    "                range=[0,10000]),\n",
    "    \n",
    "    yaxis2=dict(side='left', \n",
    "                tickformat = 'digit', \n",
    "                overlaying='y',\n",
    "               dtick=20,\n",
    "               range=[60,200]),\n",
    "    legend=dict(traceorder='reversed', x=1.1, y=1))\n",
    "\n",
    "\n",
    "fig.update_xaxes(tickangle = 315,\n",
    "                dtick=2)\n",
    "\n",
    "\n",
    "\n",
    "\n",
    "fig.show()"
   ]
  },
  {
   "cell_type": "markdown",
   "metadata": {},
   "source": [
    "# 2.2 매매 거래 동향\n",
    "\n",
    "### 2.2.1 아파트 매매 거래량"
   ]
  },
  {
   "cell_type": "code",
   "execution_count": null,
   "metadata": {},
   "outputs": [],
   "source": [
    "count_df3 = df3.groupby('계약년월',as_index=False).agg({'단지명':'count'})\n",
    "count_df3['계약년월'] =count_df3['계약년월'].astype('str')\n",
    "count_df3['계약년월'] =count_df3['계약년월'].apply(lambda x: x[2:][:2]+'.'+x[2:][2:])"
   ]
  },
  {
   "cell_type": "code",
   "execution_count": null,
   "metadata": {},
   "outputs": [],
   "source": [
    "fig = go.Figure()\n",
    "\n",
    "fig.add_trace(\n",
    "    go.Bar(x=count_df3['계약년월'],y=count_df3['단지명'], name= '거래량(좌)', yaxis='y1'))\n",
    "fig.update_layout(\n",
    "    title={\n",
    "        'text': \"세종시 아파트 매매 거래량\",\n",
    "        'y':0.9,\n",
    "        'x':0.5,\n",
    "        'xanchor': 'center',\n",
    "        'yanchor': 'top'\n",
    "    },\n",
    "    yaxis1=dict(side='left', dtick=500,range=[0,2500]),    \n",
    "    legend=dict(traceorder='reversed', x=1.05, y=1),\n",
    "    xaxis_title=\"계약년월\",\n",
    "    yaxis_title=\"건 수(건)\",yaxis_tickformat = ',')\n",
    "\n",
    "fig.update_xaxes(tickangle = 315, dtick=2)\n",
    "\n",
    "fig.show()"
   ]
  },
  {
   "cell_type": "markdown",
   "metadata": {},
   "source": [
    "### 2.2.2 읍면동별 연도별 아파트 매매 거래량"
   ]
  },
  {
   "cell_type": "markdown",
   "metadata": {},
   "source": [
    "#### 읍면동 통일 위해 df32 기준 읍면동으로 할당\n",
    "- 해밀동 => 연기면\n",
    "- 가람동 => 한솔동\n",
    "- 다정동 => 새롬동\n",
    "- 반곡동 => 소담동\n",
    "- 나성동 => 새롬동\n",
    "- 어진동 => 도담동"
   ]
  },
  {
   "cell_type": "code",
   "execution_count": null,
   "metadata": {},
   "outputs": [],
   "source": [
    "def change(df): #읍면동 통일 함수\n",
    "    df['시군구'].replace('세종특별자치시 가람동','한솔동', inplace=True)\n",
    "    df['시군구'].replace('세종특별자치시 해밀동','연기면', inplace=True)\n",
    "    df['시군구'].replace('세종특별자치시 다정동','새롬동', inplace=True)\n",
    "    df['시군구'].replace('세종특별자치시 반곡동','소담동', inplace=True)\n",
    "    df['시군구'].replace('세종특별자치시 나성동','새롬동', inplace=True) \n",
    "    df['시군구'].replace('세종특별자치시 어진동','도담동', inplace=True)\n",
    "    \n",
    "    for i in df.index:\n",
    "        original = df.loc[i,'시군구']\n",
    "        if '전의면' in original:\n",
    "            df.loc[i,'시군구'] = '전의면'\n",
    "        elif '금남면' in original:\n",
    "            df.loc[i,'시군구'] = '금남면'\n",
    "        elif '연서면' in original:\n",
    "            df.loc[i,'시군구'] = '연서면'\n",
    "        elif '연기면' in original:\n",
    "            df.loc[i,'시군구'] = '연기면'\n",
    "        elif '연동면' in original:\n",
    "            df.loc[i,'시군구'] = '연동면'\n",
    "        elif '부강면' in original:\n",
    "            df.loc[i,'시군구'] = '부강면'\n",
    "        elif '장군면' in original:\n",
    "            df.loc[i,'시군구'] = '장군면'\n",
    "        elif '전동면' in original:\n",
    "            df.loc[i,'시군구'] = '전동면'        \n",
    "        elif '소정면' in original:\n",
    "            df.loc[i,'시군구'] = '소정면'        \n",
    "        elif '도담동' in original:\n",
    "            df.loc[i,'시군구'] = '도담동'        \n",
    "        elif '고운동' in original:\n",
    "            df.loc[i,'시군구'] = '고운동'        \n",
    "        elif '종촌동' in original:\n",
    "            df.loc[i,'시군구'] = '종촌동'        \n",
    "        elif '소담동' in original:\n",
    "            df.loc[i,'시군구'] = '소담동'        \n",
    "        elif '아름동' in original:\n",
    "            df.loc[i,'시군구'] = '아름동'        \n",
    "        elif '새롬동' in original:\n",
    "            df.loc[i,'시군구'] = '새롬동'\n",
    "        elif '한솔동' in original:\n",
    "            df.loc[i,'시군구'] = '한솔동'        \n",
    "        elif '대평동' in original:\n",
    "            df.loc[i,'시군구'] = '대평동'\n",
    "        elif '보람동' in original:\n",
    "            df.loc[i,'시군구'] = '보람동'\n",
    "        elif '조치원읍' in original:\n",
    "            df.loc[i,'시군구'] = '조치원읍'\n",
    "            "
   ]
  },
  {
   "cell_type": "code",
   "execution_count": null,
   "metadata": {},
   "outputs": [],
   "source": [
    "change(df3) #df3 읍면동 통일 실행\n",
    "# 연도별 분리\n",
    "df3_2017 = df3[df3['계약년월'].apply(lambda x:  x<201801)]\n",
    "df3_2018 = df3[df3['계약년월'].apply(lambda x:  201712<x<201901)]\n",
    "df3_2019 = df3[df3['계약년월'].apply(lambda x:  201812<x<202001)]\n",
    "df3_2020 = df3[df3['계약년월'].apply(lambda x:  201912<x)]\n",
    "\n",
    "count_2017 = df3_2017.groupby('시군구',as_index=False).agg({'단지명':'count'})\n",
    "count_2018 = df3_2018.groupby('시군구',as_index=False).agg({'단지명':'count'})\n",
    "count_2019 = df3_2019.groupby('시군구',as_index=False).agg({'단지명':'count'})\n",
    "count_2020 = df3_2020.groupby('시군구',as_index=False).agg({'단지명':'count'})"
   ]
  },
  {
   "cell_type": "code",
   "execution_count": null,
   "metadata": {},
   "outputs": [],
   "source": [
    "diff1 = set(dong_list) - set(count_2017['시군구'])\n",
    "print(\"17년 거래 0인 지역\" ,diff1)\n",
    "diff2 = set(dong_list) - set(count_2018['시군구'])\n",
    "print(\"18년 거래 0인 지역\" ,diff2)\n",
    "diff3 = set(dong_list) - set(count_2019['시군구'])\n",
    "print(\"19년 거래 0인 지역\" ,diff3)\n",
    "diff4 = set(dong_list) - set(count_2020['시군구'])\n",
    "print(\"20년 거래 0인 지역\" ,diff4)\n",
    "\n",
    "for i in diff1:\n",
    "    count_2017 = count_2017.append({'시군구' :f'{i}', '단지명':0}, ignore_index=True)\n",
    "for i in diff2:\n",
    "    count_2018 = count_2018.append({'시군구' :f'{i}', '단지명':0}, ignore_index=True)\n",
    "for i in diff3:\n",
    "    count_2019 = count_2019.append({'시군구' :f'{i}', '단지명':0}, ignore_index=True)\n",
    "for i in diff4:\n",
    "    count_2020 = count_2020.append({'시군구' :f'{i}', '단지명':0}, ignore_index=True)\n",
    "    \n",
    "# 시각화 위해 시군구 가나다 순 정렬# 시각화 위해 시군구 가나다 순 정렬\n",
    "count_2017.sort_values(['시군구'], inplace=True)\n",
    "count_2018.sort_values(['시군구'], inplace=True)\n",
    "count_2019.sort_values(['시군구'], inplace=True)\n",
    "count_2020.sort_values(['시군구'], inplace=True)\n",
    "count_2017.reset_index(drop=True, inplace=True)\n",
    "count_2018.reset_index(drop=True, inplace=True)\n",
    "count_2019.reset_index(drop=True, inplace=True)\n",
    "count_2020.reset_index(drop=True, inplace=True)\n"
   ]
  },
  {
   "cell_type": "code",
   "execution_count": null,
   "metadata": {},
   "outputs": [],
   "source": [
    "import plotly.graph_objects as go\n",
    "region=list(count_2017['시군구'])\n",
    "fig = go.Figure(data=[\n",
    "    go.Bar(name='2017년', x=region, y=[count_2017['단지명'][0],count_2017['단지명'][1], count_2017['단지명'][2], count_2017['단지명'][3],count_2017['단지명'][4],count_2017['단지명'][5], count_2017['단지명'][6], count_2017['단지명'][7],count_2017['단지명'][8],count_2017['단지명'][9], count_2017['단지명'][10], count_2017['단지명'][11],count_2017['단지명'][12],count_2017['단지명'][13], count_2017['단지명'][14], count_2017['단지명'][15],count_2017['단지명'][16],count_2017['단지명'][17], count_2017['단지명'][18]]),\n",
    "    go.Bar(name='2018년', x=region, y=[count_2018['단지명'][0],count_2018['단지명'][1], count_2018['단지명'][2], count_2018['단지명'][3],count_2018['단지명'][4],count_2018['단지명'][5], count_2018['단지명'][6], count_2018['단지명'][7],count_2018['단지명'][8],count_2018['단지명'][9], count_2018['단지명'][10], count_2018['단지명'][11],count_2018['단지명'][12],count_2018['단지명'][13], count_2018['단지명'][14], count_2018['단지명'][15],count_2018['단지명'][16],count_2018['단지명'][17], count_2018['단지명'][18]]),\n",
    "    go.Bar(name='2019년', x=region, y=[count_2019['단지명'][0],count_2019['단지명'][1], count_2019['단지명'][2], count_2019['단지명'][3],count_2019['단지명'][4],count_2019['단지명'][5], count_2019['단지명'][6], count_2019['단지명'][7],count_2019['단지명'][8],count_2019['단지명'][9], count_2019['단지명'][10], count_2019['단지명'][11],count_2019['단지명'][12],count_2019['단지명'][13], count_2019['단지명'][14], count_2019['단지명'][15],count_2019['단지명'][16],count_2019['단지명'][17], count_2019['단지명'][18]]),\n",
    "    go.Bar(name='2020년', x=region, y=[count_2020['단지명'][0],count_2020['단지명'][1], count_2020['단지명'][2], count_2020['단지명'][3],count_2020['단지명'][4],count_2020['단지명'][5], count_2020['단지명'][6], count_2020['단지명'][7],count_2020['단지명'][8],count_2020['단지명'][9], count_2020['단지명'][10], count_2020['단지명'][11],count_2020['단지명'][12],count_2020['단지명'][13], count_2020['단지명'][14], count_2020['단지명'][15],count_2020['단지명'][16],count_2020['단지명'][17], count_2020['단지명'][18]]),\n",
    "])\n",
    "fig.update_layout(barmode='group',  title='읍면동별 아파트 매매 거래량 분포', \n",
    "                 xaxis_title=\"읍면동\",yaxis_title=\"거래량 (건)\",yaxis_tickformat = ','\n",
    "                 ,yaxis1=dict(side='left', dtick=400,range=[0,2000]))\n",
    "\n",
    "fig.show()"
   ]
  },
  {
   "cell_type": "markdown",
   "metadata": {},
   "source": [
    "### 2.2.3 단독다가구 매매 거래량"
   ]
  },
  {
   "cell_type": "code",
   "execution_count": null,
   "metadata": {},
   "outputs": [],
   "source": [
    "change(df5) #df5 읍면동 통일 실행\n",
    "count_df5 = df5.groupby('계약년월',as_index=False).agg({'주택유형':'count'})\n",
    "count_df5['계약년월'] =count_df5['계약년월'].astype('str')\n",
    "count_df5['계약년월'] =count_df5['계약년월'].apply(lambda x: x[2:][:2]+'.'+x[2:][2:])"
   ]
  },
  {
   "cell_type": "code",
   "execution_count": null,
   "metadata": {},
   "outputs": [],
   "source": [
    "fig = go.Figure()\n",
    "\n",
    "fig.add_trace(\n",
    "    go.Bar(x=count_df5['계약년월'],y=count_df5['주택유형'], name= '거래량(좌)', yaxis='y1'))\n",
    "fig.update_layout(\n",
    "    title={\n",
    "        'text': \"세종시 단독다가구 매매 거래량\",\n",
    "        'y':0.9,\n",
    "        'x':0.5,\n",
    "        'xanchor': 'center',\n",
    "        'yanchor': 'top'\n",
    "    },\n",
    "    yaxis1=dict(side='left',  dtick=500,range=[0,2500]),    \n",
    "    legend=dict(traceorder='reversed', x=1.05, y=1),\n",
    "    xaxis_title=\"계약년월\",\n",
    "    yaxis_title=\"건 수(건)\",yaxis_tickformat = ',')\n",
    "\n",
    "fig.update_xaxes(tickangle = 315, dtick=2)\n",
    "\n",
    "fig.show()"
   ]
  },
  {
   "cell_type": "markdown",
   "metadata": {},
   "source": [
    "### 2.2.4 읍면동별 연도별 단독다가구 매매 거래량"
   ]
  },
  {
   "cell_type": "code",
   "execution_count": null,
   "metadata": {},
   "outputs": [],
   "source": [
    "# 연도별 분리\n",
    "df5_2017 = df5[df5['계약년월'].apply(lambda x:  x<201801)]\n",
    "df5_2018 = df5[df5['계약년월'].apply(lambda x:  201712<x<201901)]\n",
    "df5_2019 = df5[df5['계약년월'].apply(lambda x:  201812<x<202001)]\n",
    "df5_2020 = df5[df5['계약년월'].apply(lambda x:  201912<x)]\n",
    "\n",
    "count_2017 = df5_2017.groupby('시군구',as_index=False).agg({'주택유형':'count'})\n",
    "count_2018 = df5_2018.groupby('시군구',as_index=False).agg({'주택유형':'count'})\n",
    "count_2019 = df5_2019.groupby('시군구',as_index=False).agg({'주택유형':'count'})\n",
    "count_2020 = df5_2020.groupby('시군구',as_index=False).agg({'주택유형':'count'})"
   ]
  },
  {
   "cell_type": "code",
   "execution_count": null,
   "metadata": {},
   "outputs": [],
   "source": [
    "diff1 = set(dong_list) - set(count_2017['시군구'])\n",
    "print(\"17년 거래 0인 지역\" ,diff1)\n",
    "diff2 = set(dong_list) - set(count_2018['시군구'])\n",
    "print(\"18년 거래 0인 지역\" ,diff2)\n",
    "diff3 = set(dong_list) - set(count_2019['시군구'])\n",
    "print(\"19년 거래 0인 지역\" ,diff3)\n",
    "diff4 = set(dong_list) - set(count_2020['시군구'])\n",
    "print(\"20년 거래 0인 지역\" ,diff4)\n",
    "\n",
    "for i in diff1:\n",
    "    count_2017 = count_2017.append({'시군구' :f'{i}', '주택유형':0}, ignore_index=True)\n",
    "for i in diff2:\n",
    "    count_2018 = count_2018.append({'시군구' :f'{i}', '주택유형':0}, ignore_index=True)\n",
    "for i in diff3:\n",
    "    count_2019 = count_2019.append({'시군구' :f'{i}', '주택유형':0}, ignore_index=True)\n",
    "for i in diff4:\n",
    "    count_2020 = count_2020.append({'시군구' :f'{i}', '주택유형':0}, ignore_index=True)\n",
    "    \n",
    "# 시각화 위해 시군구 가나다 순 정렬# 시각화 위해 시군구 가나다 순 정렬\n",
    "count_2017.sort_values(['시군구'], inplace=True)\n",
    "count_2018.sort_values(['시군구'], inplace=True)\n",
    "count_2019.sort_values(['시군구'], inplace=True)\n",
    "count_2020.sort_values(['시군구'], inplace=True)\n",
    "count_2017.reset_index(drop=True, inplace=True)\n",
    "count_2018.reset_index(drop=True, inplace=True)\n",
    "count_2019.reset_index(drop=True, inplace=True)\n",
    "count_2020.reset_index(drop=True, inplace=True)"
   ]
  },
  {
   "cell_type": "code",
   "execution_count": null,
   "metadata": {},
   "outputs": [],
   "source": [
    "import plotly.graph_objects as go\n",
    "region=list(count_2017['시군구'])\n",
    "fig = go.Figure(data=[\n",
    "    go.Bar(name='2017년', x=region, y=[count_2017['주택유형'][0],count_2017['주택유형'][1], count_2017['주택유형'][2], count_2017['주택유형'][3],count_2017['주택유형'][4],count_2017['주택유형'][5], count_2017['주택유형'][6], count_2017['주택유형'][7],count_2017['주택유형'][8],count_2017['주택유형'][9], count_2017['주택유형'][10], count_2017['주택유형'][11],count_2017['주택유형'][12],count_2017['주택유형'][13], count_2017['주택유형'][14], count_2017['주택유형'][15],count_2017['주택유형'][16],count_2017['주택유형'][17], count_2017['주택유형'][18]]),\n",
    "    go.Bar(name='2018년', x=region, y=[count_2018['주택유형'][0],count_2018['주택유형'][1], count_2018['주택유형'][2], count_2018['주택유형'][3],count_2018['주택유형'][4],count_2018['주택유형'][5], count_2018['주택유형'][6], count_2018['주택유형'][7],count_2018['주택유형'][8],count_2018['주택유형'][9], count_2018['주택유형'][10], count_2018['주택유형'][11],count_2018['주택유형'][12],count_2018['주택유형'][13], count_2018['주택유형'][14], count_2018['주택유형'][15],count_2018['주택유형'][16],count_2018['주택유형'][17], count_2018['주택유형'][18]]),\n",
    "    go.Bar(name='2019년', x=region, y=[count_2019['주택유형'][0],count_2019['주택유형'][1], count_2019['주택유형'][2], count_2019['주택유형'][3],count_2019['주택유형'][4],count_2019['주택유형'][5], count_2019['주택유형'][6], count_2019['주택유형'][7],count_2019['주택유형'][8],count_2019['주택유형'][9], count_2019['주택유형'][10], count_2019['주택유형'][11],count_2019['주택유형'][12],count_2019['주택유형'][13], count_2019['주택유형'][14], count_2019['주택유형'][15],count_2019['주택유형'][16],count_2019['주택유형'][17], count_2019['주택유형'][18]]),\n",
    "    go.Bar(name='2020년', x=region, y=[count_2020['주택유형'][0],count_2020['주택유형'][1], count_2020['주택유형'][2], count_2020['주택유형'][3],count_2020['주택유형'][4],count_2020['주택유형'][5], count_2020['주택유형'][6], count_2020['주택유형'][7],count_2020['주택유형'][8],count_2020['주택유형'][9], count_2020['주택유형'][10], count_2020['주택유형'][11],count_2020['주택유형'][12],count_2020['주택유형'][13], count_2020['주택유형'][14], count_2020['주택유형'][15],count_2020['주택유형'][16],count_2020['주택유형'][17], count_2020['주택유형'][18]]),\n",
    "])\n",
    "fig.update_layout(barmode='group',  title='읍면동별 단독다가구 매매 거래량 분포', \n",
    "                 xaxis_title=\"읍면동\",yaxis_title=\"거래량 (건)\",yaxis_tickformat = ','\n",
    "                 ,yaxis1=dict(side='left', dtick=400,range=[0,2000]))\n",
    "\n",
    "fig.show()"
   ]
  },
  {
   "cell_type": "markdown",
   "metadata": {},
   "source": [
    "## 2.3 아파트 매매 변화율 시각화\n",
    "\n",
    "- 2020년 7-8월 가격변화율 시각화"
   ]
  },
  {
   "cell_type": "code",
   "execution_count": null,
   "metadata": {},
   "outputs": [],
   "source": [
    "# 면적 당 금액 변수 생성변수 생성\n",
    "df3['거래금액(만원)'] = df3['거래금액(만원)'].apply(lambda x: int(x.replace(\",\",\"\")))\n",
    "df3['면적당 금액(만원/m2)'] = df3['거래금액(만원)']  /df3['전용면적(㎡)']\n",
    "\n",
    "# 날싸 선정\n",
    "df3_2007 = df3[df3['계약년월'].apply(lambda x:  x==202007)]\n",
    "df3_2008 = df3[df3['계약년월'].apply(lambda x:  x==202008)]\n",
    "\n",
    "# 읍면동 별 평균 면적당 금액\n",
    "count_2007 = df3_2007.groupby('시군구',as_index=False).agg({'면적당 금액(만원/m2)':'mean'})\n",
    "count_2008 = df3_2008.groupby('시군구',as_index=False).agg({'면적당 금액(만원/m2)':'mean'})\n",
    "# 시각화 위해 읍면동으로 sorting\n",
    "count_2007.sort_values(['시군구'], inplace=True)\n",
    "count_2007.reset_index(drop=True, inplace=True)\n",
    "count_2008.sort_values(['시군구'], inplace=True)\n",
    "count_2008.reset_index(drop=True, inplace=True)"
   ]
  },
  {
   "cell_type": "code",
   "execution_count": null,
   "metadata": {},
   "outputs": [],
   "source": [
    "# 해당 시기에 실거래가 없는 경우 0원 부여\n",
    "diff1 = set(dong_list) - set(count_2007['시군구'])\n",
    "print(\"20년 7월 거래 0인 지역\" ,diff1)\n",
    "diff2 = set(dong_list) - set(count_2008['시군구'])\n",
    "print(\"20년 8월 거래 0인 지역\" ,diff2)\n",
    "\n",
    "for i in diff1:\n",
    "    count_2007 = count_2007.append({'시군구' :f'{i}', '면적당 금액(만원/m2)':0}, ignore_index=True)\n",
    "for i in diff2:\n",
    "    count_2008 = count_2008.append({'시군구' :f'{i}', '면적당 금액(만원/m2)':0}, ignore_index=True)\n",
    "    \n",
    "# 20년 7월 대비 8월 변화율 변수 생성 \n",
    "count_2008['변화율'] = (count_2008['면적당 금액(만원/m2)'] - count_2007['면적당 금액(만원/m2)']) / count_2007['면적당 금액(만원/m2)']"
   ]
  },
  {
   "cell_type": "code",
   "execution_count": null,
   "metadata": {},
   "outputs": [],
   "source": [
    "dd = pd.DataFrame()\n",
    "dd['읍면동'] = count_2008['시군구']\n",
    "dd['20년 8월 변화율'] = count_2008['변화율']\n",
    "dd"
   ]
  },
  {
   "cell_type": "code",
   "execution_count": null,
   "metadata": {},
   "outputs": [],
   "source": [
    "dd.loc[16,'20년 8월 변화율'] =np.nan"
   ]
  },
  {
   "cell_type": "code",
   "execution_count": null,
   "metadata": {},
   "outputs": [],
   "source": [
    "# 지도에 tolltip위한 정보 추가\n",
    "for idx, sigun_dict in enumerate(df32['features']):\n",
    "    name = sigun_dict['properties']['ADM_DR_NM']\n",
    "    ratio = str(list(dd.loc[(dd.읍면동 == name), '20년 8월 변화율']))\n",
    "    ratio= ratio.replace(\"[\",\"\")\n",
    "    ratio= ratio.replace(\"]\",\"\")\n",
    "    txt = f'<b><h4>{name}</h4></b>20년 8월 변화율 : {ratio}<br>'\n",
    "    df32['features'][idx]['properties']['tooltip1']= txt"
   ]
  },
  {
   "cell_type": "code",
   "execution_count": null,
   "metadata": {},
   "outputs": [],
   "source": [
    "# 지도 base 추가\n",
    "\n",
    "def map_base():\n",
    "    # 지도 가운데 읍면동 text 넣어주기 위함\n",
    "    df = gpd.read_file('32.세종시_행정경계(읍면동).geojson')\n",
    "    region_names =[]\n",
    "    coordinate_list=[]\n",
    "    for idx in df.index:\n",
    "        region_names.append(df.loc[idx, 'ADM_DR_NM']) \n",
    "        lon = df.loc[idx, 'geometry'].centroid.x\n",
    "        lat = df.loc[idx, 'geometry'].centroid.y\n",
    "        coordinate=[lat,lon]\n",
    "        coordinate_list.append(coordinate)\n",
    "\n",
    "    # 읍면동 text 추가\n",
    "    for region_name, coordinate in zip(region_names, coordinate_list):\n",
    "        folium.map.Marker(\n",
    "            coordinate,\n",
    "            icon=DivIcon(\n",
    "                icon_size=(50,2),\n",
    "                icon_anchor=(20,20),\n",
    "                html='<div style=\"font-size: 1pt; color: black;\">%s</div>' % region_name,\n",
    "                )\n",
    "            ).add_to(m)\n",
    "    folium.TileLayer('cartodbdark_matter').add_to(m)\n",
    "    \n",
    "# 행복동 표시 함수\n",
    "def get_line():\n",
    "    import geopandas as gpd\n",
    "    df = gpd.read_file('32.세종시_행정경계(읍면동).geojson')\n",
    "    hangbok = ['고운동', '아름동', '도담동', '종촌동', '어진동', '다정동', '새롬동', '나성동', '한솔동', '대평동', '보람동', '소담동', '반곡동']\n",
    "    hangbok_df= df[df['ADM_DR_NM'].apply(lambda x: x in hangbok)]\n",
    "    style2 = {'lineColor': '#00FFFFFF'}\n",
    "    folium.GeoJson( \n",
    "        hangbok_df,  \n",
    "        name='세종',\n",
    "        style_function=lambda x:style2,\n",
    "    ).add_to(m) #행정동 경계를 지도내에 add"
   ]
  },
  {
   "cell_type": "code",
   "execution_count": null,
   "metadata": {},
   "outputs": [],
   "source": [
    "# 지도 실행 코드\n",
    "m = folium.Map(\n",
    "        location=[36.5454475,127.2586156], # 지도의 정 중앙지점을 표시\n",
    "        zoom_start=10.3 # 초기 줌의 정도 설정\n",
    "    )\n",
    "map_base()"
   ]
  },
  {
   "cell_type": "code",
   "execution_count": null,
   "metadata": {},
   "outputs": [],
   "source": [
    "# 변화율 별로 지도 시각화 코드\n",
    "choropleth = folium.Choropleth(\n",
    "    geo_data=df32,\n",
    "    data = dd,\n",
    "    fill_color='Reds',\n",
    "    nan_fill_color ='#f0f0f0',\n",
    "    fill_opacity=1,\n",
    "    line_opacity = 1,\n",
    "    columns=('읍면동', '20년 8월 변화율'),\n",
    "    key_on='feature.properties.ADM_DR_NM',\n",
    "    legend_name='20년 8월 변화율',\n",
    "    name='실거래가 정보',\n",
    "#     bins=bins_gyungi,\n",
    "    highlight=True\n",
    ").add_to(m)\n",
    "\n",
    "\n",
    "choropleth.geojson.add_child(folium.features.GeoJsonTooltip(['tooltip1'], labels=False,style=('background-color: #eeeeee; opacity:1; color: black;')\n",
    "        ))\n",
    "\n",
    "get_line()  # 행복동 표시"
   ]
  },
  {
   "cell_type": "code",
   "execution_count": null,
   "metadata": {},
   "outputs": [],
   "source": [
    "m"
   ]
  },
  {
   "cell_type": "code",
   "execution_count": null,
   "metadata": {},
   "outputs": [],
   "source": [
    "# 지도로 저장 \n",
    "m.save('map_20년8월 아파트(매매)_변화율_실거래가.html')"
   ]
  },
  {
   "cell_type": "markdown",
   "metadata": {},
   "source": [
    "## 2.4 아파트_20년 8월 평균 단위가격"
   ]
  },
  {
   "cell_type": "code",
   "execution_count": null,
   "metadata": {},
   "outputs": [],
   "source": [
    "dd = pd.DataFrame()\n",
    "dd['읍면동'] = count_2008['시군구']\n",
    "dd['20년 8월 평균단위가격'] = count_2008['면적당 금액(만원/m2)']"
   ]
  },
  {
   "cell_type": "code",
   "execution_count": null,
   "metadata": {},
   "outputs": [],
   "source": [
    "for idx, sigun_dict in enumerate(df32['features']):\n",
    "    name = sigun_dict['properties']['ADM_DR_NM']\n",
    "    ratio = str(list(dd.loc[(dd.읍면동 == name), '20년 8월 평균단위가격']))\n",
    "    ratio= ratio.replace(\"[\",\"\")\n",
    "    ratio= ratio.replace(\"]\",\"\")\n",
    "    txt = f'<b><h4>{name}</h4></b>면적당 금액(만원/m2): {ratio}<br>'\n",
    "    df32['features'][idx]['properties']['tooltip1']= txt\n"
   ]
  },
  {
   "cell_type": "code",
   "execution_count": null,
   "metadata": {},
   "outputs": [],
   "source": [
    "# 기본 틀 실행\n",
    "m = folium.Map(\n",
    "        location=[36.5454475,127.2586156], # 지도의 정 중앙지점을 표시\n",
    "        zoom_start=10.3 # 초기 줌의 정도 설정\n",
    "    )\n",
    "map_base()\n",
    "\n",
    "choropleth = folium.Choropleth(\n",
    "    geo_data=df32,\n",
    "    data = dd,\n",
    "    fill_color='Reds',\n",
    "    nan_fill_color ='#f0f0f0',\n",
    "    fill_opacity=1,\n",
    "    line_opacity = 1,\n",
    "    columns=('읍면동', '20년 8월 평균단위가격'),\n",
    "    key_on='feature.properties.ADM_DR_NM',\n",
    "    legend_name='20년 8월 평균단위가격',\n",
    "    name='실거래가 정보',\n",
    "#     bins=bins_gyungi,\n",
    "    highlight=True\n",
    ").add_to(m)\n",
    "\n",
    "\n",
    "choropleth.geojson.add_child(folium.features.GeoJsonTooltip(['tooltip1'], labels=False,style=('background-color: #eeeeee; opacity:1; color: black;')\n",
    "        ))\n",
    "get_line()"
   ]
  },
  {
   "cell_type": "code",
   "execution_count": null,
   "metadata": {},
   "outputs": [],
   "source": [
    "\n",
    "m"
   ]
  },
  {
   "cell_type": "code",
   "execution_count": null,
   "metadata": {},
   "outputs": [],
   "source": [
    "m.save('map_20년8월 아파트(매매)_평균 단위가격.html')"
   ]
  },
  {
   "cell_type": "markdown",
   "metadata": {},
   "source": [
    "## 2.5 단독다가구 매매 변화율 시각화\n",
    "\n",
    "- df5 : 5.세종시_단독다가구(매매)_실거래가.csv\n",
    "- 2019년 2월"
   ]
  },
  {
   "cell_type": "code",
   "execution_count": null,
   "metadata": {},
   "outputs": [],
   "source": [
    "# 면적 당 금액 변수 생성변수 생성\n",
    "df5['거래금액(만원)'] = df5['거래금액(만원)'].apply(lambda x: int(x.replace(\",\",\"\")))\n",
    "df5['면적당 금액(만원/m2)'] = df5['거래금액(만원)']  /df3['전용면적(㎡)']\n",
    "\n",
    "# 날싸 선정\n",
    "df5_1901 = df5[df5['계약년월'].apply(lambda x:  x==201901)]\n",
    "df5_1902 = df5[df5['계약년월'].apply(lambda x:  x==201902)]\n",
    "\n",
    "# 읍면동 별 평균 면적당 금액\n",
    "count_1901 = df5_1901.groupby('시군구',as_index=False).agg({'면적당 금액(만원/m2)':'mean'})\n",
    "count_1902 = df5_1902.groupby('시군구',as_index=False).agg({'면적당 금액(만원/m2)':'mean'})\n",
    "# 시각화 위해 읍면동으로 sorting\n",
    "count_1901.sort_values(['시군구'], inplace=True)\n",
    "count_1901.reset_index(drop=True, inplace=True)\n",
    "count_1902.sort_values(['시군구'], inplace=True)\n",
    "count_1902.reset_index(drop=True, inplace=True)"
   ]
  },
  {
   "cell_type": "code",
   "execution_count": null,
   "metadata": {},
   "outputs": [],
   "source": [
    "# 해당 시기에 실거래가 없는 경우 0원 부여\n",
    "diff1 = set(dong_list) - set(count_1901['시군구'])\n",
    "print(\"19년 1월 거래 0인 지역\" ,diff1)\n",
    "diff2 = set(dong_list) - set(count_1902['시군구'])\n",
    "print(\"19년 2월 거래 0인 지역\" ,diff2)\n",
    "\n",
    "for i in diff1:\n",
    "    count_1901 = count_1901.append({'시군구' :f'{i}', '면적당 금액(만원/m2)':0}, ignore_index=True)\n",
    "for i in diff2:\n",
    "    count_1902 = count_1902.append({'시군구' :f'{i}', '면적당 금액(만원/m2)':0}, ignore_index=True)\n",
    "    \n",
    "# 19년 1월 대비 2월 변화율 변수 생성 \n",
    "count_1902['변화율'] = (count_1902['면적당 금액(만원/m2)'] - count_1901['면적당 금액(만원/m2)']) / count_1901['면적당 금액(만원/m2)']"
   ]
  },
  {
   "cell_type": "code",
   "execution_count": null,
   "metadata": {},
   "outputs": [],
   "source": [
    "dd = pd.DataFrame()\n",
    "dd['읍면동'] = count_1902['시군구']\n",
    "dd['19년 2월 변화율'] = count_1902['변화율']\n",
    "dd"
   ]
  },
  {
   "cell_type": "code",
   "execution_count": null,
   "metadata": {},
   "outputs": [],
   "source": [
    "# 지도에 tolltip위한 정보 추가\n",
    "for idx, sigun_dict in enumerate(df32['features']):\n",
    "    name = sigun_dict['properties']['ADM_DR_NM']\n",
    "    ratio = str(list(dd.loc[(dd.읍면동 == name), '19년 2월 변화율']))\n",
    "    ratio= ratio.replace(\"[\",\"\")\n",
    "    ratio= ratio.replace(\"]\",\"\")\n",
    "    txt = f'<b><h4>{name}</h4></b>19년 2월 변화율 : {ratio}<br>'\n",
    "    df32['features'][idx]['properties']['tooltip1']= txt"
   ]
  },
  {
   "cell_type": "code",
   "execution_count": null,
   "metadata": {},
   "outputs": [],
   "source": [
    "# 지도 실행 코드\n",
    "m = folium.Map(\n",
    "        location=[36.5454475,127.2586156], # 지도의 정 중앙지점을 표시\n",
    "        zoom_start=10.3 # 초기 줌의 정도 설정\n",
    "    )\n",
    "map_base()"
   ]
  },
  {
   "cell_type": "code",
   "execution_count": null,
   "metadata": {},
   "outputs": [],
   "source": [
    "# 변화율 별로 지도 시각화 코드\n",
    "choropleth = folium.Choropleth(\n",
    "    geo_data=df32,\n",
    "    data = dd,\n",
    "    fill_color='Reds',\n",
    "    nan_fill_color ='#f0f0f0',\n",
    "    fill_opacity=1,\n",
    "    line_opacity = 1,\n",
    "    columns=('읍면동', '19년 2월 변화율'),\n",
    "    key_on='feature.properties.ADM_DR_NM',\n",
    "    legend_name='19년 2월 변화율',\n",
    "    name='실거래가 정보',\n",
    "#     bins=bins_gyungi,\n",
    "    highlight=True\n",
    ").add_to(m)\n",
    "\n",
    "\n",
    "choropleth.geojson.add_child(folium.features.GeoJsonTooltip(['tooltip1'], labels=False,style=('background-color: #eeeeee; opacity:1; color: black;')\n",
    "        ))\n",
    "\n",
    "get_line()  # 행복동 표시"
   ]
  },
  {
   "cell_type": "code",
   "execution_count": null,
   "metadata": {},
   "outputs": [],
   "source": [
    "m"
   ]
  },
  {
   "cell_type": "code",
   "execution_count": null,
   "metadata": {},
   "outputs": [],
   "source": [
    "# 지도로 저장 \n",
    "m.save('map_19년 2월 단독다가구(매매)_변화율_실거래가.html')"
   ]
  },
  {
   "cell_type": "markdown",
   "metadata": {},
   "source": [
    "\n",
    "## 2.6 단독다가구_19년 2월 평균 단위가격"
   ]
  },
  {
   "cell_type": "code",
   "execution_count": null,
   "metadata": {},
   "outputs": [],
   "source": [
    "# 읍면동 별 평균 면적당 금액\n",
    "count_1902 = df5_1902.groupby('시군구',as_index=False).agg({'면적당 금액(만원/m2)':'mean'})\n",
    "# 시각화 위해 읍면동으로 sorting\n",
    "count_1902.sort_values(['시군구'], inplace=True)"
   ]
  },
  {
   "cell_type": "code",
   "execution_count": null,
   "metadata": {},
   "outputs": [],
   "source": [
    "dd = pd.DataFrame()\n",
    "dd['읍면동'] = count_1902['시군구']\n",
    "dd['19년 2월 실거래가'] = count_1902['면적당 금액(만원/m2)']"
   ]
  },
  {
   "cell_type": "code",
   "execution_count": null,
   "metadata": {},
   "outputs": [],
   "source": [
    "for idx, sigun_dict in enumerate(df32['features']):\n",
    "    name = sigun_dict['properties']['ADM_DR_NM']\n",
    "    ratio = str(list(dd.loc[(dd.읍면동 == name), '19년 2월 실거래가']))\n",
    "    ratio= ratio.replace(\"[\",\"\")\n",
    "    ratio= ratio.replace(\"]\",\"\")\n",
    "    \n",
    "    txt = f'<b><h4>{name}</h4></b>19년 2월 실거래가 : {ratio}<br>'\n",
    "    df32['features'][idx]['properties']['tooltip1']= txt"
   ]
  },
  {
   "cell_type": "code",
   "execution_count": null,
   "metadata": {},
   "outputs": [],
   "source": [
    "# 기본 틀\n",
    "m = folium.Map(\n",
    "        location=[36.5454475,127.2586156], # 지도의 정 중앙지점을 표시\n",
    "        zoom_start=10.3 # 초기 줌의 정도 설정\n",
    "    )\n",
    "map_base()"
   ]
  },
  {
   "cell_type": "code",
   "execution_count": null,
   "metadata": {},
   "outputs": [],
   "source": [
    "choropleth = folium.Choropleth(\n",
    "    geo_data=df32,\n",
    "    data = dd,\n",
    "    fill_color='Reds',\n",
    "    nan_fill_color ='#f0f0f0',\n",
    "    fill_opacity=1,\n",
    "    line_opacity = 1,\n",
    "    columns=('읍면동', '19년 2월 실거래가'),\n",
    "    key_on='feature.properties.ADM_DR_NM',\n",
    "    legend_name='19년 2월 실거래가',\n",
    "    name='실거래가 정보',\n",
    "#     bins=bins_gyungi,\n",
    "    highlight=True\n",
    ").add_to(m)\n",
    "\n",
    "\n",
    "choropleth.geojson.add_child(folium.features.GeoJsonTooltip(['tooltip1'], labels=False,style=('background-color: #eeeeee; opacity:1; color: black;')\n",
    "        ))\n",
    "\n",
    "get_line()"
   ]
  },
  {
   "cell_type": "code",
   "execution_count": null,
   "metadata": {},
   "outputs": [],
   "source": [
    "m"
   ]
  },
  {
   "cell_type": "code",
   "execution_count": null,
   "metadata": {},
   "outputs": [],
   "source": [
    "m.save('map_19년2월 단독다가구(매매)실거래가.html')"
   ]
  },
  {
   "cell_type": "markdown",
   "metadata": {},
   "source": [
    "# 3. 세종시 전세시장 현황"
   ]
  },
  {
   "cell_type": "markdown",
   "metadata": {},
   "source": [
    "## 3.1 세종시 전세가격지수동향\n",
    " - 아파트: 7.세종시_아파트(전월세)_실거래가.csv를 활용하여 세종시 아파트 전세가격에 대한 지수생성 (반복매매모형)\n",
    "   - df7: 7.세종시_아파트(전월세)_실거래가.csv\n",
    " \n",
    " - 단독다가구: 9.세종시_단독다가구(전월세)_실거래가.csv를 활용하여 세종시 단독다가구단독다가구 전세가격에 대한 지수생성 (반복매매모형)\n",
    "   - df9: 9.세종시_단독다가구(전월세)_실거래가.csv"
   ]
  },
  {
   "cell_type": "markdown",
   "metadata": {},
   "source": [
    "- 아파트에 대한 전세지수 생성"
   ]
  },
  {
   "cell_type": "code",
   "execution_count": null,
   "metadata": {},
   "outputs": [],
   "source": [
    "# 아파트 데이터 불러오기\n",
    "apt0_noown = df7.copy()\n",
    "apt0_ch = apt0_noown[apt0_noown['전월세구분'] == '전세'].reset_index(drop=True)\n",
    "\n",
    "# 불필요 변수제거 및 열이름 변경\n",
    "apt1_ch = apt0_ch.drop(['계약일','단지명','월세(만원)','건축년도'], axis=1)\n",
    "apt1_ch.rename(columns = {'계약년월':'sale_date',\n",
    "                     '시군구':'address',\n",
    "                     '본번':'bon',\n",
    "                     '부번':'bu',\n",
    "                     '전용면적(㎡)':'m_userarea',\n",
    "                     '보증금(만원)':'deposit',\n",
    "                     '층':'floor'}, inplace=True)\n",
    "\n",
    "# 필요변수 생성: 단위 면적당 가격 // 동읍면 생성\n",
    "# 단위 면적당 가격\n",
    "for i in range(apt1_ch.shape[0]):\n",
    "    apt1_ch.loc[i,'deposit'] = int(apt1_ch.loc[i,'deposit'].replace(',',''))\n",
    "apt1_ch['unit_deposit'] = apt1_ch['deposit'] / apt1_ch['m_userarea']\n",
    "\n",
    "# 동읍면 생성\n",
    "apt1_ch['dongeupmyeon'] = np.nan\n",
    "for i in range(apt1_ch.shape[0]):\n",
    "    apt1_ch.loc[i, 'dongeupmyeon'] = apt1_ch.iloc[i,1][8:]\n",
    "    \n",
    "# 본번, 부번 정리\n",
    "apt1_ch['bon'] = apt1_ch['bon'].astype('object')\n",
    "apt1_ch['bon'] = '000' + apt1_ch['bon']\n",
    "for i in range(apt1_ch.shape[0]):\n",
    "    apt1_ch.loc[i, 'bon'] = apt1_ch.loc[i, 'bon'][-4:]\n",
    "    apt1_ch.loc[i, 'bu'] = ('000'+str(apt1_ch.loc[i, 'bu']))[-4:]\n",
    "\n",
    "# 동일주택가정 변수(층그룹)\n",
    "apt1_ch['g_floor'] = ' '\n",
    "for i in range(apt1_ch.shape[0]):\n",
    "    if apt1_ch.loc[i, 'floor'] <= 5:\n",
    "        apt1_ch.loc[i, 'g_floor'] = '저층'\n",
    "    elif apt1_ch.loc[i, 'floor'] <= 20:\n",
    "        apt1_ch.loc[i, 'g_floor'] = '중층'\n",
    "    else:\n",
    "        apt1_ch.loc[i, 'g_floor'] = '고층'\n",
    "\n",
    "# 동일주택가정을 위한 matchid 코드 생성\n",
    "apt1_ch['floor'] = apt1_ch['floor'].astype('object')\n",
    "for i in range(apt1_ch.shape[0]):\n",
    "    apt1_ch.loc[i, 'matchid'] = str(apt1_ch.loc[i, 'dongeupmyeon']) + '/' + str(apt1_ch.loc[i, 'bon']) + '/' + str(apt1_ch.loc[i, 'bu']) + '/' + str(apt1_ch.loc[i, 'g_floor']) + '/' + str(apt1_ch.loc[i, 'm_userarea'])\n",
    "    \n",
    "apt1_ch.head()"
   ]
  },
  {
   "cell_type": "code",
   "execution_count": null,
   "metadata": {},
   "outputs": [],
   "source": [
    "# 거래시점에 1부터 순서대로 숫자부여 (sale_date 및 해당 경과 월수를 기입하는 데이터프레임 형성)\n",
    "nmonth = pd.DataFrame(apt1_ch['sale_date'].unique(), columns=['sale_date']).reset_index()\n",
    "nmonth = nmonth.rename(columns={'index':'nmonth'})\n",
    "nmonth['nmonth'] += 1\n",
    "nmonth.head()"
   ]
  },
  {
   "cell_type": "code",
   "execution_count": null,
   "metadata": {},
   "outputs": [],
   "source": [
    "# sale_date를 기준으로 apt1과 nmonth1을 병합\n",
    "apt2_ch = pd.merge(apt1_ch, nmonth, on='sale_date')\n",
    "apt2_ch = apt2_ch.drop(['address','dongeupmyeon'], axis=1)\n",
    "apt2_ch.rename(columns={'bon':'bon1', 'bu':'bu1'}, inplace=True)\n",
    "\n",
    "# 1회 주택 거래사례 제거\n",
    "# matchid별 거래빈도 데이터프레임 형성\n",
    "sales_freq = pd.DataFrame(apt2_ch['matchid'].value_counts()).reset_index().rename(columns = {'index':'matchid',  'matchid':'freq'})\n",
    "table_freq = pd.DataFrame(sales_freq['freq'].value_counts()) # 1회 거래된 빈도: 276\n",
    "\n",
    "# apt2와 sales_freq를 merge후 거래횟수가 1회은 matchid를 제거\n",
    "apt3_ch = pd.merge(apt2_ch, sales_freq, on='matchid')\n",
    "apt3_ch = apt3_ch[apt3_ch['freq'] > 1]\n",
    "\n",
    "# apt3를 정렬: 기준은 matchid오름차순 + nmonth오름차순\n",
    "apt3_ch = apt3_ch.sort_values(['matchid', 'nmonth'], ascending=True).reset_index(drop=True)\n",
    "apt3_ch.head(6)"
   ]
  },
  {
   "cell_type": "code",
   "execution_count": null,
   "metadata": {},
   "outputs": [],
   "source": [
    "# 반복거래쌍 구성\n",
    "\n",
    "apt4_ch = apt3_ch.copy()\n",
    "for i in range(apt4_ch.shape[0]):\n",
    "    apt4_ch.loc[i,'log_unit_deposit'] = math.log(apt4_ch.loc[i,'unit_deposit']) \n",
    "\n",
    "apt4_ch['sale_date'] = apt4_ch['sale_date'].astype('object')\n",
    "apt4_ch['lag_matchid'] = apt4_ch['matchid'].shift(1)\n",
    "apt4_ch['lag_sale_date'] = apt4_ch['sale_date'].shift(1)\n",
    "apt4_ch['lag_nmonth'] = apt4_ch['nmonth'].shift(1) \n",
    "apt4_ch['lag_log_unit_deposit'] = apt4_ch['log_unit_deposit'].shift(1) \n",
    "\n",
    "# matchid 불일치행 및 시점 동일 행 제거\n",
    "index_list = []\n",
    "for i in range(apt4_ch.shape[0]):\n",
    "    if (apt4_ch.loc[i,'matchid'] == apt4_ch.loc[i,'lag_matchid']):\n",
    "        index_list.append(i)\n",
    "        \n",
    "apt4_ch = apt4_ch.loc[index_list,:]\n",
    "apt4_ch.reset_index(drop=True, inplace=True)\n",
    "\n",
    "# 거래쌍 간 가격차이 계산\n",
    "apt4_ch['lnp_growth'] = apt4_ch['log_unit_deposit'] - apt4_ch['lag_log_unit_deposit']\n",
    "\n",
    "# 변수정리\n",
    "index_aptch = apt4_ch[['matchid', 'sale_date', 'lag_sale_date', 'lnp_growth']]\n",
    "index_aptch.rename(columns={'lag_sale_date':'pre_sale_date'}, inplace=True)\n",
    "index_aptch.head()"
   ]
  },
  {
   "cell_type": "code",
   "execution_count": null,
   "metadata": {},
   "outputs": [],
   "source": [
    "# 시점더미 생성\n",
    "d_time2 = pd.get_dummies(index_aptch['sale_date'], drop_first=True) # 2번째 거래가 일어났으면 1, 안일어났으면 0\n",
    "d_time1 = pd.get_dummies(index_aptch['pre_sale_date'], drop_first=True) # 첫번째 거래가 일어났으면 1, 안일어났으면 0\n",
    "d_time2.to_csv('d_time2.csv', index=False)\n",
    "d_time1.to_csv('d_time1.csv', index=False)\n",
    "\n",
    "d_time2 = pd.read_csv('d_time2.csv')\n",
    "d_time1 = pd.read_csv('d_time1.csv')\n",
    "d_time = d_time2 - d_time1 #2번째 거래 = 1 1번째 거래 = -1 else = 0\n",
    "\n",
    "# OLS를 위한 데이터 틀 형성\n",
    "index_aptch_rs = pd.concat([index_aptch, d_time], axis=1)\n",
    "index_aptch_rs = index_aptch_rs.drop(['matchid', 'sale_date', 'pre_sale_date'], axis=1)\n",
    "index_aptch_rs.head()"
   ]
  },
  {
   "cell_type": "code",
   "execution_count": null,
   "metadata": {
    "scrolled": true
   },
   "outputs": [],
   "source": [
    "# OLS 반복매매지수 산정\n",
    "import statsmodels.api as sm\n",
    "X = index_aptch_rs.drop('lnp_growth', axis=1)\n",
    "y = index_aptch_rs['lnp_growth']\n",
    "\n",
    "sejong_aptch_model = sm.OLS(y, X)\n",
    "results = sejong_aptch_model.fit()\n",
    "\n",
    "# OLS coefficient산정 후 nmonth와 결합\n",
    "result_sejong_aptch = pd.DataFrame(results.params, columns=['coefficients']).reset_index()\n",
    "nmonth = pd.DataFrame([i for i in range(2,49)], columns=['nmonth'])\n",
    "result_sejong_aptch = pd.concat([result_sejong_aptch, nmonth], axis=1).rename(columns={'index':'sale_date'})\n",
    "\n",
    "# 지수생성\n",
    "for i in range(result_sejong_aptch.shape[0]):\n",
    "    result_sejong_aptch.loc[i,'apt_index'] = math.exp(result_sejong_aptch.loc[i,'coefficients']) * 100\n",
    "\n",
    "result_sejong_aptch['pre_index'] = result_sejong_aptch['apt_index'].shift(1)\n",
    "result_sejong_aptch.iloc[0,4] = 100\n",
    "result_sejong_aptch['rate_aptindex'] = ((result_sejong_aptch['apt_index'] / result_sejong_aptch['pre_index']) - 1) * 100\n",
    "\n",
    "sejong_ch_apt = result_sejong_aptch[['sale_date', 'apt_index','rate_aptindex']]\n",
    "index_first = pd.DataFrame({'sale_date':[201701],\n",
    "             'apt_index':[100],\n",
    "             'rate_aptindex':[np.nan]})\n",
    "\n",
    "sejong_ch_apt = pd.concat([index_first, sejong_ch_apt]).reset_index(drop=True)\n",
    "sejong_ch_apt['sale_date'] = list(map(lambda x: str(x[2:4])+'.'+str(x[-2:]), sejong_ch_apt['sale_date'].astype('str')))\n",
    "sejong_ch_apt.head()"
   ]
  },
  {
   "cell_type": "markdown",
   "metadata": {},
   "source": [
    "- 단독다가구에 대한 매매지수 산정 (Python과 R을 활용하여 분석을 시도)"
   ]
  },
  {
   "cell_type": "code",
   "execution_count": null,
   "metadata": {},
   "outputs": [],
   "source": [
    "# 세종시 전월세 데이터의 보증금열의 ,값을 제거한 후 csv로 저장\n",
    "df9_tmp = df9.copy()\n",
    "for i in range(df9_tmp.shape[0]):\n",
    "    df9_tmp.loc[i,'보증금(만원)'] = int(df9_tmp.loc[i,'보증금(만원)'].replace(',',''))\n",
    "    \n",
    "df9_tmp['보증금(만원)'] = df9_tmp['보증금(만원)'].astype(int)\n",
    "df9_tmp.to_csv('df9_copy.csv', index=False)"
   ]
  },
  {
   "cell_type": "code",
   "execution_count": null,
   "metadata": {},
   "outputs": [],
   "source": [
    "# python jupyter 환경에서 R을 활용할 수 있도록 임시환경구성\n",
    "%load_ext rpy2.ipython"
   ]
  },
  {
   "cell_type": "code",
   "execution_count": null,
   "metadata": {},
   "outputs": [],
   "source": [
    "%%R\n",
    "\n",
    "# 필요 라이브러리 호출\n",
    "library(dplyr)\n",
    "library(stringr)\n",
    "\n",
    "# 데이터 불러오기\n",
    "dd0.noown <- read.csv(\"df9_copy.csv\")\n",
    "dd0.ch <- filter(dd0.noown,전월세구분==\"전세\")\n",
    "\n",
    "# 필요 변수 남기기 및 변수명 변경(편의상)\n",
    "dd1.ch <- dd0.ch %>%\n",
    "  select(-c(계약일,도로조건,전월세구분,월세.만원.,건축년도)) %>% \n",
    "  rename(\"sale_date\"=계약년월,\"address\"=시군구,\"m_area\"=계약면적...,\"deposit\"=보증금.만원.)\n",
    "\n",
    "# 필요 변수 추가 생성 : 단위가격, 동일주택가정 변수\n",
    "dd1.ch$unit_deposit <- dd1.ch$deposit / dd1.ch$m_area     #단위보증금 생성 : 거래보증금/전용면적\n",
    "\n",
    "# 동일주택 가정 match코드 생성 : 동읍면\n",
    "dd1.ch$matchid <- dd1.ch$address\n",
    "\n",
    "# 거래시점에 1부터 순서대로 숫자 부여\n",
    "nmonth <- unique(select(dd1.ch,sale_date))\n",
    "nmonth <- arrange(nmonth,sale_date)\n",
    "nmonth$nmonth <- c(1:48)\n",
    "\n",
    "# dd1.ch 데이터 & nmonth1 데이터 병합\n",
    "dd2.ch <- merge(dd1.ch,nmonth,key=\"sale_date\")\n",
    "dd2.ch <- select(dd2.ch,-c(address))\n",
    "\n",
    "# 1회 거래 주택 사례 제거\n",
    "sale.freq_ddch <- data.frame(table(dd2.ch$matchid))     # matchid별 거래횟수\n",
    "names(sale.freq_ddch) <- c(\"matchid\",\"freq\")\n",
    "\n",
    "table.freq_ddch <- data.frame(table(sale.freq_ddch$freq))  # 거래횟수별 빈도수 check(1회 거래:28개_99%)\n",
    "\n",
    "dd3.ch <- merge(dd2.ch,sale.freq_ddch,key=\"matchid\")      # dd2.ch데이터에 거래횟수 병합\n",
    "dd3.ch <- subset(dd3.ch,freq>1)                      # 거래횟수 1회 matchid 제거\n",
    "dd3.ch <- arrange(dd3.ch,matchid,nmonth)\n",
    "\n",
    "# 반복거래쌍 구성\n",
    "dd3.ch <- mutate(dd3.ch,\n",
    "                 log_unit_deposit=log(unit_deposit),\n",
    "                 lag_matchid=lag(matchid,1),\n",
    "                 lag_sale_date=lag(sale_date,1),\n",
    "                 lag_nmonth=lag(nmonth),\n",
    "                 lag_log_unit_deposit=lag(log_unit_deposit,1)\n",
    ")\n",
    "\n",
    "head(dd3.ch)"
   ]
  },
  {
   "cell_type": "code",
   "execution_count": null,
   "metadata": {
    "scrolled": true
   },
   "outputs": [],
   "source": [
    "%%R\n",
    "\n",
    "# matchid 불일치 행 & 시점 동일 행 제거\n",
    "dd4.ch <- filter(dd3.ch, matchid==lag_matchid)                                \n",
    "dd4.ch$lnp_growth <- dd4.ch$log_unit_deposit - dd4.ch$lag_log_unit_deposit    # 거래쌍 간 가격차이 계산\n",
    "\n",
    "# 변수 정리\n",
    "index.ddch <- select(dd4.ch, matchid, sale_date, lag_sale_date, lnp_growth)\n",
    "names(index.ddch) <- c(\"matchid\",\"sale_date\",\"pre_sale_date\",\"lnp_growth\")\n",
    "\n",
    "# 시점더미 생성\n",
    "f2.month <- factor(index.ddch$sale_date)       #2번째 거래 = 1 else = 0\n",
    "f1.month <- factor(index.ddch$pre_sale_date)   #1번째 거래 = 1 else = 0\n",
    "d_time2 <- model.matrix(~f2.month)\n",
    "d_time1 <- model.matrix(~f1.month)\n",
    "d_time <- d_time2 - d_time1                  #2번째 거래 = 1 1번째 거래 = -1 else = 0\n",
    "d_time <- data.frame(d_time)\n",
    "\n",
    "index.ddch_rs <- cbind(index.ddch, d_time)\n",
    "index.ddch_rs <- select(index.ddch_rs, -c(matchid, sale_date, pre_sale_date, X.Intercept.))    # 종속변수(가격변동), 시점더미만 남기기\n",
    "\n",
    "head(index.ddch_rs)"
   ]
  },
  {
   "cell_type": "code",
   "execution_count": null,
   "metadata": {},
   "outputs": [],
   "source": [
    "%%R\n",
    "\n",
    "# OLS 반복매매지수 산정 \n",
    "sejong.ddch_model <- lm(lnp_growth~.-1, data=index.ddch_rs)\n",
    "result_sejong.ddch <- data.frame(sejong.ddch_model[1])\n",
    "\n",
    "#결과\n",
    "result_sejong.ddch$nmonth <- c(2:48)\n",
    "result_sejong.ddch <- merge(result_sejong.ddch,nmonth,key=\"nmonth\")\n",
    "result_sejong.ddch$dd.index <- exp(result_sejong.ddch$coefficients)*100    #월별 지수\n",
    "result_sejong.ddch$pre.index <- lag(result_sejong.ddch$dd.index)           #월별 가격변동률 산정\n",
    "result_sejong.ddch[1,5] <- 100\n",
    "result_sejong.ddch$rate.ddindex <- ((result_sejong.ddch$dd.index/result_sejong.ddch$pre.index)-1)*100\n",
    "\n",
    "index.first <- c(201701,100,NA)   #첫 번째 시점 추가(2017.01)\n",
    "sejong.ch_dd <- result_sejong.ddch[,c(\"sale_date\",\"dd.index\",\"rate.ddindex\")]\n",
    "sejong.ch_dd <- rbind(index.first,sejong.ch_dd)\n",
    "write.csv(sejong.ch_dd, '단독다가구_전세지수.csv')\n",
    "head(sejong.ch_dd)"
   ]
  },
  {
   "cell_type": "code",
   "execution_count": null,
   "metadata": {
    "scrolled": true
   },
   "outputs": [],
   "source": [
    "# python에서 해당 R에서 생성한 자료를 불러오기 (Plotly에서 시각화 위함)\n",
    "sejong_ch_dd = pd.read_csv('단독다가구_전세지수.csv').iloc[:,1:]\n",
    "sejong_ch_dd['sale_date'] = list(map(lambda x: str(x[2:4])+'.'+str(x[-2:]), sejong_ch_dd['sale_date'].astype('str')))\n",
    "sejong_ch_dd.head()"
   ]
  },
  {
   "cell_type": "markdown",
   "metadata": {},
   "source": [
    "- 준공실적과 함께 시각화하기위하여 준공실적을 간단하게 전처리"
   ]
  },
  {
   "cell_type": "code",
   "execution_count": null,
   "metadata": {},
   "outputs": [],
   "source": [
    "# 준공실적의 sheet만 불러온 후 필요한 열만 선별 및 세종시만 필터링\n",
    "junggong = pd.read_excel('인허가&준공실적.xlsx', sheet_name='준공실적').transpose().reset_index()\n",
    "junggong.columns = junggong.iloc[0,:]\n",
    "junggong = junggong.iloc[1:,:]\n",
    "junggong.rename(columns={'지 역':'년월'}, inplace=True)\n",
    "junggong = junggong[['년월', '세종']]\n",
    "\n",
    "# 준공실적의 년월의 형태를 시각화하기 좋게 변경\n",
    "junggong['년월'] = list(map(lambda x: x.replace('년 ','.').replace('월','')[2:], junggong['년월']))\n",
    "junggong.head()"
   ]
  },
  {
   "cell_type": "markdown",
   "metadata": {},
   "source": [
    "- 시각화"
   ]
  },
  {
   "cell_type": "code",
   "execution_count": null,
   "metadata": {},
   "outputs": [],
   "source": [
    "# 시각화\n",
    "\n",
    "sejong_ch_dd\n",
    "sejong_ch_apt\n",
    "\n",
    "fig = go.Figure(data=[\n",
    "   go.Bar(x = junggong.년월, y = junggong.loc[:,'세종'], name= '준공실적(우)', marker_color='black', opacity=0.1, yaxis='y1'),\n",
    "   go.Scatter(x = sejong_ch_apt.sale_date, y = sejong_ch_apt.loc[:,'apt_index'], name= '아파트(좌)', yaxis='y2', line_color='green'),\n",
    "   go.Scatter(x = sejong_ch_dd.sale_date, y = sejong_ch_dd.loc[:,'dd.index'], name= '단독다가구(좌)', yaxis='y2', line_color='orange')])\n",
    "    \n",
    "fig.update_layout(\n",
    "    title=\"세종시 전세가격지수\",\n",
    "    xaxis_title=\"\",\n",
    "    yaxis_title=\"\",\n",
    "    legend_title=''\n",
    "    )\n",
    "\n",
    "fig.update_layout(\n",
    "    title={\n",
    "        'text': \"세종시 전세가격지수\",\n",
    "        'y':0.9,\n",
    "        'x':0.5,\n",
    "        'xanchor': 'center',\n",
    "        'yanchor': 'top'\n",
    "    },\n",
    "    yaxis1=dict(side='right', \n",
    "                ticksuffix=\"건\",\n",
    "                tickformat=',',\n",
    "                dtick=2000,\n",
    "                range=[0,10000]),\n",
    "    \n",
    "    yaxis2=dict(side='left', \n",
    "                tickformat = 'digit', \n",
    "                overlaying='y',\n",
    "               dtick=20,\n",
    "               range=[60,200]),\n",
    "    legend=dict(traceorder='reversed', x=1.1, y=1))\n",
    "\n",
    "\n",
    "fig.update_xaxes(tickangle = 315,\n",
    "                dtick=2)\n",
    "\n",
    "\n",
    "\n",
    "\n",
    "fig.show()"
   ]
  },
  {
   "cell_type": "markdown",
   "metadata": {},
   "source": [
    "## 3.2 전세 거래 동향\n",
    "\n",
    "### 3.2.1 아파트 전세 거래량"
   ]
  },
  {
   "cell_type": "code",
   "execution_count": null,
   "metadata": {},
   "outputs": [],
   "source": [
    "change(df7)\n",
    "# 전세 월세 분리\n",
    "df7_all= df7[df7['전월세구분']=='전세']\n",
    "df7_all.reset_index(drop=True, inplace=True)\n",
    "df7_month= df7[df7['전월세구분']=='월세']\n",
    "df7_month.reset_index(drop=True, inplace=True)"
   ]
  },
  {
   "cell_type": "code",
   "execution_count": null,
   "metadata": {},
   "outputs": [],
   "source": [
    "count_df7_all = df7_all.groupby('계약년월',as_index=False).agg({'전월세구분':'count'})\n",
    "count_df7_all['계약년월'] =count_df7_all['계약년월'].astype('str')\n",
    "count_df7_all['계약년월'] =count_df7_all['계약년월'].apply(lambda x: x[2:][:2]+'.'+x[2:][2:])"
   ]
  },
  {
   "cell_type": "code",
   "execution_count": null,
   "metadata": {},
   "outputs": [],
   "source": [
    "fig = go.Figure()\n",
    "\n",
    "fig.add_trace(\n",
    "    go.Bar(x=count_df7_all['계약년월'],y=count_df7_all['전월세구분'], name= '거래량(좌)', yaxis='y1'))\n",
    "fig.update_layout(\n",
    "    title={\n",
    "        'text': \"세종시 아파트 전세 거래량\",\n",
    "        'y':0.9,\n",
    "        'x':0.5,\n",
    "        'xanchor': 'center',\n",
    "        'yanchor': 'top'\n",
    "    },\n",
    "    yaxis1=dict(side='left', dtick=500,range=[0,2500]),    \n",
    "    legend=dict(traceorder='reversed', x=1.05, y=1),\n",
    "    xaxis_title=\"계약년월\",\n",
    "    yaxis_title=\"건 수(건)\",yaxis_tickformat = ',')\n",
    "\n",
    "fig.update_xaxes(tickangle = 315, dtick=2)\n",
    "\n",
    "fig.show()"
   ]
  },
  {
   "cell_type": "markdown",
   "metadata": {},
   "source": [
    "### 3.2.2 읍면동별 연도별 아파트 전세 거래량"
   ]
  },
  {
   "cell_type": "code",
   "execution_count": null,
   "metadata": {},
   "outputs": [],
   "source": [
    "# 연도별 분리\n",
    "df7_2017 = df7_all[df7_all['계약년월'].apply(lambda x:  x<201801)]\n",
    "df7_2018 = df7_all[df7_all['계약년월'].apply(lambda x:  201712<x<201901)]\n",
    "df7_2019 = df7_all[df7_all['계약년월'].apply(lambda x:  201812<x<202001)]\n",
    "df7_2020 = df7_all[df7_all['계약년월'].apply(lambda x:  201912<x)]\n",
    "\n",
    "count_2017 = df7_2017.groupby('시군구',as_index=False).agg({'단지명':'count'})\n",
    "count_2018 = df7_2018.groupby('시군구',as_index=False).agg({'단지명':'count'})\n",
    "count_2019 = df7_2019.groupby('시군구',as_index=False).agg({'단지명':'count'})\n",
    "count_2020 = df7_2020.groupby('시군구',as_index=False).agg({'단지명':'count'})"
   ]
  },
  {
   "cell_type": "code",
   "execution_count": null,
   "metadata": {},
   "outputs": [],
   "source": [
    "diff1 = set(dong_list) - set(count_2017['시군구'])\n",
    "print(\"17년 거래 0인 지역\" ,diff1)\n",
    "diff2 = set(dong_list) - set(count_2018['시군구'])\n",
    "print(\"18년 거래 0인 지역\" ,diff2)\n",
    "diff3 = set(dong_list) - set(count_2019['시군구'])\n",
    "print(\"19년 거래 0인 지역\" ,diff3)\n",
    "diff4 = set(dong_list) - set(count_2020['시군구'])\n",
    "print(\"20년 거래 0인 지역\" ,diff4)\n",
    "\n",
    "for i in diff1:\n",
    "    count_2017 = count_2017.append({'시군구' :f'{i}', '단지명':0}, ignore_index=True)\n",
    "for i in diff2:\n",
    "    count_2018 = count_2018.append({'시군구' :f'{i}', '단지명':0}, ignore_index=True)\n",
    "for i in diff3:\n",
    "    count_2019 = count_2019.append({'시군구' :f'{i}', '단지명':0}, ignore_index=True)\n",
    "for i in diff4:\n",
    "    count_2020 = count_2020.append({'시군구' :f'{i}', '단지명':0}, ignore_index=True)\n",
    "    \n",
    "# 시각화 위해 시군구 가나다 순 정렬# 시각화 위해 시군구 가나다 순 정렬\n",
    "count_2017.sort_values(['시군구'], inplace=True)\n",
    "count_2018.sort_values(['시군구'], inplace=True)\n",
    "count_2019.sort_values(['시군구'], inplace=True)\n",
    "count_2020.sort_values(['시군구'], inplace=True)\n",
    "count_2017.reset_index(drop=True, inplace=True)\n",
    "count_2018.reset_index(drop=True, inplace=True)\n",
    "count_2019.reset_index(drop=True, inplace=True)\n",
    "count_2020.reset_index(drop=True, inplace=True)"
   ]
  },
  {
   "cell_type": "code",
   "execution_count": null,
   "metadata": {},
   "outputs": [],
   "source": [
    "import plotly.graph_objects as go\n",
    "region=list(count_2017['시군구'])\n",
    "fig = go.Figure(data=[\n",
    "    go.Bar(name='2017년', x=region, y=[count_2017['단지명'][0],count_2017['단지명'][1], count_2017['단지명'][2], count_2017['단지명'][3],count_2017['단지명'][4],count_2017['단지명'][5], count_2017['단지명'][6], count_2017['단지명'][7],count_2017['단지명'][8],count_2017['단지명'][9], count_2017['단지명'][10], count_2017['단지명'][11],count_2017['단지명'][12],count_2017['단지명'][13], count_2017['단지명'][14], count_2017['단지명'][15],count_2017['단지명'][16],count_2017['단지명'][17], count_2017['단지명'][18]]),\n",
    "    go.Bar(name='2018년', x=region, y=[count_2018['단지명'][0],count_2018['단지명'][1], count_2018['단지명'][2], count_2018['단지명'][3],count_2018['단지명'][4],count_2018['단지명'][5], count_2018['단지명'][6], count_2018['단지명'][7],count_2018['단지명'][8],count_2018['단지명'][9], count_2018['단지명'][10], count_2018['단지명'][11],count_2018['단지명'][12],count_2018['단지명'][13], count_2018['단지명'][14], count_2018['단지명'][15],count_2018['단지명'][16],count_2018['단지명'][17], count_2018['단지명'][18]]),\n",
    "    go.Bar(name='2019년', x=region, y=[count_2019['단지명'][0],count_2019['단지명'][1], count_2019['단지명'][2], count_2019['단지명'][3],count_2019['단지명'][4],count_2019['단지명'][5], count_2019['단지명'][6], count_2019['단지명'][7],count_2019['단지명'][8],count_2019['단지명'][9], count_2019['단지명'][10], count_2019['단지명'][11],count_2019['단지명'][12],count_2019['단지명'][13], count_2019['단지명'][14], count_2019['단지명'][15],count_2019['단지명'][16],count_2019['단지명'][17], count_2019['단지명'][18]]),\n",
    "    go.Bar(name='2020년', x=region, y=[count_2020['단지명'][0],count_2020['단지명'][1], count_2020['단지명'][2], count_2020['단지명'][3],count_2020['단지명'][4],count_2020['단지명'][5], count_2020['단지명'][6], count_2020['단지명'][7],count_2020['단지명'][8],count_2020['단지명'][9], count_2020['단지명'][10], count_2020['단지명'][11],count_2020['단지명'][12],count_2020['단지명'][13], count_2020['단지명'][14], count_2020['단지명'][15],count_2020['단지명'][16],count_2020['단지명'][17], count_2020['단지명'][18]]),\n",
    "])\n",
    "# Change the bar mode\n",
    "fig.update_layout(barmode='group',  title='읍면동별 아파트 전세 거래량 분포', \n",
    "                 xaxis_title=\"읍면동\",yaxis_title=\"거래량 (건)\",yaxis_tickformat = ','\n",
    "                 ,yaxis1=dict(side='left', dtick=400,range=[0,2000]))\n",
    "\n",
    "fig.show()"
   ]
  },
  {
   "cell_type": "markdown",
   "metadata": {},
   "source": [
    "### 3.2.3 단독다가구 전세 거래량"
   ]
  },
  {
   "cell_type": "code",
   "execution_count": null,
   "metadata": {},
   "outputs": [],
   "source": [
    "change(df9)\n",
    "# 전세 월세 분리\n",
    "df9_all= df9[df9['전월세구분']=='전세']\n",
    "df9_all.reset_index(drop=True, inplace=True)\n",
    "df9_month= df9[df9['전월세구분']=='월세']\n",
    "df9_month.reset_index(drop=True, inplace=True)"
   ]
  },
  {
   "cell_type": "code",
   "execution_count": null,
   "metadata": {},
   "outputs": [],
   "source": [
    "count_df9_all = df9_all.groupby('계약년월',as_index=False).agg({'계약일':'count'})\n",
    "count_df9_all['계약년월'] =count_df9_all['계약년월'].astype('str')\n",
    "count_df9_all['계약년월'] =count_df9_all['계약년월'].apply(lambda x: x[2:][:2]+'.'+x[2:][2:])"
   ]
  },
  {
   "cell_type": "code",
   "execution_count": null,
   "metadata": {},
   "outputs": [],
   "source": [
    "fig = go.Figure()\n",
    "\n",
    "fig.add_trace(\n",
    "    go.Bar(x=count_df9_all['계약년월'],y=count_df9_all['계약일'], name= '거래량(좌)', yaxis='y1'))\n",
    "fig.update_layout(\n",
    "    title={\n",
    "        'text': \"세종시 단독다가구 전세 거래량\",\n",
    "        'y':0.9,\n",
    "        'x':0.5,\n",
    "        'xanchor': 'center',\n",
    "        'yanchor': 'top'\n",
    "    },\n",
    "    yaxis1=dict(side='left', dtick=500,range=[0,2500]),    \n",
    "    legend=dict(traceorder='reversed', x=1.05, y=1),\n",
    "    xaxis_title=\"계약년월\",\n",
    "    yaxis_title=\"건 수(건)\",yaxis_tickformat = ',')\n",
    "\n",
    "fig.update_xaxes(tickangle = 315, dtick=2)\n",
    "\n",
    "fig.show()"
   ]
  },
  {
   "cell_type": "markdown",
   "metadata": {},
   "source": [
    "### 3.2.4 읍면동별 연도별 단독다가구 전세 거래량"
   ]
  },
  {
   "cell_type": "code",
   "execution_count": null,
   "metadata": {},
   "outputs": [],
   "source": [
    "# 연도별 분리\n",
    "df9_2017 = df9_all[df9_all['계약년월'].apply(lambda x:  x<201801)]\n",
    "df9_2018 = df9_all[df9_all['계약년월'].apply(lambda x:  201712<x<201901)]\n",
    "df9_2019 = df9_all[df9_all['계약년월'].apply(lambda x:  201812<x<202001)]\n",
    "df9_2020 = df9_all[df9_all['계약년월'].apply(lambda x:  201912<x)]\n",
    "\n",
    "count_2017 = df9_2017.groupby('시군구',as_index=False).agg({'전월세구분':'count'})\n",
    "count_2018 = df9_2018.groupby('시군구',as_index=False).agg({'전월세구분':'count'})\n",
    "count_2019 = df9_2019.groupby('시군구',as_index=False).agg({'전월세구분':'count'})\n",
    "count_2020 = df9_2020.groupby('시군구',as_index=False).agg({'전월세구분':'count'})"
   ]
  },
  {
   "cell_type": "code",
   "execution_count": null,
   "metadata": {},
   "outputs": [],
   "source": [
    "diff1 = set(dong_list) - set(count_2017['시군구'])\n",
    "print(\"17년 거래 0인 지역\" ,diff1)\n",
    "diff2 = set(dong_list) - set(count_2018['시군구'])\n",
    "print(\"18년 거래 0인 지역\" ,diff2)\n",
    "diff3 = set(dong_list) - set(count_2019['시군구'])\n",
    "print(\"19년 거래 0인 지역\" ,diff3)\n",
    "diff4 = set(dong_list) - set(count_2020['시군구'])\n",
    "print(\"20년 거래 0인 지역\" ,diff4)\n",
    "\n",
    "for i in diff1:\n",
    "    count_2017 = count_2017.append({'시군구' :f'{i}', '전월세구분':0}, ignore_index=True)\n",
    "for i in diff2:\n",
    "    count_2018 = count_2018.append({'시군구' :f'{i}', '전월세구분':0}, ignore_index=True)\n",
    "for i in diff3:\n",
    "    count_2019 = count_2019.append({'시군구' :f'{i}', '전월세구분':0}, ignore_index=True)\n",
    "for i in diff4:\n",
    "    count_2020 = count_2020.append({'시군구' :f'{i}', '전월세구분':0}, ignore_index=True)\n",
    "    \n",
    "# 시각화 위해 시군구 가나다 순 정렬# 시각화 위해 시군구 가나다 순 정렬\n",
    "count_2017.sort_values(['시군구'], inplace=True)\n",
    "count_2018.sort_values(['시군구'], inplace=True)\n",
    "count_2019.sort_values(['시군구'], inplace=True)\n",
    "count_2020.sort_values(['시군구'], inplace=True)\n",
    "count_2017.reset_index(drop=True, inplace=True)\n",
    "count_2018.reset_index(drop=True, inplace=True)\n",
    "count_2019.reset_index(drop=True, inplace=True)\n",
    "count_2020.reset_index(drop=True, inplace=True)"
   ]
  },
  {
   "cell_type": "code",
   "execution_count": null,
   "metadata": {},
   "outputs": [],
   "source": [
    "import plotly.graph_objects as go\n",
    "region=list(count_2017['시군구'])\n",
    "fig = go.Figure(data=[\n",
    "    go.Bar(name='2017년', x=region, y=[count_2017['전월세구분'][0],count_2017['전월세구분'][1], count_2017['전월세구분'][2], count_2017['전월세구분'][3],count_2017['전월세구분'][4],count_2017['전월세구분'][5], count_2017['전월세구분'][6], count_2017['전월세구분'][7],count_2017['전월세구분'][8],count_2017['전월세구분'][9], count_2017['전월세구분'][10], count_2017['전월세구분'][11],count_2017['전월세구분'][12],count_2017['전월세구분'][13], count_2017['전월세구분'][14], count_2017['전월세구분'][15],count_2017['전월세구분'][16],count_2017['전월세구분'][17], count_2017['전월세구분'][18]]),\n",
    "    go.Bar(name='2018년', x=region, y=[count_2018['전월세구분'][0],count_2018['전월세구분'][1], count_2018['전월세구분'][2], count_2018['전월세구분'][3],count_2018['전월세구분'][4],count_2018['전월세구분'][5], count_2018['전월세구분'][6], count_2018['전월세구분'][7],count_2018['전월세구분'][8],count_2018['전월세구분'][9], count_2018['전월세구분'][10], count_2018['전월세구분'][11],count_2018['전월세구분'][12],count_2018['전월세구분'][13], count_2018['전월세구분'][14], count_2018['전월세구분'][15],count_2018['전월세구분'][16],count_2018['전월세구분'][17], count_2018['전월세구분'][18]]),\n",
    "    go.Bar(name='2019년', x=region, y=[count_2019['전월세구분'][0],count_2019['전월세구분'][1], count_2019['전월세구분'][2], count_2019['전월세구분'][3],count_2019['전월세구분'][4],count_2019['전월세구분'][5], count_2019['전월세구분'][6], count_2019['전월세구분'][7],count_2019['전월세구분'][8],count_2019['전월세구분'][9], count_2019['전월세구분'][10], count_2019['전월세구분'][11],count_2019['전월세구분'][12],count_2019['전월세구분'][13], count_2019['전월세구분'][14], count_2019['전월세구분'][15],count_2019['전월세구분'][16],count_2019['전월세구분'][17], count_2019['전월세구분'][18]]),\n",
    "    go.Bar(name='2020년', x=region, y=[count_2020['전월세구분'][0],count_2020['전월세구분'][1], count_2020['전월세구분'][2], count_2020['전월세구분'][3],count_2020['전월세구분'][4],count_2020['전월세구분'][5], count_2020['전월세구분'][6], count_2020['전월세구분'][7],count_2020['전월세구분'][8],count_2020['전월세구분'][9], count_2020['전월세구분'][10], count_2020['전월세구분'][11],count_2020['전월세구분'][12],count_2020['전월세구분'][13], count_2020['전월세구분'][14], count_2020['전월세구분'][15],count_2020['전월세구분'][16],count_2020['전월세구분'][17], count_2020['전월세구분'][18]]),\n",
    "])\n",
    "# Change the bar mode\n",
    "fig.update_layout(barmode='group',  title='읍면동별 단독다가구 전세 거래량 분포', \n",
    "                 xaxis_title=\"읍면동\",yaxis_title=\"거래량 (건)\",yaxis_tickformat = ','\n",
    "                 ,yaxis1=dict(side='left', dtick=400,range=[0,2000]))\n",
    "\n",
    "fig.show()"
   ]
  },
  {
   "cell_type": "markdown",
   "metadata": {},
   "source": [
    "## 3.3 아파트 전세 변화율 시각화\n",
    "\n",
    "- df7_all: 세종시_아파트(전세)_실거래가.csv'\n",
    "- 2018년 11월"
   ]
  },
  {
   "cell_type": "markdown",
   "metadata": {},
   "source": [
    "- 아파트(전세)"
   ]
  },
  {
   "cell_type": "code",
   "execution_count": null,
   "metadata": {},
   "outputs": [],
   "source": [
    "# 면적 당 보증금 변수 생성변수 생성\n",
    "df7_all['보증금(만원)'] = df7_all['보증금(만원)'].apply(lambda x: int(x.replace(\",\",\"\")))\n",
    "df7_all['면적당 금액(만원/m2)'] = df7_all['보증금(만원)']  /df7_all['전용면적(㎡)']"
   ]
  },
  {
   "cell_type": "code",
   "execution_count": null,
   "metadata": {},
   "outputs": [],
   "source": [
    "# 날싸 선정\n",
    "df7_1810 = df7_all[df7_all['계약년월'].apply(lambda x:  x==201810)]\n",
    "df7_1811 = df7_all[df7_all['계약년월'].apply(lambda x:  x==201811)]\n",
    "\n",
    "# 읍면동 별 평균 면적당 금액\n",
    "count_1810 = df7_1810.groupby('시군구',as_index=False).agg({'면적당 금액(만원/m2)':'mean'})\n",
    "count_1811 = df7_1811.groupby('시군구',as_index=False).agg({'면적당 금액(만원/m2)':'mean'})\n",
    "# 시각화 위해 읍면동으로 sorting\n",
    "count_1810.sort_values(['시군구'], inplace=True)\n",
    "count_1810.reset_index(drop=True, inplace=True)\n",
    "count_1811.sort_values(['시군구'], inplace=True)\n",
    "count_1811.reset_index(drop=True, inplace=True)"
   ]
  },
  {
   "cell_type": "code",
   "execution_count": null,
   "metadata": {},
   "outputs": [],
   "source": [
    "# 해당 시기에 실거래가 없는 경우 0원 부여\n",
    "diff1 = set(dong_list) - set(count_1810['시군구'])\n",
    "print(\"18년 10월 거래 0인 지역\" ,diff1)\n",
    "diff2 = set(dong_list) - set(count_1811['시군구'])\n",
    "print(\"18년 11월 거래 0인 지역\" ,diff2)\n",
    "\n",
    "for i in diff1:\n",
    "    count_1810 = count_1810.append({'시군구' :f'{i}', '면적당 금액(만원/m2)':0}, ignore_index=True)\n",
    "for i in diff2:\n",
    "    count_1811 = count_1811.append({'시군구' :f'{i}', '면적당 금액(만원/m2)':0}, ignore_index=True)\n",
    "    \n",
    "# 18년 10월 대비 11월 변화율 변수 생성 \n",
    "count_1811['변화율'] = (count_1811['면적당 금액(만원/m2)'] - count_1810['면적당 금액(만원/m2)']) / count_1810['면적당 금액(만원/m2)']"
   ]
  },
  {
   "cell_type": "code",
   "execution_count": null,
   "metadata": {},
   "outputs": [],
   "source": [
    "dd = pd.DataFrame()\n",
    "dd['읍면동'] = count_1811['시군구']\n",
    "dd['18년 11월 변화율'] = count_1811['변화율']\n",
    "dd"
   ]
  },
  {
   "cell_type": "code",
   "execution_count": null,
   "metadata": {},
   "outputs": [],
   "source": [
    "# 지도에 tolltip위한 정보 추가\n",
    "for idx, sigun_dict in enumerate(df32['features']):\n",
    "    name = sigun_dict['properties']['ADM_DR_NM']\n",
    "    ratio = str(list(dd.loc[(dd.읍면동 == name), '18년 11월 변화율']))\n",
    "    ratio= ratio.replace(\"[\",\"\")\n",
    "    ratio= ratio.replace(\"]\",\"\")\n",
    "    txt = f'<b><h4>{name}</h4></b>18년 11월 변화율 : {ratio}<br>'\n",
    "    df32['features'][idx]['properties']['tooltip1']= txt"
   ]
  },
  {
   "cell_type": "code",
   "execution_count": null,
   "metadata": {},
   "outputs": [],
   "source": [
    "# 지도 실행 코드\n",
    "m = folium.Map(\n",
    "        location=[36.5454475,127.2586156], # 지도의 정 중앙지점을 표시\n",
    "        zoom_start=10.3 # 초기 줌의 정도 설정\n",
    "    )\n",
    "map_base()"
   ]
  },
  {
   "cell_type": "code",
   "execution_count": null,
   "metadata": {},
   "outputs": [],
   "source": [
    "# 변화율 별로 지도 시각화 코드\n",
    "choropleth = folium.Choropleth(\n",
    "    geo_data=df32,\n",
    "    data = dd,\n",
    "    fill_color='Reds',\n",
    "    nan_fill_color ='#f0f0f0',\n",
    "    fill_opacity=1,\n",
    "    line_opacity = 1,\n",
    "    columns=('읍면동', '18년 11월 변화율'),\n",
    "    key_on='feature.properties.ADM_DR_NM',\n",
    "    legend_name='18년 11월 변화율',\n",
    "    name='실거래가 정보',\n",
    "#     bins=bins_gyungi,\n",
    "    highlight=True\n",
    ").add_to(m)\n",
    "\n",
    "\n",
    "choropleth.geojson.add_child(folium.features.GeoJsonTooltip(['tooltip1'], labels=False,style=('background-color: #eeeeee; opacity:1; color: black;')\n",
    "        ))\n",
    "\n",
    "get_line()  # 행복동 표시"
   ]
  },
  {
   "cell_type": "code",
   "execution_count": null,
   "metadata": {},
   "outputs": [],
   "source": [
    "m"
   ]
  },
  {
   "cell_type": "code",
   "execution_count": null,
   "metadata": {},
   "outputs": [],
   "source": [
    "# 지도로 저장 \n",
    "m.save('map_18년 11월 아파트(전세)_변화율_실거래가.html')"
   ]
  },
  {
   "cell_type": "markdown",
   "metadata": {},
   "source": [
    "## 3.4 아파트(전세)_18년 11월 평균 단위가격"
   ]
  },
  {
   "cell_type": "code",
   "execution_count": null,
   "metadata": {},
   "outputs": [],
   "source": [
    "df7_1811 = df7_all[df7_all['계약년월'].apply(lambda x:  x==201811)]"
   ]
  },
  {
   "cell_type": "code",
   "execution_count": null,
   "metadata": {},
   "outputs": [],
   "source": [
    "# 읍면동 별 평균 면적당 금액\n",
    "count_1811 = df7_1811.groupby('시군구',as_index=False).agg({'면적당 금액(만원/m2)':'mean'})\n",
    "# 시각화 위해 읍면동으로 sorting\n",
    "count_1811.sort_values(['시군구'], inplace=True)"
   ]
  },
  {
   "cell_type": "code",
   "execution_count": null,
   "metadata": {},
   "outputs": [],
   "source": [
    "dd = pd.DataFrame()\n",
    "dd['읍면동'] = count_1811['시군구']\n",
    "dd['18년 11월 실거래가'] = count_1811['면적당 금액(만원/m2)']"
   ]
  },
  {
   "cell_type": "code",
   "execution_count": null,
   "metadata": {},
   "outputs": [],
   "source": [
    "for idx, sigun_dict in enumerate(df32['features']):\n",
    "    name = sigun_dict['properties']['ADM_DR_NM']\n",
    "    ratio = str(list(dd.loc[(dd.읍면동 == name), '18년 11월 실거래가']))\n",
    "    ratio= ratio.replace(\"[\",\"\")\n",
    "    ratio= ratio.replace(\"]\",\"\")\n",
    "    \n",
    "    txt = f'<b><h4>{name}</h4></b>18년 11월 실거래가 : {ratio}<br>'\n",
    "    df32['features'][idx]['properties']['tooltip1']= txt"
   ]
  },
  {
   "cell_type": "code",
   "execution_count": null,
   "metadata": {},
   "outputs": [],
   "source": [
    "# 기본 틀\n",
    "m = folium.Map(\n",
    "        location=[36.5454475,127.2586156], # 지도의 정 중앙지점을 표시\n",
    "        zoom_start=10.3 # 초기 줌의 정도 설정\n",
    "    )\n",
    "map_base()"
   ]
  },
  {
   "cell_type": "code",
   "execution_count": null,
   "metadata": {},
   "outputs": [],
   "source": [
    "choropleth = folium.Choropleth(\n",
    "    geo_data=df32,\n",
    "    data = dd,\n",
    "    fill_color='Reds',\n",
    "    nan_fill_color ='#f0f0f0',\n",
    "    fill_opacity=1,\n",
    "    line_opacity = 1,\n",
    "    columns=('읍면동', '18년 11월 실거래가'),\n",
    "    key_on='feature.properties.ADM_DR_NM',\n",
    "    legend_name='18년 11월 실거래가',\n",
    "    name='실거래가 정보',\n",
    "#     bins=bins_gyungi,\n",
    "    highlight=True\n",
    ").add_to(m)\n",
    "\n",
    "\n",
    "choropleth.geojson.add_child(folium.features.GeoJsonTooltip(['tooltip1'], labels=False,style=('background-color: #eeeeee; opacity:1; color: black;')\n",
    "        ))\n",
    "\n",
    "get_line()"
   ]
  },
  {
   "cell_type": "code",
   "execution_count": null,
   "metadata": {},
   "outputs": [],
   "source": [
    "m"
   ]
  },
  {
   "cell_type": "code",
   "execution_count": null,
   "metadata": {},
   "outputs": [],
   "source": [
    "# 지도로 저장 \n",
    "m.save('map_18년 11월 아파트(전세)_평균 단위가격_실거래가.html')"
   ]
  },
  {
   "cell_type": "markdown",
   "metadata": {},
   "source": [
    "## 3.5 단독다가구(전세) 매매 변화율 시각화\n",
    "\n",
    "- df9_all: 세종시_단독다가구(전세)_실거래가.csv'\n",
    "- 2017년 12월"
   ]
  },
  {
   "cell_type": "code",
   "execution_count": null,
   "metadata": {},
   "outputs": [],
   "source": [
    "# 면적 당 보증금 변수 생성변수 생성\n",
    "df9_all['보증금(만원)'] = df9_all['보증금(만원)'].apply(lambda x: int(x.replace(\",\",\"\")))\n",
    "df9_all['면적당 금액(만원/m2)'] = df9_all['보증금(만원)']  /df9_all['계약면적(㎡)']"
   ]
  },
  {
   "cell_type": "code",
   "execution_count": null,
   "metadata": {},
   "outputs": [],
   "source": [
    "# 날싸 선정\n",
    "df9_1711 = df9_all[df9_all['계약년월'].apply(lambda x:  x==201711)]\n",
    "df9_1712 = df9_all[df9_all['계약년월'].apply(lambda x:  x==201712)]\n",
    "\n",
    "# 읍면동 별 평균 면적당 금액\n",
    "count_1711 = df9_1711.groupby('시군구',as_index=False).agg({'면적당 금액(만원/m2)':'mean'})\n",
    "count_1712 = df9_1712.groupby('시군구',as_index=False).agg({'면적당 금액(만원/m2)':'mean'})\n",
    "# 시각화 위해 읍면동으로 sorting\n",
    "count_1711.sort_values(['시군구'], inplace=True)\n",
    "count_1711.reset_index(drop=True, inplace=True)\n",
    "count_1712.sort_values(['시군구'], inplace=True)\n",
    "count_1712.reset_index(drop=True, inplace=True)"
   ]
  },
  {
   "cell_type": "code",
   "execution_count": null,
   "metadata": {},
   "outputs": [],
   "source": [
    "# 해당 시기에 실거래가 없는 경우 0원 부여\n",
    "diff1 = set(dong_list) - set(count_1711['시군구'])\n",
    "print(\"17년 11월 거래 0인 지역\" ,diff1)\n",
    "diff2 = set(dong_list) - set(count_1712['시군구'])\n",
    "print(\"17년 12월 거래 0인 지역\" ,diff2)\n",
    "\n",
    "for i in diff1:\n",
    "    count_1711 = count_1711.append({'시군구' :f'{i}', '면적당 금액(만원/m2)':0}, ignore_index=True)\n",
    "for i in diff2:\n",
    "    count_1712 = count_1712.append({'시군구' :f'{i}', '면적당 금액(만원/m2)':0}, ignore_index=True)\n",
    "    \n",
    "# 17년 11월 대비 12월 변화율 변수 생성 \n",
    "count_1712['변화율'] = (count_1712['면적당 금액(만원/m2)'] - count_1711['면적당 금액(만원/m2)']) / count_1711['면적당 금액(만원/m2)']"
   ]
  },
  {
   "cell_type": "code",
   "execution_count": null,
   "metadata": {},
   "outputs": [],
   "source": [
    "dd = pd.DataFrame()\n",
    "dd['읍면동'] = count_1712['시군구']\n",
    "dd['17년 12월 변화율'] = count_1712['변화율']\n",
    "dd"
   ]
  },
  {
   "cell_type": "code",
   "execution_count": null,
   "metadata": {},
   "outputs": [],
   "source": [
    "dd.loc[6,'17년 12월 변화율']= np.nan #inf 값 변경"
   ]
  },
  {
   "cell_type": "code",
   "execution_count": null,
   "metadata": {},
   "outputs": [],
   "source": [
    "# 지도에 tolltip위한 정보 추가\n",
    "for idx, sigun_dict in enumerate(df32['features']):\n",
    "    name = sigun_dict['properties']['ADM_DR_NM']\n",
    "    ratio = str(list(dd.loc[(dd.읍면동 == name), '17년 12월 변화율']))\n",
    "    ratio= ratio.replace(\"[\",\"\")\n",
    "    ratio= ratio.replace(\"]\",\"\")\n",
    "    txt = f'<b><h4>{name}</h4></b>17년 12월 변화율 : {ratio}<br>'\n",
    "    df32['features'][idx]['properties']['tooltip1']= txt"
   ]
  },
  {
   "cell_type": "code",
   "execution_count": null,
   "metadata": {},
   "outputs": [],
   "source": [
    "# 지도 실행 코드\n",
    "m = folium.Map(\n",
    "        location=[36.5454475,127.2586156], # 지도의 정 중앙지점을 표시\n",
    "        zoom_start=10.3 # 초기 줌의 정도 설정\n",
    "    )\n",
    "map_base()"
   ]
  },
  {
   "cell_type": "code",
   "execution_count": null,
   "metadata": {},
   "outputs": [],
   "source": [
    "# 변화율 별로 지도 시각화 코드\n",
    "choropleth = folium.Choropleth(\n",
    "    geo_data=df32,\n",
    "    data = dd,\n",
    "    fill_color='Reds',\n",
    "    nan_fill_color ='#f0f0f0',\n",
    "    fill_opacity=1,\n",
    "    line_opacity = 1,\n",
    "    columns=('읍면동', '17년 12월 변화율'),\n",
    "    key_on='feature.properties.ADM_DR_NM',\n",
    "    legend_name='17년 12월 변화율',\n",
    "    name='실거래가 정보',\n",
    "#     bins=bins_gyungi,\n",
    "    highlight=True\n",
    ").add_to(m)\n",
    "\n",
    "\n",
    "choropleth.geojson.add_child(folium.features.GeoJsonTooltip(['tooltip1'], labels=False,style=('background-color: #eeeeee; opacity:1; color: black;')\n",
    "        ))\n",
    "\n",
    "get_line()  # 행복동 표시"
   ]
  },
  {
   "cell_type": "code",
   "execution_count": null,
   "metadata": {},
   "outputs": [],
   "source": [
    "m"
   ]
  },
  {
   "cell_type": "code",
   "execution_count": null,
   "metadata": {},
   "outputs": [],
   "source": [
    "# 지도로 저장 \n",
    "m.save('map_17년 12월 단독다가구(전세)_변화율_실거래가.html')"
   ]
  },
  {
   "cell_type": "markdown",
   "metadata": {},
   "source": [
    "## 3.6 단독다가구(전세) 17년 12월 평균 단위가격"
   ]
  },
  {
   "cell_type": "code",
   "execution_count": null,
   "metadata": {},
   "outputs": [],
   "source": [
    "# 읍면동 별 평균 면적당 금액\n",
    "count_1712 = df9_1712.groupby('시군구',as_index=False).agg({'면적당 금액(만원/m2)':'mean'})\n",
    "# 시각화 위해 읍면동으로 sorting\n",
    "count_1712.sort_values(['시군구'], inplace=True)"
   ]
  },
  {
   "cell_type": "code",
   "execution_count": null,
   "metadata": {},
   "outputs": [],
   "source": [
    "dd = pd.DataFrame()\n",
    "dd['읍면동'] = count_1712['시군구']\n",
    "dd['17년 12월 실거래가'] = count_1712['면적당 금액(만원/m2)']"
   ]
  },
  {
   "cell_type": "code",
   "execution_count": null,
   "metadata": {},
   "outputs": [],
   "source": [
    "for idx, sigun_dict in enumerate(df32['features']):\n",
    "    name = sigun_dict['properties']['ADM_DR_NM']\n",
    "    ratio = str(list(dd.loc[(dd.읍면동 == name), '17년 12월 실거래가']))\n",
    "    ratio= ratio.replace(\"[\",\"\")\n",
    "    ratio= ratio.replace(\"]\",\"\")\n",
    "    \n",
    "    txt = f'<b><h4>{name}</h4></b>17년 12월 실거래가 : {ratio}<br>'\n",
    "    df32['features'][idx]['properties']['tooltip1']= txt"
   ]
  },
  {
   "cell_type": "code",
   "execution_count": null,
   "metadata": {},
   "outputs": [],
   "source": [
    "# 기본 틀\n",
    "m = folium.Map(\n",
    "        location=[36.5454475,127.2586156], # 지도의 정 중앙지점을 표시\n",
    "        zoom_start=10.3 # 초기 줌의 정도 설정\n",
    "    )\n",
    "map_base()"
   ]
  },
  {
   "cell_type": "code",
   "execution_count": null,
   "metadata": {},
   "outputs": [],
   "source": [
    "choropleth = folium.Choropleth(\n",
    "    geo_data=df32,\n",
    "    data = dd,\n",
    "    fill_color='Reds',\n",
    "    nan_fill_color ='#f0f0f0',\n",
    "    fill_opacity=1,\n",
    "    line_opacity = 1,\n",
    "    columns=('읍면동', '17년 12월 실거래가'),\n",
    "    key_on='feature.properties.ADM_DR_NM',\n",
    "    legend_name='17년 12월 실거래가',\n",
    "    name='실거래가 정보',\n",
    "#     bins=bins_gyungi,\n",
    "    highlight=True\n",
    ").add_to(m)\n",
    "\n",
    "\n",
    "choropleth.geojson.add_child(folium.features.GeoJsonTooltip(['tooltip1'], labels=False,style=('background-color: #eeeeee; opacity:1; color: black;')\n",
    "        ))\n",
    "\n",
    "get_line()"
   ]
  },
  {
   "cell_type": "code",
   "execution_count": null,
   "metadata": {},
   "outputs": [],
   "source": [
    "m"
   ]
  },
  {
   "cell_type": "code",
   "execution_count": null,
   "metadata": {},
   "outputs": [],
   "source": [
    "# 지도로 저장 \n",
    "m.save('map_17년 12월 단독다가구(전세)_평균 단위가격_실거래가.html')"
   ]
  },
  {
   "cell_type": "markdown",
   "metadata": {},
   "source": [
    "# 4. 세종시 월세시장 현황"
   ]
  },
  {
   "cell_type": "markdown",
   "metadata": {},
   "source": [
    "## 4.1 세종시 매매가격지수동향\n",
    "\n",
    "- 아파트: 7.세종시_아파트(전월세)_실거래가.csv을 활용하여 세종시 아파트 월세 실거래가에 대한 지수 생성 (반복매매모형)\n",
    "   - df7: 7.세종시_아파트(전월세)_실거래가.csv\n",
    "   \n",
    "   \n",
    " - 단독다가구: 9.세종시_단독다가구(전월세)_실거래가.csv을 활용하여 세종시 월세 단독다가구 실거래가에 대한 지수 생성 (반복매매모형)\n",
    "   - df9: 9.세종시_단독다가구(전월세)_실거래가.csv"
   ]
  },
  {
   "cell_type": "markdown",
   "metadata": {},
   "source": [
    "- 아파트에 대한 매매지수 생성"
   ]
  },
  {
   "cell_type": "code",
   "execution_count": null,
   "metadata": {},
   "outputs": [],
   "source": [
    "apt0 = df7.copy()\n",
    "# 필요 변수 남기기 및 변수명 변경(편의상)\n",
    "apt1 = apt0.drop(['계약일','단지명','건축년도'], axis=1)\n",
    "apt1.rename(columns={'계약년월':'sale_date', '시군구':'address','본번':'bon','부번':'bu','전용면적(㎡)':'m_usearea','보증금(만원)':'deposit','월세(만원)':'rent','층':'floor'},inplace=True)\n",
    "\n",
    "# 동읍면 생성\n",
    "apt1['dongeupmyeon'] = np.nan\n",
    "for i in range(apt1.shape[0]):\n",
    "    apt1.loc[i, 'dongeupmyeon'] = apt1.iloc[i,1][8:]\n",
    "    \n",
    "# 본번, 부번 정리\n",
    "apt1['bon'] = apt1['bon'].astype('object')\n",
    "apt1['bon'] = '000' + apt1['bon']\n",
    "\n",
    "for i in range(apt1.shape[0]):\n",
    "    apt1.loc[i, 'bon'] = apt1.loc[i, 'bon'][-4:]\n",
    "    apt1.loc[i, 'bu'] = ('000'+str(apt1.loc[i, 'bu']))[-4:]\n",
    "\n",
    "# 동일주택가정 및 중위전세용 변수(면적그룹, floor그룹)\n",
    "apt1['floor'] = apt1['floor'].astype('object')\n",
    "for i in apt1.index:\n",
    "    if apt1.loc[i,'m_usearea'] <=40:\n",
    "        apt1.loc[i,'g_area'] ='소형'\n",
    "    elif apt1.loc[i,'m_usearea'] <=60:\n",
    "        apt1.loc[i,'g_area'] ='중소형'\n",
    "    elif apt1.loc[i,'m_usearea'] <=85:\n",
    "        apt1.loc[i,'g_area'] ='중형'\n",
    "    elif apt1.loc[i,'m_usearea'] <=135:\n",
    "        apt1.loc[i,'g_area'] ='중대형'\n",
    "    else:\n",
    "        apt1.loc[i,'g_area'] ='대형'\n",
    "\n",
    "    if apt1.loc[i,'floor'] <=5:\n",
    "        apt1.loc[i,'g_floor'] ='저층'\n",
    "    elif apt1.loc[i,'floor'] <=20:\n",
    "        apt1.loc[i,'g_floor'] ='중층'\n",
    "    else:\n",
    "        apt1.loc[i,'g_floor'] ='고층'\n",
    "        \n",
    "# 동일주택 가정 & 증위전세 match코드 생성 : 동읍면+본번+부번+층그룹+면적\n",
    "for i in range(apt1.shape[0]):\n",
    "    apt1.loc[i, 'matchid'] = str(apt1.loc[i, 'dongeupmyeon']) + '/' + str(apt1.loc[i, 'bon']) + '/' + str(apt1.loc[i, 'bu']) + '/' + str(apt1.loc[i, 'g_floor']) + '/' + str(apt1.loc[i, 'm_usearea'])\n",
    "    apt1.loc[i, 'mid_matchid'] = str(apt1.loc[i, 'sale_date']) + '/' + str(apt1.loc[i, 'dongeupmyeon']) + '/' + str(apt1.loc[i, 'g_area'])\n"
   ]
  },
  {
   "cell_type": "code",
   "execution_count": null,
   "metadata": {
    "scrolled": true
   },
   "outputs": [],
   "source": [
    "#표준월세 산정하기 위한 과정\n",
    "# 읍면동별 전세 median 도출 \n",
    "apt1['deposit']= apt1['deposit'].apply(lambda x: int(x.replace(',','')))\n",
    "deposit_apt = apt1[apt1['전월세구분']=='전세']\n",
    "mid_deposit_apt = deposit_apt.groupby('mid_matchid').agg({'deposit':'median'})\n",
    "mid_deposit_apt.reset_index(inplace=True)\n",
    "mid_deposit_apt.rename(columns={'deposit':'mid_deposit'}, inplace=True)\n",
    "apt2 = pd.merge(apt1,mid_deposit_apt,on='mid_matchid' )\n",
    "apt2_w = apt2[apt2['전월세구분']=='월세']\n",
    "apt2_w['dr_rate'] = apt2_w['deposit']/apt2_w['rent'] # 보증금/월세 비율 산정하여 전세 가까운 데이터 제거\n",
    " # 이창무 외 2인(2020)을 참고하여 보증금/월세 비율 300배 이하만 활용 : 이상치 제거\n",
    "apt2_w = apt2_w[apt2_w['dr_rate'] <=300]\n",
    " # (월세x12)/(중위전세-보증금)을 통해 전월세전환율 산정 : 이창무,이현석,정의철(2020) 참고\n",
    "apt2_w['dr_change'] =(apt2_w['rent'] * 12) / ((apt2_w['mid_deposit'] - apt2_w['deposit']))\n",
    "apt2_w['std_rent'] = apt2_w['deposit'] * apt2_w['dr_change'] /12 + apt2_w['rent'] # 표준월세 산정= 보증금x전월세전환율/12+월세\n",
    "apt2_w['unit_std_rent'] = apt2_w['std_rent']/apt2_w['m_usearea']                  # 단위면적당 월세 산정\n",
    "apt2_w = apt2_w[apt2_w['dr_change']>0] #dr_change 양수인 경우만 추출\n",
    "apt2_w.reset_index(drop=True,inplace=True)"
   ]
  },
  {
   "cell_type": "code",
   "execution_count": null,
   "metadata": {
    "scrolled": true
   },
   "outputs": [],
   "source": [
    "# 거래시점에 1부터 순서대로 숫자부여\n",
    "nmonth = pd.DataFrame(apt2_w['sale_date'].unique(), columns=['sale_date']).reset_index()\n",
    "nmonth = nmonth.rename(columns={'index':'nmonth'})\n",
    "nmonth['nmonth'] += 1\n",
    "\n",
    "# sale_date를 기준으로 apt2과 nmonth1을 병합\n",
    "apt3_w = pd.merge(apt2_w, nmonth, on='sale_date')\n",
    "apt3_w = apt3_w.drop(['address','dongeupmyeon'], axis=1)\n",
    "apt3_w.rename(columns={'bon':'bon1', 'bu':'bu1'}, inplace=True)\n",
    "\n",
    "# 1회 거래 주택 사례 제거\n",
    "apt3_w_n = apt3_w.groupby('matchid').count()\n",
    "apt3_w_n.reset_index(inplace=True)\n",
    "drop_list = list(apt3_w_n[apt3_w_n['sale_date']==1]['matchid'])\n",
    "drop_index = apt3_w[apt3_w['matchid'].apply(lambda x: x in drop_list)].index #408개 1회 거래량\n",
    "apt4_w = apt3_w.drop(drop_index)\n",
    "apt4_w.reset_index(drop=True,inplace=True)\n",
    "apt4_w = apt4_w.sort_values(['matchid', 'nmonth'], ascending=True).reset_index(drop=True)"
   ]
  },
  {
   "cell_type": "code",
   "execution_count": null,
   "metadata": {},
   "outputs": [],
   "source": [
    "# 반복거래쌍 구성\n",
    "for i in range(apt4_w.shape[0]):\n",
    "    apt4_w.loc[i,'log_unit_std_rent'] = math.log(apt4_w.loc[i,'unit_std_rent']) \n",
    "\n",
    "apt4_w['sale_date'] = apt4_w['sale_date'].astype('object')\n",
    "apt4_w['lag_matchid'] = apt4_w['matchid'].shift(1)\n",
    "apt4_w['lag_sale_date'] = apt4_w['sale_date'].shift(1)\n",
    "apt4_w['lag_nmonth'] = apt4_w['nmonth'].shift(1) \n",
    "apt4_w['lag_log_unit_std_rent'] = apt4_w['log_unit_std_rent'].shift(1) \n",
    "\n",
    "# matchid 불일치행 및 시점 동일 행 제거\n",
    "index_list = []\n",
    "\n",
    "for i in range(apt4_w.shape[0]):\n",
    "    if (apt4_w.loc[i,'matchid'] == apt4_w.loc[i,'lag_matchid']):\n",
    "        index_list.append((i))\n",
    "        \n",
    "apt4_w = apt4_w.loc[index_list,:]\n",
    "apt4_w.reset_index(drop=True, inplace=True)\n",
    "\n",
    "# 거래쌍 간 가격차이 계산\n",
    "apt4_w['lnp_growth'] = apt4_w['log_unit_std_rent'] - apt4_w['lag_log_unit_std_rent']\n",
    "apt4_w.dropna(inplace=True) #결측치 제거 (Inp_growth)\n",
    "apt4_w.reset_index(drop=True,inplace=True)\n",
    "\n",
    "# 변수정리\n",
    "index_aptown = apt4_w[['matchid', 'sale_date', 'lag_sale_date', 'lnp_growth']]\n",
    "index_aptown.rename(columns={'lag_sale_date':'pre_sale_date'}, inplace=True)\n",
    "index_aptown.head()"
   ]
  },
  {
   "cell_type": "code",
   "execution_count": null,
   "metadata": {
    "scrolled": true
   },
   "outputs": [],
   "source": [
    "# 시점더미 생성\n",
    "d_time2 = pd.get_dummies(index_aptown['sale_date'], drop_first=True) # 2번째 거래가 일어났으면 1, 안일어났으면 0\n",
    "d_time1 = pd.get_dummies(index_aptown['pre_sale_date'], drop_first=True) # 첫번째 거래가 일어났으면 1, 안일어났으면 0\n",
    "d_time2.to_csv('d_time2.csv', index=False)\n",
    "d_time1.to_csv('d_time1.csv', index=False)\n",
    "\n",
    "d_time2 = pd.read_csv('d_time2.csv')\n",
    "d_time1 = pd.read_csv('d_time1.csv')\n",
    "d_time = d_time2 - d_time1 #2번째 거래 = 1 1번째 거래 = -1 else = 0\n",
    "\n",
    "index_aptown_rs = pd.concat([index_aptown, d_time], axis=1)\n",
    "index_aptown_rs = index_aptown_rs.drop(['matchid', 'sale_date', 'pre_sale_date'], axis=1)\n",
    "# lnp_growth가 무한대로 수렴하는 경우 제외(lnp_growth가 0 이여서 로그를 씌우면 무한대로 )\n",
    "inf_index =index_aptown_rs[index_aptown_rs['lnp_growth'] ==np.Inf].index\n",
    "inf2_index = index_aptown_rs[index_aptown_rs['lnp_growth'] == - np.Inf].index\n",
    "index_aptown_rs.drop(inf_index,inplace=True)\n",
    "index_aptown_rs.drop(inf2_index,inplace=True)\n",
    "index_aptown_rs.reset_index(drop=True,inplace=True)"
   ]
  },
  {
   "cell_type": "code",
   "execution_count": null,
   "metadata": {
    "scrolled": true
   },
   "outputs": [],
   "source": [
    "# OLS 반복매매지수 산정\n",
    "import statsmodels.api as sm\n",
    "\n",
    "X = index_aptown_rs.drop('lnp_growth', axis=1)\n",
    "y = index_aptown_rs['lnp_growth']\n",
    "\n",
    "sejong_apt_model = sm.OLS(y, X,missing='drop')\n",
    "results = sejong_apt_model.fit()\n",
    "results.summary()"
   ]
  },
  {
   "cell_type": "code",
   "execution_count": null,
   "metadata": {},
   "outputs": [],
   "source": [
    "result_sejong_aptown = pd.DataFrame(results.params, columns=['coefficients']).reset_index()\n",
    "nmonth = pd.DataFrame([i for i in range(2,49)], columns=['nmonth'])\n",
    "result_sejong_aptown = pd.concat([result_sejong_aptown, nmonth], axis=1).rename(columns={'index':'sale_date'})\n",
    "\n",
    "for i in range(result_sejong_aptown.shape[0]):\n",
    "    result_sejong_aptown.loc[i,'apt_index'] = math.exp(result_sejong_aptown.loc[i,'coefficients']) * 100\n",
    "\n",
    "result_sejong_aptown['pre_index'] = result_sejong_aptown['apt_index'].shift(1)\n",
    "# result_sejong_aptown.iloc[0,4] = 100\n",
    "result_sejong_aptown['rate_aptindex'] = ((result_sejong_aptown['apt_index'] / result_sejong_aptown['pre_index']) - 1) * 100\n",
    "# 년월 통일\n",
    "result_sejong_aptown['sale_date'] =result_sejong_aptown['sale_date'].apply(lambda x: x[2:][:2]+'.'+x[2:][2:])\n",
    "result_sejong_aptown"
   ]
  },
  {
   "cell_type": "markdown",
   "metadata": {},
   "source": [
    "- 단독다가구에 대한 월세지수 산정"
   ]
  },
  {
   "cell_type": "code",
   "execution_count": null,
   "metadata": {},
   "outputs": [],
   "source": [
    "# 단독다가구(전월세) 데이터 불러오기\n",
    "df9 = pd.read_csv('9.세종시_단독다가구(전월세)_실거래가.csv', encoding='utf-8')\n",
    "dd0 = df9.copy()\n",
    "\n",
    "# 필요 변수 남기기 및 변수명 변경(편의상)\n",
    "dd1_nown = dd0.drop(['계약일','건축년도'], axis=1)\n",
    "dd1_nown.rename(columns={'계약년월':'sale_date', '시군구' :'address','계약면적(㎡)':'m_area','보증금(만원)':'deposit','월세(만원)':'rent'},inplace=True)\n",
    "\n",
    "\n",
    "# 동읍면 생성 및 본번, 부번 정리\n",
    "dd1_nown['dongeupmyeon'] = np.nan\n",
    "for i in range(dd1_nown.shape[0]):\n",
    "    dd1_nown.loc[i, 'dongeupmyeon'] = dd1_nown.iloc[i,1][8:]\n",
    "# 동일주택가정 및 중위전세용 변수\n",
    "dd1_nown['matchid'] =dd1_nown['dongeupmyeon']\n",
    "\n",
    "dd1_nown['deposit']= dd1_nown['deposit'].apply(lambda x: int(x.replace(',','')))\n",
    "deposit_apt = dd1_nown[dd1_nown['전월세구분']=='전세']\n",
    "deposit_apt =deposit_apt[['sale_date','deposit','matchid']]\n",
    "mid_deposit_dd = deposit_apt.groupby('matchid').agg({'deposit':'median'})\n",
    "mid_deposit_dd.reset_index(inplace=True)\n",
    "mid_deposit_dd.rename(columns={'deposit':'mid_deposit'}, inplace=True)"
   ]
  },
  {
   "cell_type": "code",
   "execution_count": null,
   "metadata": {},
   "outputs": [],
   "source": [
    "dd2_nown = pd.merge(dd1_nown,mid_deposit_dd,on='matchid' )\n",
    "\n",
    "dd2_w = dd2_nown[dd2_nown['전월세구분']=='월세']\n",
    "dd2_w['dr_rate'] = dd2_w['deposit']/dd2_w['rent'] # 보증금/월세 비율 산정하여 전세 가까운 데이터 제거\n",
    "\n",
    " # 이창무 외 2인(2020)을 참고하여 보증금/월세 비율 300배 이하만 활용 : 이상치 제거\n",
    "dd2_w = dd2_w[dd2_w['dr_rate'] <=300]\n",
    " # (월세x12)/(중위전세-보증금)을 통해 전월세전환율 산정 : 이창무,이현석,정의철(2002) 참고\n",
    "dd2_w['dr_change'] =(dd2_w['rent'] * 12) / ((dd2_w['mid_deposit'] - dd2_w['deposit']))\n",
    "dd2_w['std_rent'] = dd2_w['deposit'] * dd2_w['dr_change'] /12 + dd2_w['rent'] # 표준월세 산정= 보증금x전월세전환율/12+월세\n",
    "dd2_w['unit_std_rent'] = dd2_w['std_rent']/dd2_w['m_area']                  # 단위면적당 월세 산정\n",
    "dd2_w = dd2_w[dd2_w['dr_change']>0] #dr_change 양수인 경우만 추출\n",
    "dd2_w.reset_index(drop=True,inplace=True)"
   ]
  },
  {
   "cell_type": "code",
   "execution_count": null,
   "metadata": {
    "scrolled": true
   },
   "outputs": [],
   "source": [
    "# 거래시점에 1부터 순서대로 숫자부여\n",
    "nmonth = pd.DataFrame(dd2_w['sale_date'].unique(), columns=['sale_date']).reset_index()\n",
    "nmonth = nmonth.rename(columns={'index':'nmonth'})\n",
    "nmonth['nmonth'] += 1\n",
    "# sale_date를 기준으로 apt2과 nmonth1을 병합\n",
    "dd3_w = pd.merge(dd2_w, nmonth, on='sale_date')\n",
    "dd3_w = dd3_w.drop(['address','dongeupmyeon'], axis=1)\n",
    "dd3_w.rename(columns={'bon':'bon1', 'bu':'bu1'}, inplace=True)\n",
    "\n",
    "\n",
    "# 1회 거래 주택 사례 제거\n",
    "apt3_w_n = dd3_w.groupby('matchid').count()\n",
    "apt3_w_n.reset_index(inplace=True)\n",
    "drop_list = list(apt3_w_n[apt3_w_n['sale_date']==1]['matchid'])\n",
    "drop_index = dd3_w[dd3_w['matchid'].apply(lambda x: x in drop_list)].index #408개 1회 거래량\n",
    "apt4_w = dd3_w.drop(drop_index)\n",
    "apt4_w.reset_index(drop=True,inplace=True)\n",
    "apt4_w = apt4_w.sort_values(['matchid', 'nmonth'], ascending=True).reset_index(drop=True)\n"
   ]
  },
  {
   "cell_type": "code",
   "execution_count": null,
   "metadata": {},
   "outputs": [],
   "source": [
    "for i in range(apt4_w.shape[0]):\n",
    "    apt4_w.loc[i,'log_unit_std_rent'] = math.log(apt4_w.loc[i,'unit_std_rent']) \n",
    "\n",
    "apt4_w['sale_date'] = apt4_w['sale_date'].astype('object')\n",
    "apt4_w['lag_matchid'] = apt4_w['matchid'].shift(1)\n",
    "apt4_w['lag_sale_date'] = apt4_w['sale_date'].shift(1)\n",
    "apt4_w['lag_nmonth'] = apt4_w['nmonth'].shift(1) \n",
    "apt4_w['lag_log_unit_std_rent'] = apt4_w['log_unit_std_rent'].shift(1) "
   ]
  },
  {
   "cell_type": "code",
   "execution_count": null,
   "metadata": {
    "scrolled": true
   },
   "outputs": [],
   "source": [
    "# matchid 불일치행 및 시점 동일 행 제거\n",
    "index_list = []\n",
    "\n",
    "for i in range(apt4_w.shape[0]):\n",
    "    if (apt4_w.loc[i,'matchid'] == apt4_w.loc[i,'lag_matchid']):\n",
    "        index_list.append((i))\n",
    "        \n",
    "apt4_w = apt4_w.loc[index_list,:]\n",
    "apt4_w.reset_index(drop=True, inplace=True)\n",
    "\n",
    "# 거래쌍 간 가격차이 계산\n",
    "apt4_w['lnp_growth'] = apt4_w['log_unit_std_rent'] - apt4_w['lag_log_unit_std_rent']\n",
    "apt4_w.dropna(inplace=True) #결측치 제거 (Inp_growth)\n",
    "apt4_w.reset_index(drop=True,inplace=True)\n",
    "\n",
    "# 변수정리\n",
    "index_aptown = apt4_w[['matchid', 'sale_date', 'lag_sale_date', 'lnp_growth']]\n",
    "index_aptown.rename(columns={'lag_sale_date':'pre_sale_date'}, inplace=True)\n",
    "index_aptown"
   ]
  },
  {
   "cell_type": "code",
   "execution_count": null,
   "metadata": {},
   "outputs": [],
   "source": [
    "# 시점더미 생성\n",
    "d_time2 = pd.get_dummies(index_aptown['sale_date'], drop_first=True) # 2번째 거래가 일어났으면 1, 안일어났으면 0\n",
    "d_time1 = pd.get_dummies(index_aptown['pre_sale_date'], drop_first=True) # 첫번째 거래가 일어났으면 1, 안일어났으면 0\n",
    "d_time2.to_csv('d_time2.csv', index=False)\n",
    "d_time1.to_csv('d_time1.csv', index=False)\n",
    "\n",
    "d_time2 = pd.read_csv('d_time2.csv')\n",
    "d_time1 = pd.read_csv('d_time1.csv')\n",
    "d_time = d_time2 - d_time1 #2번째 거래 = 1 1번째 거래 = -1 else = 0\n",
    "\n",
    "index_ddtown_rs = pd.concat([index_aptown, d_time], axis=1)\n",
    "index_ddtown_rs = index_ddtown_rs.drop(['matchid', 'sale_date', 'pre_sale_date'], axis=1)\n",
    "# lnp_growth가 무한대로 수렴하는 경우 제외(lnp_growth가 0 이여서 로그를 씌우면 무한대로 )\n",
    "inf_index =index_ddtown_rs[index_ddtown_rs['lnp_growth'] ==np.Inf].index\n",
    "inf2_index = index_ddtown_rs[index_ddtown_rs['lnp_growth'] == - np.Inf].index\n",
    "index_ddtown_rs.drop(inf_index,inplace=True)\n",
    "index_ddtown_rs.drop(inf2_index,inplace=True)\n",
    "index_ddtown_rs.reset_index(drop=True,inplace=True)"
   ]
  },
  {
   "cell_type": "code",
   "execution_count": null,
   "metadata": {
    "scrolled": true
   },
   "outputs": [],
   "source": [
    "# OLS 반복매매지수 산정\n",
    "import statsmodels.api as sm\n",
    "\n",
    "X = index_ddtown_rs.drop('lnp_growth', axis=1)\n",
    "y = index_ddtown_rs['lnp_growth']\n",
    "\n",
    "sejong_dd_model = sm.OLS(y, X,missing='drop')\n",
    "results = sejong_dd_model.fit()\n",
    "results.summary()"
   ]
  },
  {
   "cell_type": "code",
   "execution_count": null,
   "metadata": {},
   "outputs": [],
   "source": [
    "result_sejong_dd = pd.DataFrame(results.params, columns=['coefficients']).reset_index()\n",
    "nmonth = pd.DataFrame([i for i in range(2,49)], columns=['nmonth'])\n",
    "result_sejong_dd = pd.concat([result_sejong_dd, nmonth], axis=1).rename(columns={'index':'sale_date'})\n",
    "for i in range(result_sejong_dd.shape[0]):\n",
    "    result_sejong_dd.loc[i,'dd_index'] = math.exp(result_sejong_dd.loc[i,'coefficients']) * 100\n",
    "\n",
    "result_sejong_dd['pre_index'] = result_sejong_dd['dd_index'].shift(1)\n",
    "# result_sejong_aptown.iloc[0,4] = 100\n",
    "result_sejong_dd['rate_aptindex'] = ((result_sejong_dd['dd_index'] / result_sejong_dd['pre_index']) - 1) * 100\n",
    "result_sejong_dd['sale_date'] =result_sejong_dd['sale_date'].apply(lambda x: x[2:][:2]+'.'+x[2:][2:])\n",
    "result_sejong_dd"
   ]
  },
  {
   "cell_type": "code",
   "execution_count": null,
   "metadata": {},
   "outputs": [],
   "source": [
    "# 월세 가격지수 시각화\n",
    "fig = go.Figure(data=[\n",
    "   go.Bar(x = junggong.년월, y = junggong.loc[:,'세종'], name= '준공실적(우)', marker_color='black', opacity=0.1, yaxis='y1'),\n",
    "   go.Scatter(x = result_sejong_aptown.sale_date, y = result_sejong_aptown.loc[:,'apt_index'], name= '아파트(좌)', yaxis='y2', line_color='green'),\n",
    "   go.Scatter(x = result_sejong_dd.sale_date, y = result_sejong_dd.loc[:,'dd_index'], name= '단독다가구(좌)', yaxis='y2', line_color='orange')])\n",
    "    \n",
    "fig.update_layout(\n",
    "    title=\"세종시 월세가격지수\",\n",
    "    xaxis_title=\"\",\n",
    "    yaxis_title=\"\",\n",
    "    legend_title=''\n",
    "    )\n",
    "\n",
    "fig.update_layout(\n",
    "    title={\n",
    "        'text': \"세종시 월세가격지수\",\n",
    "        'y':0.9,\n",
    "        'x':0.5,\n",
    "        'xanchor': 'center',\n",
    "        'yanchor': 'top'\n",
    "    },\n",
    "    yaxis1=dict(side='right', \n",
    "                ticksuffix=\"건\",\n",
    "                tickformat=',',\n",
    "                dtick=2000,\n",
    "                range=[0,10000]),\n",
    "    \n",
    "    yaxis2=dict(side='left', \n",
    "                tickformat = 'digit', \n",
    "                overlaying='y',\n",
    "               dtick=20,\n",
    "               range=[60,300]),\n",
    "    legend=dict(traceorder='reversed', x=1.1, y=1))\n",
    "\n",
    "\n",
    "fig.update_xaxes(tickangle = 315,\n",
    "                dtick=2)\n",
    "\n",
    "fig.show()"
   ]
  },
  {
   "cell_type": "markdown",
   "metadata": {},
   "source": [
    "## 4.2 세종시 전월세전환율 (아파트, 단독다가구)"
   ]
  },
  {
   "cell_type": "code",
   "execution_count": null,
   "metadata": {},
   "outputs": [],
   "source": [
    "# 월별 전월세전환율(지번-면적그룹별 중위값)\n",
    "mid_drchange_apt = apt2_w.groupby('sale_date').agg({'dr_change':'median'}) *100\n",
    "mid_drchange_apt.reset_index(inplace=True)\n",
    "mid_drchange_dd = dd2_w.groupby('sale_date').agg({'dr_change':'median'})*100\n",
    "mid_drchange_dd.reset_index(inplace=True)\n"
   ]
  },
  {
   "cell_type": "code",
   "execution_count": null,
   "metadata": {},
   "outputs": [],
   "source": [
    "# 시각화 위해 dtype 변경 (int -> str)\n",
    "mid_drchange_apt['sale_date'] = mid_drchange_apt['sale_date'].astype('str')\n",
    "mid_drchange_apt['sale_date'] = mid_drchange_apt['sale_date'].apply(lambda x: x[2:][:2]+'.'+x[2:][2:])\n",
    "mid_drchange_dd['sale_date'] = mid_drchange_dd['sale_date'].astype('str')\n",
    "mid_drchange_dd['sale_date'] = mid_drchange_dd['sale_date'].apply(lambda x: x[2:][:2]+'.'+x[2:][2:])"
   ]
  },
  {
   "cell_type": "code",
   "execution_count": null,
   "metadata": {},
   "outputs": [],
   "source": [
    "trace1 = go.Scatter(x = mid_drchange_apt['sale_date'], y = mid_drchange_apt['dr_change'], mode = 'lines+markers', name = '아파트')\n",
    "trace2 = go.Scatter(x = mid_drchange_dd['sale_date'], y = mid_drchange_dd['dr_change'], mode = 'lines+markers', name = '단독다가구')\n",
    "data = [trace1, trace2]\n",
    "layout = go.Layout(title=\"세종시 전월세전환율\", titlefont=dict(size=25, color='#ED4C67'))\n",
    "fig = go.Figure(data=data, layout = layout)\n",
    "\n",
    "fig.update_layout(\n",
    "    title='세종시 전월세전환율',\n",
    "    xaxis_title=\"연도\",\n",
    "    yaxis_title=\"퍼센트(%)\",yaxis_tickformat = ',')\n",
    "\n",
    "fig.update_xaxes(tickangle = 315,\n",
    "                dtick=2)\n",
    "fig.show()"
   ]
  },
  {
   "cell_type": "markdown",
   "metadata": {},
   "source": [
    "## 4.3 월세 거래 동향\n",
    "\n",
    "### 4.3.1 아파트 월세 거래량\n",
    "\n",
    "- df7_month : 아파트 월세"
   ]
  },
  {
   "cell_type": "code",
   "execution_count": null,
   "metadata": {},
   "outputs": [],
   "source": [
    "count_df7_month = df7_month.groupby('계약년월',as_index=False).agg({'전월세구분':'count'})\n",
    "count_df7_month['계약년월'] =count_df7_month['계약년월'].astype('str')\n",
    "count_df7_month['계약년월'] =count_df7_month['계약년월'].apply(lambda x: x[2:][:2]+'.'+x[2:][2:])"
   ]
  },
  {
   "cell_type": "code",
   "execution_count": null,
   "metadata": {},
   "outputs": [],
   "source": [
    "fig = go.Figure()\n",
    "\n",
    "fig.add_trace(\n",
    "    go.Bar(x=count_df7_month['계약년월'],y=count_df7_month['전월세구분'], name= '거래량(좌)', yaxis='y1'))\n",
    "fig.update_layout(\n",
    "    title={\n",
    "        'text': \"세종시 아파트 월세 거래량\",\n",
    "        'y':0.9,\n",
    "        'x':0.5,\n",
    "        'xanchor': 'center',\n",
    "        'yanchor': 'top'\n",
    "    },\n",
    "    yaxis1=dict(side='left', dtick=500,range=[0,2500]),    \n",
    "    legend=dict(traceorder='reversed', x=1.05, y=1),\n",
    "    xaxis_title=\"계약년월\",\n",
    "    yaxis_title=\"건 수(건)\",yaxis_tickformat = ',')\n",
    "\n",
    "fig.update_xaxes(tickangle = 315, dtick=2)\n",
    "\n",
    "fig.show()"
   ]
  },
  {
   "cell_type": "markdown",
   "metadata": {},
   "source": [
    "### 4.3.2 읍면동별 연도별 아파트 월세 거래량"
   ]
  },
  {
   "cell_type": "code",
   "execution_count": null,
   "metadata": {},
   "outputs": [],
   "source": [
    "df7_2017 = df7_month[df7_month['계약년월'].apply(lambda x:  x<201801)]\n",
    "df7_2018 = df7_month[df7_month['계약년월'].apply(lambda x:  201712<x<201901)]\n",
    "df7_2019 = df7_month[df7_month['계약년월'].apply(lambda x:  201812<x<202001)]\n",
    "df7_2020 = df7_month[df7_month['계약년월'].apply(lambda x:  201912<x)]\n",
    "\n",
    "count_2017 = df7_2017.groupby('시군구',as_index=False).agg({'전월세구분':'count'})\n",
    "count_2018 = df7_2018.groupby('시군구',as_index=False).agg({'전월세구분':'count'})\n",
    "count_2019 = df7_2019.groupby('시군구',as_index=False).agg({'전월세구분':'count'})\n",
    "count_2020 = df7_2020.groupby('시군구',as_index=False).agg({'전월세구분':'count'})"
   ]
  },
  {
   "cell_type": "code",
   "execution_count": null,
   "metadata": {},
   "outputs": [],
   "source": [
    "diff1 = set(dong_list) - set(count_2017['시군구'])\n",
    "print(\"17년 거래 0인 지역\" ,diff1)\n",
    "diff2 = set(dong_list) - set(count_2018['시군구'])\n",
    "print(\"18년 거래 0인 지역\" ,diff2)\n",
    "diff3 = set(dong_list) - set(count_2019['시군구'])\n",
    "print(\"19년 거래 0인 지역\" ,diff3)\n",
    "diff4 = set(dong_list) - set(count_2020['시군구'])\n",
    "print(\"20년 거래 0인 지역\" ,diff4)\n",
    "\n",
    "for i in diff1:\n",
    "    count_2017 = count_2017.append({'시군구' :f'{i}', '전월세구분':0}, ignore_index=True)\n",
    "for i in diff2:\n",
    "    count_2018 = count_2018.append({'시군구' :f'{i}', '전월세구분':0}, ignore_index=True)\n",
    "for i in diff3:\n",
    "    count_2019 = count_2019.append({'시군구' :f'{i}', '전월세구분':0}, ignore_index=True)\n",
    "for i in diff4:\n",
    "    count_2020 = count_2020.append({'시군구' :f'{i}', '전월세구분':0}, ignore_index=True)\n",
    "    \n",
    "# 시각화 위해 시군구 가나다 순 정렬# 시각화 위해 시군구 가나다 순 정렬\n",
    "count_2017.sort_values(['시군구'], inplace=True)\n",
    "count_2018.sort_values(['시군구'], inplace=True)\n",
    "count_2019.sort_values(['시군구'], inplace=True)\n",
    "count_2020.sort_values(['시군구'], inplace=True)\n",
    "count_2017.reset_index(drop=True, inplace=True)\n",
    "count_2018.reset_index(drop=True, inplace=True)\n",
    "count_2019.reset_index(drop=True, inplace=True)\n",
    "count_2020.reset_index(drop=True, inplace=True)"
   ]
  },
  {
   "cell_type": "code",
   "execution_count": null,
   "metadata": {},
   "outputs": [],
   "source": [
    "import plotly.graph_objects as go\n",
    "region=list(count_2017['시군구'])\n",
    "fig = go.Figure(data=[\n",
    "    go.Bar(name='2017년', x=region, y=[count_2017['전월세구분'][0],count_2017['전월세구분'][1], count_2017['전월세구분'][2], count_2017['전월세구분'][3],count_2017['전월세구분'][4],count_2017['전월세구분'][5], count_2017['전월세구분'][6], count_2017['전월세구분'][7],count_2017['전월세구분'][8],count_2017['전월세구분'][9], count_2017['전월세구분'][10], count_2017['전월세구분'][11],count_2017['전월세구분'][12],count_2017['전월세구분'][13], count_2017['전월세구분'][14], count_2017['전월세구분'][15],count_2017['전월세구분'][16],count_2017['전월세구분'][17], count_2017['전월세구분'][18]]),\n",
    "    go.Bar(name='2018년', x=region, y=[count_2018['전월세구분'][0],count_2018['전월세구분'][1], count_2018['전월세구분'][2], count_2018['전월세구분'][3],count_2018['전월세구분'][4],count_2018['전월세구분'][5], count_2018['전월세구분'][6], count_2018['전월세구분'][7],count_2018['전월세구분'][8],count_2018['전월세구분'][9], count_2018['전월세구분'][10], count_2018['전월세구분'][11],count_2018['전월세구분'][12],count_2018['전월세구분'][13], count_2018['전월세구분'][14], count_2018['전월세구분'][15],count_2018['전월세구분'][16],count_2018['전월세구분'][17], count_2018['전월세구분'][18]]),\n",
    "    go.Bar(name='2019년', x=region, y=[count_2019['전월세구분'][0],count_2019['전월세구분'][1], count_2019['전월세구분'][2], count_2019['전월세구분'][3],count_2019['전월세구분'][4],count_2019['전월세구분'][5], count_2019['전월세구분'][6], count_2019['전월세구분'][7],count_2019['전월세구분'][8],count_2019['전월세구분'][9], count_2019['전월세구분'][10], count_2019['전월세구분'][11],count_2019['전월세구분'][12],count_2019['전월세구분'][13], count_2019['전월세구분'][14], count_2019['전월세구분'][15],count_2019['전월세구분'][16],count_2019['전월세구분'][17], count_2019['전월세구분'][18]]),\n",
    "    go.Bar(name='2020년', x=region, y=[count_2020['전월세구분'][0],count_2020['전월세구분'][1], count_2020['전월세구분'][2], count_2020['전월세구분'][3],count_2020['전월세구분'][4],count_2020['전월세구분'][5], count_2020['전월세구분'][6], count_2020['전월세구분'][7],count_2020['전월세구분'][8],count_2020['전월세구분'][9], count_2020['전월세구분'][10], count_2020['전월세구분'][11],count_2020['전월세구분'][12],count_2020['전월세구분'][13], count_2020['전월세구분'][14], count_2020['전월세구분'][15],count_2020['전월세구분'][16],count_2020['전월세구분'][17], count_2020['전월세구분'][18]]),\n",
    "])\n",
    "# Change the bar mode\n",
    "fig.update_layout(barmode='group',  title='읍면동별 아파트 월세 거래량 분포', \n",
    "                 xaxis_title=\"읍면동\",yaxis_title=\"거래량 (건)\",yaxis_tickformat = ','\n",
    "                 ,yaxis1=dict(side='left', dtick=400,range=[0,2000]))\n",
    "\n",
    "fig.show()"
   ]
  },
  {
   "cell_type": "markdown",
   "metadata": {},
   "source": [
    "### 4.3.3 단독다가구 월세 거래량"
   ]
  },
  {
   "cell_type": "code",
   "execution_count": null,
   "metadata": {},
   "outputs": [],
   "source": [
    "count_df9_month = df9_month.groupby('계약년월',as_index=False).agg({'계약일':'count'})\n",
    "count_df9_month['계약년월'] =count_df9_month['계약년월'].astype('str')\n",
    "count_df9_month['계약년월'] =count_df9_month['계약년월'].apply(lambda x: x[2:][:2]+'.'+x[2:][2:])"
   ]
  },
  {
   "cell_type": "code",
   "execution_count": null,
   "metadata": {},
   "outputs": [],
   "source": [
    "fig = go.Figure()\n",
    "\n",
    "fig.add_trace(\n",
    "    go.Bar(x=count_df9_month['계약년월'],y=count_df9_month['계약일'], name= '거래량(좌)', yaxis='y1'))\n",
    "fig.update_layout(\n",
    "    title={\n",
    "        'text': \"세종시 단독다가구 월세 거래량\",\n",
    "        'y':0.9,\n",
    "        'x':0.5,\n",
    "        'xanchor': 'center',\n",
    "        'yanchor': 'top'\n",
    "    },\n",
    "    yaxis1=dict(side='left', dtick=500,range=[0,2500]),    \n",
    "    legend=dict(traceorder='reversed', x=1.05, y=1),\n",
    "    xaxis_title=\"계약년월\",\n",
    "    yaxis_title=\"건 수(건)\",yaxis_tickformat = ',')\n",
    "\n",
    "fig.update_xaxes(tickangle = 315, dtick=2)\n",
    "\n",
    "fig.show()"
   ]
  },
  {
   "cell_type": "markdown",
   "metadata": {},
   "source": [
    "### 4.3.4 읍면동별 연도별 단독다가구 월세 거래량¶"
   ]
  },
  {
   "cell_type": "code",
   "execution_count": null,
   "metadata": {},
   "outputs": [],
   "source": [
    "# 연도별 분리\n",
    "df9_2017 = df9_month[df9_month['계약년월'].apply(lambda x:  x<201801)]\n",
    "df9_2018 = df9_month[df9_month['계약년월'].apply(lambda x:  201712<x<201901)]\n",
    "df9_2019 = df9_month[df9_month['계약년월'].apply(lambda x:  201812<x<202001)]\n",
    "df9_2020 = df9_month[df9_month['계약년월'].apply(lambda x:  201912<x)]\n",
    "\n",
    "count_2017 = df9_2017.groupby('시군구',as_index=False).agg({'전월세구분':'count'})\n",
    "count_2018 = df9_2018.groupby('시군구',as_index=False).agg({'전월세구분':'count'})\n",
    "count_2019 = df9_2019.groupby('시군구',as_index=False).agg({'전월세구분':'count'})\n",
    "count_2020 = df9_2020.groupby('시군구',as_index=False).agg({'전월세구분':'count'})"
   ]
  },
  {
   "cell_type": "code",
   "execution_count": null,
   "metadata": {},
   "outputs": [],
   "source": [
    "diff1 = set(dong_list) - set(count_2017['시군구'])\n",
    "print(\"17년 거래 0인 지역\" ,diff1)\n",
    "diff2 = set(dong_list) - set(count_2018['시군구'])\n",
    "print(\"18년 거래 0인 지역\" ,diff2)\n",
    "diff3 = set(dong_list) - set(count_2019['시군구'])\n",
    "print(\"19년 거래 0인 지역\" ,diff3)\n",
    "diff4 = set(dong_list) - set(count_2020['시군구'])\n",
    "print(\"20년 거래 0인 지역\" ,diff4)\n",
    "\n",
    "for i in diff1:\n",
    "    count_2017 = count_2017.append({'시군구' :f'{i}', '전월세구분':0}, ignore_index=True)\n",
    "for i in diff2:\n",
    "    count_2018 = count_2018.append({'시군구' :f'{i}', '전월세구분':0}, ignore_index=True)\n",
    "for i in diff3:\n",
    "    count_2019 = count_2019.append({'시군구' :f'{i}', '전월세구분':0}, ignore_index=True)\n",
    "for i in diff4:\n",
    "    count_2020 = count_2020.append({'시군구' :f'{i}', '전월세구분':0}, ignore_index=True)\n",
    "    \n",
    "# 시각화 위해 시군구 가나다 순 정렬# 시각화 위해 시군구 가나다 순 정렬\n",
    "count_2017.sort_values(['시군구'], inplace=True)\n",
    "count_2018.sort_values(['시군구'], inplace=True)\n",
    "count_2019.sort_values(['시군구'], inplace=True)\n",
    "count_2020.sort_values(['시군구'], inplace=True)\n",
    "count_2017.reset_index(drop=True, inplace=True)\n",
    "count_2018.reset_index(drop=True, inplace=True)\n",
    "count_2019.reset_index(drop=True, inplace=True)\n",
    "count_2020.reset_index(drop=True, inplace=True)"
   ]
  },
  {
   "cell_type": "code",
   "execution_count": null,
   "metadata": {},
   "outputs": [],
   "source": [
    "import plotly.graph_objects as go\n",
    "region=list(count_2017['시군구'])\n",
    "fig = go.Figure(data=[\n",
    "    go.Bar(name='2017년', x=region, y=[count_2017['전월세구분'][0],count_2017['전월세구분'][1], count_2017['전월세구분'][2], count_2017['전월세구분'][3],count_2017['전월세구분'][4],count_2017['전월세구분'][5], count_2017['전월세구분'][6], count_2017['전월세구분'][7],count_2017['전월세구분'][8],count_2017['전월세구분'][9], count_2017['전월세구분'][10], count_2017['전월세구분'][11],count_2017['전월세구분'][12],count_2017['전월세구분'][13], count_2017['전월세구분'][14], count_2017['전월세구분'][15],count_2017['전월세구분'][16],count_2017['전월세구분'][17], count_2017['전월세구분'][18]]),\n",
    "    go.Bar(name='2018년', x=region, y=[count_2018['전월세구분'][0],count_2018['전월세구분'][1], count_2018['전월세구분'][2], count_2018['전월세구분'][3],count_2018['전월세구분'][4],count_2018['전월세구분'][5], count_2018['전월세구분'][6], count_2018['전월세구분'][7],count_2018['전월세구분'][8],count_2018['전월세구분'][9], count_2018['전월세구분'][10], count_2018['전월세구분'][11],count_2018['전월세구분'][12],count_2018['전월세구분'][13], count_2018['전월세구분'][14], count_2018['전월세구분'][15],count_2018['전월세구분'][16],count_2018['전월세구분'][17], count_2018['전월세구분'][18]]),\n",
    "    go.Bar(name='2019년', x=region, y=[count_2019['전월세구분'][0],count_2019['전월세구분'][1], count_2019['전월세구분'][2], count_2019['전월세구분'][3],count_2019['전월세구분'][4],count_2019['전월세구분'][5], count_2019['전월세구분'][6], count_2019['전월세구분'][7],count_2019['전월세구분'][8],count_2019['전월세구분'][9], count_2019['전월세구분'][10], count_2019['전월세구분'][11],count_2019['전월세구분'][12],count_2019['전월세구분'][13], count_2019['전월세구분'][14], count_2019['전월세구분'][15],count_2019['전월세구분'][16],count_2019['전월세구분'][17], count_2019['전월세구분'][18]]),\n",
    "    go.Bar(name='2020년', x=region, y=[count_2020['전월세구분'][0],count_2020['전월세구분'][1], count_2020['전월세구분'][2], count_2020['전월세구분'][3],count_2020['전월세구분'][4],count_2020['전월세구분'][5], count_2020['전월세구분'][6], count_2020['전월세구분'][7],count_2020['전월세구분'][8],count_2020['전월세구분'][9], count_2020['전월세구분'][10], count_2020['전월세구분'][11],count_2020['전월세구분'][12],count_2020['전월세구분'][13], count_2020['전월세구분'][14], count_2020['전월세구분'][15],count_2020['전월세구분'][16],count_2020['전월세구분'][17], count_2020['전월세구분'][18]]),\n",
    "])\n",
    "# Change the bar mode\n",
    "fig.update_layout(barmode='group',  title='읍면동별 단독다가구 월세 거래량 분포', \n",
    "                 xaxis_title=\"읍면동\",yaxis_title=\"거래량 (건)\",yaxis_tickformat = ','\n",
    "                 ,yaxis1=dict(side='left', dtick=400,range=[0,2000]))\n",
    "\n",
    "fig.show()"
   ]
  },
  {
   "cell_type": "markdown",
   "metadata": {},
   "source": [
    "## 4.4 아파트(월세) 변화율  시각화\n",
    "\n",
    "\n",
    "- 20년 5월\n",
    "- apt2_w : 표준월세 데이터 사용 (앞에서 구함)"
   ]
  },
  {
   "cell_type": "code",
   "execution_count": null,
   "metadata": {},
   "outputs": [],
   "source": [
    "# 전월세 전환 후 이상치 제거한 표준월세 데이터\n",
    "target_apt = apt2_w[['address','sale_date','std_rent']]\n",
    "target_apt.columns=['시군구','년월','표준월세']\n",
    "# 읍면동 통일\n",
    "change(target_apt)"
   ]
  },
  {
   "cell_type": "code",
   "execution_count": null,
   "metadata": {},
   "outputs": [],
   "source": [
    "# 날짜 선정\n",
    "apt_2004 = target_apt[target_apt['년월'].apply(lambda x:  x==202004)]\n",
    "apt_2005 = target_apt[target_apt['년월'].apply(lambda x:  x==202005)]\n",
    "\n",
    "# 읍면동 별 평균 면적당 금액\n",
    "count_2004 = apt_2004.groupby('시군구',as_index=False).agg({'표준월세':'mean'})\n",
    "count_2005 = apt_2005.groupby('시군구',as_index=False).agg({'표준월세':'mean'})\n",
    "# 시각화 위해 읍면동으로 sorting\n",
    "count_2004.sort_values(['시군구'], inplace=True)\n",
    "count_2004.reset_index(drop=True, inplace=True)\n",
    "count_2005.sort_values(['시군구'], inplace=True)\n",
    "count_2005.reset_index(drop=True, inplace=True)"
   ]
  },
  {
   "cell_type": "code",
   "execution_count": null,
   "metadata": {},
   "outputs": [],
   "source": [
    "# 해당 시기에 실거래가 없는 경우 0원 부여\n",
    "diff1 = set(dong_list) - set(count_2004['시군구'])\n",
    "print(\"20년 4월 거래 0인 지역\" ,diff1)\n",
    "diff2 = set(dong_list) - set(count_2005['시군구'])\n",
    "print(\"20년 5월 거래 0인 지역\" ,diff2)\n",
    "\n",
    "for i in diff1:\n",
    "    count_2004 = count_2004.append({'시군구' :f'{i}', '표준월세':0}, ignore_index=True)\n",
    "for i in diff2:\n",
    "    count_2005 = count_2005.append({'시군구' :f'{i}', '표준월세':0}, ignore_index=True)\n",
    "    \n",
    "# 20년 4월 대비 5월 변화율 변수 생성 \n",
    "count_2005['변화율'] = (count_2005['표준월세'] - count_2004['표준월세']) / count_2004['표준월세']"
   ]
  },
  {
   "cell_type": "code",
   "execution_count": null,
   "metadata": {},
   "outputs": [],
   "source": [
    "dd = pd.DataFrame()\n",
    "dd['읍면동'] = count_2005['시군구']\n",
    "dd['20년 5월 변화율'] = count_2005['변화율']\n",
    "dd"
   ]
  },
  {
   "cell_type": "code",
   "execution_count": null,
   "metadata": {},
   "outputs": [],
   "source": [
    "dd.loc[13,'20년 5월 변화율']=np.nan #inf 값 변경"
   ]
  },
  {
   "cell_type": "code",
   "execution_count": null,
   "metadata": {},
   "outputs": [],
   "source": [
    "# 지도에 tolltip위한 정보 추가\n",
    "for idx, sigun_dict in enumerate(df32['features']):\n",
    "    name = sigun_dict['properties']['ADM_DR_NM']\n",
    "    ratio = str(list(dd.loc[(dd.읍면동 == name), '20년 5월 변화율']))\n",
    "    ratio= ratio.replace(\"[\",\"\")\n",
    "    ratio= ratio.replace(\"]\",\"\")\n",
    "    txt = f'<b><h4>{name}</h4></b>20년 5월 변화율 : {ratio}<br>'\n",
    "    df32['features'][idx]['properties']['tooltip1']= txt"
   ]
  },
  {
   "cell_type": "code",
   "execution_count": null,
   "metadata": {},
   "outputs": [],
   "source": [
    "# 지도 실행 코드\n",
    "m = folium.Map(\n",
    "        location=[36.5454475,127.2586156], # 지도의 정 중앙지점을 표시\n",
    "        zoom_start=10.3 # 초기 줌의 정도 설정\n",
    "    )\n",
    "map_base()"
   ]
  },
  {
   "cell_type": "code",
   "execution_count": null,
   "metadata": {},
   "outputs": [],
   "source": [
    "# 변화율 별로 지도 시각화 코드\n",
    "choropleth = folium.Choropleth(\n",
    "    geo_data=df32,\n",
    "    data = dd,\n",
    "    fill_color='Reds',\n",
    "    nan_fill_color ='#f0f0f0',\n",
    "    fill_opacity=1,\n",
    "    line_opacity = 1,\n",
    "    columns=('읍면동', '20년 5월 변화율'),\n",
    "    key_on='feature.properties.ADM_DR_NM',\n",
    "    legend_name='20년 5월 변화율',\n",
    "    name='실거래가 정보',\n",
    "#     bins=bins_gyungi,\n",
    "    highlight=True\n",
    ").add_to(m)\n",
    "\n",
    "\n",
    "choropleth.geojson.add_child(folium.features.GeoJsonTooltip(['tooltip1'], labels=False,style=('background-color: #eeeeee; opacity:1; color: black;')\n",
    "        ))\n",
    "\n",
    "get_line()  # 행복동 표시"
   ]
  },
  {
   "cell_type": "code",
   "execution_count": null,
   "metadata": {},
   "outputs": [],
   "source": [
    "m"
   ]
  },
  {
   "cell_type": "code",
   "execution_count": null,
   "metadata": {},
   "outputs": [],
   "source": [
    "# 지도로 저장 \n",
    "m.save('map_20년 5월 아파트(월세)_변화율_실거래가.html')"
   ]
  },
  {
   "cell_type": "markdown",
   "metadata": {},
   "source": [
    "## 4.5 아파트 20년 5월 표준월세 시각화"
   ]
  },
  {
   "cell_type": "code",
   "execution_count": null,
   "metadata": {},
   "outputs": [],
   "source": [
    "target_apt_2005 = target_apt[target_apt['년월']== 202005]\n",
    "target_apt_2005.reset_index(drop=True, inplace=True)\n",
    "target_apt_2005_mean = target_apt_2005.groupby('시군구',as_index=False).agg({'표준월세':'mean'})"
   ]
  },
  {
   "cell_type": "code",
   "execution_count": null,
   "metadata": {},
   "outputs": [],
   "source": [
    "dd = pd.DataFrame()\n",
    "dd['읍면동'] = target_apt_2005_mean['시군구']\n",
    "dd['표준월세'] = target_apt_2005_mean['표준월세']\n",
    "dd"
   ]
  },
  {
   "cell_type": "code",
   "execution_count": null,
   "metadata": {},
   "outputs": [],
   "source": [
    "for idx, sigun_dict in enumerate(df32['features']):\n",
    "    name = sigun_dict['properties']['ADM_DR_NM']\n",
    "    ratio = str(list(dd.loc[(dd.읍면동 == name), '표준월세']))\n",
    "    ratio= ratio.replace(\"[\",\"\")\n",
    "    ratio= ratio.replace(\"]\",\"\")\n",
    "    txt = f'<b><h4>{name}</h4></b>표준월세 : {ratio}<br>'\n",
    "    df32['features'][idx]['properties']['tooltip1']= txt"
   ]
  },
  {
   "cell_type": "code",
   "execution_count": null,
   "metadata": {},
   "outputs": [],
   "source": [
    "# 기본 틀\n",
    "m = folium.Map(\n",
    "        location=[36.5454475,127.2586156], # 지도의 정 중앙지점을 표시\n",
    "        zoom_start=10.3 # 초기 줌의 정도 설정\n",
    "    )\n",
    "\n",
    "map_base()"
   ]
  },
  {
   "cell_type": "code",
   "execution_count": null,
   "metadata": {},
   "outputs": [],
   "source": [
    "choropleth = folium.Choropleth(\n",
    "    geo_data=df32,\n",
    "    data = dd,\n",
    "    fill_color='Reds',\n",
    "    nan_fill_color ='#f0f0f0',\n",
    "    fill_opacity=1,\n",
    "    line_opacity = 1,\n",
    "    columns=('읍면동', '표준월세'),\n",
    "    key_on='feature.properties.ADM_DR_NM',\n",
    "    legend_name='표준월세',\n",
    "    name='월세 정보',\n",
    "#     bins=bins_gyungi,\n",
    "    highlight=True\n",
    ").add_to(m)\n",
    "\n",
    "\n",
    "choropleth.geojson.add_child(folium.features.GeoJsonTooltip(['tooltip1'], labels=False,style=('background-color: #eeeeee; opacity:1; color: black;')\n",
    "        ))\n",
    "\n",
    "get_line()"
   ]
  },
  {
   "cell_type": "code",
   "execution_count": null,
   "metadata": {},
   "outputs": [],
   "source": [
    "m"
   ]
  },
  {
   "cell_type": "code",
   "execution_count": null,
   "metadata": {},
   "outputs": [],
   "source": [
    "# 지도로 저장 \n",
    "m.save('map_20년 5월아파트(월세)_평균표준월세_실거래가.html')"
   ]
  },
  {
   "cell_type": "markdown",
   "metadata": {},
   "source": [
    "## 4.6 단독다가구(월세) 변화율  시각화"
   ]
  },
  {
   "cell_type": "markdown",
   "metadata": {},
   "source": [
    "- 2019년 10월\n",
    "\n",
    "- dd2_w : 표준월세 데이터(앞에서 구함)"
   ]
  },
  {
   "cell_type": "code",
   "execution_count": null,
   "metadata": {},
   "outputs": [],
   "source": [
    "# 전월세 전환 후 이상치 제거한 표준월세 데이터\n",
    "target_dd = dd2_w[['address','sale_date','std_rent']]\n",
    "target_dd.columns=['시군구','년월','표준월세']\n",
    "# 읍면동 통일\n",
    "change(target_dd)"
   ]
  },
  {
   "cell_type": "code",
   "execution_count": null,
   "metadata": {},
   "outputs": [],
   "source": [
    "# 날짜 선정\n",
    "dd_1909 = target_dd[target_dd['년월'].apply(lambda x:  x==201909)]\n",
    "dd_1910 = target_dd[target_dd['년월'].apply(lambda x:  x==201910)]\n",
    "\n",
    "# 읍면동 별 평균 면적당 금액\n",
    "dd_1909 = dd_1909.groupby('시군구',as_index=False).agg({'표준월세':'mean'})\n",
    "dd_1910 = dd_1910.groupby('시군구',as_index=False).agg({'표준월세':'mean'})\n",
    "# 시각화 위해 읍면동으로 sorting\n",
    "dd_1909.sort_values(['시군구'], inplace=True)\n",
    "dd_1909.reset_index(drop=True, inplace=True)\n",
    "dd_1910.sort_values(['시군구'], inplace=True)\n",
    "dd_1910.reset_index(drop=True, inplace=True)"
   ]
  },
  {
   "cell_type": "code",
   "execution_count": null,
   "metadata": {},
   "outputs": [],
   "source": [
    "# 해당 시기에 실거래가 없는 경우 0원 부여\n",
    "diff1 = set(dong_list) - set(dd_1909['시군구'])\n",
    "print(\"19년 10월 거래 0인 지역\" ,diff1)\n",
    "diff2 = set(dong_list) - set(dd_1910['시군구'])\n",
    "print(\"19년 11월 거래 0인 지역\" ,diff2)\n",
    "\n",
    "for i in diff1:\n",
    "    dd_1909 = dd_1909.append({'시군구' :f'{i}', '표준월세':0}, ignore_index=True)\n",
    "for i in diff2:\n",
    "    dd_1910 = dd_1910.append({'시군구' :f'{i}', '표준월세':0}, ignore_index=True)\n",
    "    \n",
    "# 19년 9월 대비 10월 변화율 변수 생성 \n",
    "dd_1910['변화율'] = (dd_1910['표준월세'] - dd_1909['표준월세']) / dd_1909['표준월세']"
   ]
  },
  {
   "cell_type": "code",
   "execution_count": null,
   "metadata": {},
   "outputs": [],
   "source": [
    "dd = pd.DataFrame()\n",
    "dd['읍면동'] = dd_1910['시군구']\n",
    "dd['19년 10월 변화율'] = dd_1910['변화율']\n",
    "dd"
   ]
  },
  {
   "cell_type": "code",
   "execution_count": null,
   "metadata": {},
   "outputs": [],
   "source": [
    "dd.loc[3,'19년 10월 변화율'] = np.nan\n",
    "dd.loc[4,'19년 10월 변화율'] = np.nan\n",
    "dd.loc[5,'19년 10월 변화율'] = np.nan\n",
    "dd.loc[6,'19년 10월 변화율'] = np.nan\n",
    "dd.loc[7,'19년 10월 변화율'] = np.nan"
   ]
  },
  {
   "cell_type": "code",
   "execution_count": null,
   "metadata": {},
   "outputs": [],
   "source": [
    "# 지도에 tolltip위한 정보 추가\n",
    "for idx, sigun_dict in enumerate(df32['features']):\n",
    "    name = sigun_dict['properties']['ADM_DR_NM']\n",
    "    ratio = str(list(dd.loc[(dd.읍면동 == name), '19년 10월 변화율']))\n",
    "    ratio= ratio.replace(\"[\",\"\")\n",
    "    ratio= ratio.replace(\"]\",\"\")\n",
    "    txt = f'<b><h4>{name}</h4></b>19년 10월 변화율 : {ratio}<br>'\n",
    "    df32['features'][idx]['properties']['tooltip1']= txt"
   ]
  },
  {
   "cell_type": "code",
   "execution_count": null,
   "metadata": {},
   "outputs": [],
   "source": [
    "# 지도 실행 코드\n",
    "m = folium.Map(\n",
    "        location=[36.5454475,127.2586156], # 지도의 정 중앙지점을 표시\n",
    "        zoom_start=10.3 # 초기 줌의 정도 설정\n",
    "    )\n",
    "map_base()"
   ]
  },
  {
   "cell_type": "code",
   "execution_count": null,
   "metadata": {},
   "outputs": [],
   "source": [
    "# 변화율 별로 지도 시각화 코드\n",
    "choropleth = folium.Choropleth(\n",
    "    geo_data=df32,\n",
    "    data = dd,\n",
    "    fill_color='Reds',\n",
    "    nan_fill_color ='#f0f0f0',\n",
    "    fill_opacity=1,\n",
    "    line_opacity = 1,\n",
    "    columns=('읍면동', '19년 10월 변화율'),\n",
    "    key_on='feature.properties.ADM_DR_NM',\n",
    "    legend_name='19년 10월 변화율',\n",
    "    name='실거래가 정보',\n",
    "#     bins=bins_gyungi,\n",
    "    highlight=True\n",
    ").add_to(m)\n",
    "\n",
    "\n",
    "choropleth.geojson.add_child(folium.features.GeoJsonTooltip(['tooltip1'], labels=False,style=('background-color: #eeeeee; opacity:1; color: black;')\n",
    "        ))\n",
    "\n",
    "get_line()  # 행복동 표시"
   ]
  },
  {
   "cell_type": "code",
   "execution_count": null,
   "metadata": {},
   "outputs": [],
   "source": [
    "m"
   ]
  },
  {
   "cell_type": "code",
   "execution_count": null,
   "metadata": {},
   "outputs": [],
   "source": [
    "# 지도로 저장 \n",
    "m.save('map_19년 10월 단독다가구(월세)_변화율_실거래가.html')"
   ]
  },
  {
   "cell_type": "markdown",
   "metadata": {},
   "source": [
    "## 4.7 단독다가구 19년 10월 표준월세 시각화"
   ]
  },
  {
   "cell_type": "code",
   "execution_count": null,
   "metadata": {},
   "outputs": [],
   "source": [
    "target_dd_1910 = target_dd[target_dd['년월']== 201910]\n",
    "target_dd_1910.reset_index(drop=True, inplace=True)\n",
    "target_dd_1910_mean = target_dd_1910.groupby('시군구',as_index=False).agg({'표준월세':'mean'})\n",
    "target_dd_1910_mean"
   ]
  },
  {
   "cell_type": "code",
   "execution_count": null,
   "metadata": {},
   "outputs": [],
   "source": [
    "dd = pd.DataFrame()\n",
    "dd['읍면동'] = target_dd_1910_mean['시군구']\n",
    "dd['표준월세'] = target_dd_1910_mean['표준월세']"
   ]
  },
  {
   "cell_type": "code",
   "execution_count": null,
   "metadata": {},
   "outputs": [],
   "source": [
    "dd"
   ]
  },
  {
   "cell_type": "code",
   "execution_count": null,
   "metadata": {},
   "outputs": [],
   "source": [
    "for idx, sigun_dict in enumerate(df32['features']):\n",
    "    name = sigun_dict['properties']['ADM_DR_NM']\n",
    "    ratio = str(list(dd.loc[(dd.읍면동 == name), '표준월세']))\n",
    "    ratio= ratio.replace(\"[\",\"\")\n",
    "    ratio= ratio.replace(\"]\",\"\")\n",
    "    txt = f'<b><h4>{name}</h4></b>표준월세 : {ratio}<br>'\n",
    "    df32['features'][idx]['properties']['tooltip1']= txt"
   ]
  },
  {
   "cell_type": "code",
   "execution_count": null,
   "metadata": {},
   "outputs": [],
   "source": [
    "# 기본 틀\n",
    "m = folium.Map(\n",
    "        location=[36.5454475,127.2586156], # 지도의 정 중앙지점을 표시\n",
    "        zoom_start=10.3 # 초기 줌의 정도 설정\n",
    "    )\n",
    "\n",
    "map_base()"
   ]
  },
  {
   "cell_type": "code",
   "execution_count": null,
   "metadata": {},
   "outputs": [],
   "source": [
    "choropleth = folium.Choropleth(\n",
    "    geo_data=df32,\n",
    "    data = dd,\n",
    "    fill_color='Reds',\n",
    "    nan_fill_color ='#f0f0f0',\n",
    "    fill_opacity=1,\n",
    "    line_opacity = 1,\n",
    "    columns=('읍면동', '표준월세'),\n",
    "    key_on='feature.properties.ADM_DR_NM',\n",
    "    legend_name='표준월세',\n",
    "    name='월세 정보',\n",
    "#     bins=bins_gyungi,\n",
    "    highlight=True\n",
    ").add_to(m)\n",
    "\n",
    "\n",
    "choropleth.geojson.add_child(folium.features.GeoJsonTooltip(['tooltip1'], labels=False,style=('background-color: #eeeeee; opacity:1; color: black;')\n",
    "        ))\n",
    "\n",
    "get_line()"
   ]
  },
  {
   "cell_type": "code",
   "execution_count": null,
   "metadata": {},
   "outputs": [],
   "source": [
    "m"
   ]
  },
  {
   "cell_type": "code",
   "execution_count": null,
   "metadata": {},
   "outputs": [],
   "source": [
    "# 지도로 저장 \n",
    "m.save('map_19년 2월 단독다가구(월세)_평균표준월세_실거래가.html')"
   ]
  }
 ],
 "metadata": {
  "kernelspec": {
   "display_name": "Python 3",
   "language": "python",
   "name": "python3"
  },
  "language_info": {
   "codemirror_mode": {
    "name": "ipython",
    "version": 3
   },
   "file_extension": ".py",
   "mimetype": "text/x-python",
   "name": "python",
   "nbconvert_exporter": "python",
   "pygments_lexer": "ipython3",
   "version": "3.8.5"
  }
 },
 "nbformat": 4,
 "nbformat_minor": 5
}
